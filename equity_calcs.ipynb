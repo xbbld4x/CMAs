{
 "cells": [
  {
   "cell_type": "code",
   "execution_count": 1,
   "metadata": {},
   "outputs": [],
   "source": [
    "import cma_gui as cma\n",
    "import std_dev\n",
    "\n",
    "import pandas as pd"
   ]
  },
  {
   "cell_type": "markdown",
   "metadata": {},
   "source": [
    "# USD"
   ]
  },
  {
   "cell_type": "markdown",
   "metadata": {},
   "source": [
    "## Building Block Returns"
   ]
  },
  {
   "cell_type": "code",
   "execution_count": 13,
   "metadata": {},
   "outputs": [],
   "source": [
    "# Calculate building block asset classes\n",
    "cash = 2.50\n",
    "\n",
    "us_equity_return = cma.val_dict['us_inflation'] + cma.val_dict['us_reg'] + cma.val_dict['us_equity_income'] +\\\n",
    "    cma.val_dict['us_equity_val'] + cma.val_dict['us_equity_buyback']\n",
    "\n",
    "intl_equity_return = cma.val_dict['us_inflation'] + cma.val_dict['gl_exus_reg'] + cma.val_dict['gl_exus_equity_income'] +\\\n",
    "    cma.val_dict['gl_exus_equity_val'] + cma.val_dict['gl_exus_equity_buyback']\n",
    "\n",
    "em_equity_return = cma.val_dict['us_inflation'] + cma.val_dict['em_reg'] + cma.val_dict['em_equity_income'] +\\\n",
    "    cma.val_dict['em_equity_val'] + cma.val_dict['em_equity_buyback']\n",
    "\n",
    "gl_equity_return = (0.55 * us_equity_return) + (0.335 * intl_equity_return) + (0.11 * em_equity_return)"
   ]
  },
  {
   "cell_type": "markdown",
   "metadata": {},
   "source": [
    "## Beta Calcs"
   ]
  },
  {
   "cell_type": "code",
   "execution_count": 3,
   "metadata": {},
   "outputs": [],
   "source": [
    "# Import returns\n",
    "df_returns_us = pd.read_csv('P:\\\\Advisory\\\\Research\\\\Automation\\\\CMAs\\\\Data\\\\combined_returns_us.csv', index_col=0)\n",
    "\n",
    "# Beta references\n",
    "df_beta = df_returns_us.iloc[:6, :].copy(deep=True)\n",
    "df_beta.index = ['Commodities', 'Global Emerging Markets Equity', 'Global Equity',\n",
    "                    'International Developed Equity', 'U.S. Equity', 'U.S. REIT']\n",
    "\n",
    "# Set all values to 0 initially\n",
    "for col in df_beta.columns:\n",
    "    df_beta[col].values[:] = 0\n",
    "    \n",
    "# Set reference asset classes to 1\n",
    "df_beta.loc['Commodities', 'Commodities'] = 1\n",
    "df_beta.loc['Global Emerging Markets Equity', 'Global Emerging Markets Equity'] = 1\n",
    "df_beta.loc['Global Equity', 'Global Equity'] = 1\n",
    "df_beta.loc['International Developed Equity', 'International Developed Equity'] = 1\n",
    "df_beta.loc['U.S. Equity', 'U.S. Equity'] = 1\n",
    "df_beta.loc['U.S. REIT', 'U.S. REIT'] = 1"
   ]
  },
  {
   "cell_type": "code",
   "execution_count": null,
   "metadata": {},
   "outputs": [],
   "source": [
    "# Beta Matrix\n",
    "df_beta_comm = (df_beta.loc['Commodities',:]).dot(std_dev.exp_cov_us).div(std_dev.annual_adj_std_dev_us.loc['Commodities',:].values[0]**2)\n",
    "df_beta_em = (df_beta.loc['Global Emerging Markets Equity',:]).dot(std_dev.exp_cov_us).div(std_dev.annual_adj_std_dev_us.loc['Global Emerging Markets Equity',:].values[0]**2)\n",
    "df_beta_global = (df_beta.loc['Global Equity',:]).dot(std_dev.exp_cov_us).div(std_dev.annual_adj_std_dev_us.loc['Global Equity',:].values[0]**2)\n",
    "df_beta_intl = (df_beta.loc['International Developed Equity',:]).dot(std_dev.exp_cov_us).div(std_dev.annual_adj_std_dev_us.loc['International Developed Equity',:].values[0]**2)\n",
    "df_beta_us = (df_beta.loc['U.S. Equity',:]).dot(std_dev.exp_cov_us).div(std_dev.annual_adj_std_dev_us.loc['U.S. Equity',:].values[0]**2)\n",
    "df_beta_us_reit = (df_beta.loc['U.S. REIT',:]).dot(std_dev.exp_cov_us).div(std_dev.annual_adj_std_dev_us.loc['U.S. REIT',:].values[0]**2)\n",
    "\n",
    "df_beta_reference = pd.concat([df_beta_comm, df_beta_em, df_beta_global, df_beta_intl, df_beta_us, df_beta_us_reit], axis=1)\n",
    "df_beta_reference"
   ]
  },
  {
   "cell_type": "code",
   "execution_count": 5,
   "metadata": {},
   "outputs": [],
   "source": [
    "# Create beta dataframe\n",
    "df_beta_relative_beta = list(filter(None, list({k:v for (k,v) in cma.val_dict.items() if 'equity_us_beta' in k}.values())))\n",
    "df_beta_relative_name = list(filter(None, list({k:v for (k,v) in cma.val_dict.items() if 'equity_us_name' in k}.values())))\n",
    "df_beta_relative = pd.DataFrame(zip(df_beta_relative_name, df_beta_relative_beta), columns =['Asset Class', 'Beta Relative To']).set_index('Asset Class')\n",
    "df_expected_return = df_beta_reference.join(df_beta_relative, how='outer')"
   ]
  },
  {
   "cell_type": "code",
   "execution_count": 6,
   "metadata": {},
   "outputs": [],
   "source": [
    "# Fill in building block returns\n",
    "df_expected_return['Expected Return'] = 'NaN'\n",
    "\n",
    "df_expected_return.loc[['U.S. Equity', 'Global Equity', 'International Developed Equity', 'Global Emerging Markets Equity'], 'Expected Return'] = (\n",
    "    us_equity_return, gl_equity_return, intl_equity_return, em_equity_return)"
   ]
  },
  {
   "cell_type": "code",
   "execution_count": 7,
   "metadata": {},
   "outputs": [],
   "source": [
    "# Fill in beta-relative returns\n",
    "df_expected_return.loc[df_expected_return['Beta Relative To'] == 'Global Emerging Markets Equity', 'Expected Return'] = ((em_equity_return - cash) * df_expected_return['Global Emerging Markets Equity'] + cash)\n",
    "df_expected_return.loc[df_expected_return['Beta Relative To'] == 'Global Equity', 'Expected Return'] = ((gl_equity_return - cash) * df_expected_return['Global Equity'] + cash)\n",
    "df_expected_return.loc[df_expected_return['Beta Relative To'] == 'International Developed Equity', 'Expected Return'] = ((intl_equity_return - cash) * df_expected_return['International Developed Equity'] + cash)\n",
    "df_expected_return.loc[df_expected_return['Beta Relative To'] == 'U.S. Equity', 'Expected Return'] = ((us_equity_return - cash) * df_expected_return['U.S. Equity'] + cash)"
   ]
  },
  {
   "cell_type": "code",
   "execution_count": 8,
   "metadata": {},
   "outputs": [
    {
     "data": {
      "text/plain": [
       "Global Emerging Markets Equity        8.5\n",
       "Global Equity                       6.477\n",
       "International Developed Equity        6.2\n",
       "International Small Cap Equity    6.22351\n",
       "U.S. Equity                           6.3\n",
       "U.S. Large Cap Equity             6.24387\n",
       "U.S. Micro Cap Equity             6.90279\n",
       "U.S. Mid Cap Equity               6.57045\n",
       "U.S. Small Cap Equity              6.9934\n",
       "Name: Expected Return, dtype: object"
      ]
     },
     "execution_count": 8,
     "metadata": {},
     "output_type": "execute_result"
    }
   ],
   "source": [
    "# Finalize expected returns\n",
    "equity_returns_us = df_expected_return.dropna(subset=['Beta Relative To'])\n",
    "equity_returns_us = equity_returns_us.loc[:,'Expected Return']\n",
    "\n",
    "equity_returns_us"
   ]
  },
  {
   "cell_type": "markdown",
   "metadata": {},
   "source": [
    "# NON-USD"
   ]
  },
  {
   "cell_type": "markdown",
   "metadata": {},
   "source": [
    "## Building Block Returns"
   ]
  },
  {
   "cell_type": "code",
   "execution_count": 25,
   "metadata": {},
   "outputs": [],
   "source": [
    "# Calculate building block asset classes\n",
    "cash_nonus = 2.60\n",
    "\n",
    "us_equity_return = cma.val_dict['us_inflation'] + cma.val_dict['us_equity_income'] + cma.val_dict['us_equity_buyback'] +\\\n",
    "                    cma.val_dict['us_real_gdp'] + cma.val_dict['us_equity_val']\n",
    "\n",
    "europe_ex_uk_equity_return = cma.val_dict['us_inflation'] + cma.val_dict['europe_ex_uk_equity_income'] + cma.val_dict['europe_ex_uk_equity_buyback'] +\\\n",
    "                               cma.val_dict['europe_ex_uk_real_gdp'] + cma.val_dict['europe_ex_uk_equity_val']\n",
    "\n",
    "uk_equity_return = cma.val_dict['us_inflation'] + cma.val_dict['uk_equity_income'] + cma.val_dict['uk_equity_buyback'] +\\\n",
    "                               cma.val_dict['uk_real_gdp'] + cma.val_dict['uk_equity_val']\n",
    "\n",
    "japan_equity_return = cma.val_dict['us_inflation'] + cma.val_dict['japan_equity_income'] + cma.val_dict['japan_equity_buyback'] +\\\n",
    "                               cma.val_dict['japan_real_gdp'] + cma.val_dict['japan_equity_val']\n",
    "\n",
    "apac_ex_japan_equity_return = cma.val_dict['us_inflation'] + cma.val_dict['apac_ex_japan_equity_income'] + cma.val_dict['apac_ex_japan_equity_buyback'] +\\\n",
    "                               cma.val_dict['apac_ex_japan_real_gdp'] + cma.val_dict['apac_ex_japan_equity_val']\n",
    "\n",
    "emerging_equity_return = cma.val_dict['us_inflation'] + cma.val_dict['em_equity_income'] + cma.val_dict['em_equity_buyback'] +\\\n",
    "                               cma.val_dict['em_real_gdp'] + cma.val_dict['em_equity_val']"
   ]
  },
  {
   "cell_type": "markdown",
   "metadata": {},
   "source": [
    "## Beta Calcs"
   ]
  },
  {
   "cell_type": "code",
   "execution_count": 26,
   "metadata": {},
   "outputs": [],
   "source": [
    "# Import returns\n",
    "df_returns_nonus = pd.read_csv('P:\\\\Advisory\\\\Research\\\\Automation\\\\CMAs\\\\Data\\\\combined_returns_nonus.csv', index_col=0)\n",
    "\n",
    "# Beta references\n",
    "df_beta_nonus = df_returns_nonus.iloc[:4, :].copy(deep=True)\n",
    "df_beta_nonus.index = ['U.S. Equity', 'Europe Ex-UK Equity', 'Japan Equity', 'USD_U.S. Equity']\n",
    "\n",
    "# Set all values to 0 initially\n",
    "for col in df_beta_nonus.columns:\n",
    "    df_beta_nonus[col].values[:] = 0\n",
    "    \n",
    "# Set reference asset classes to 1\n",
    "df_beta_nonus.loc['U.S. Equity', 'U.S. Equity'] = 1\n",
    "df_beta_nonus.loc['Europe Ex-UK Equity', 'Europe Ex-UK Equity'] = 1\n",
    "df_beta_nonus.loc['Japan Equity', 'Japan Equity'] = 1\n",
    "df_beta_nonus.loc['USD_U.S. Equity', 'USD_U.S. Equity'] = 1"
   ]
  },
  {
   "cell_type": "code",
   "execution_count": 27,
   "metadata": {},
   "outputs": [],
   "source": [
    "# Beta Matrix\n",
    "df_beta_us_nonus = (df_beta_nonus.loc['U.S. Equity',:]).dot(std_dev.exp_cov_nonus).div(std_dev.annual_adj_std_dev_nonus.loc['U.S. Equity',:].values[0]**2)\n",
    "df_beta_europe_ex_uk_nonus = (df_beta_nonus.loc['Europe Ex-UK Equity',:]).dot(std_dev.exp_cov_nonus).div(std_dev.annual_adj_std_dev_nonus.loc['Europe Ex-UK Equity'].values[0]**2)\n",
    "df_beta_japan_nonus = (df_beta_nonus.loc['Japan Equity',:]).dot(std_dev.exp_cov_nonus).div(std_dev.annual_adj_std_dev_nonus.loc['Japan Equity'].values[0]**2)\n",
    "df_beta_us_usd_nonus = (df_beta_nonus.loc['USD_U.S. Equity',:]).dot(std_dev.exp_cov_nonus).div(std_dev.annual_adj_std_dev_nonus.loc['USD_U.S. Equity'].values[0]**2)\n",
    "\n",
    "df_beta_reference_nonus = pd.concat([df_beta_us_nonus, df_beta_europe_ex_uk_nonus, df_beta_japan_nonus, df_beta_us_usd_nonus], axis=1)"
   ]
  },
  {
   "cell_type": "code",
   "execution_count": 28,
   "metadata": {},
   "outputs": [],
   "source": [
    "# Create beta dataframe\n",
    "df_beta_relative_beta_nonus = list(filter(None, list({k:v for (k,v) in cma.val_dict.items() if 'equity_nonus_beta' in k}.values())))\n",
    "df_beta_relative_name_nonus = list(filter(None, list({k:v for (k,v) in cma.val_dict.items() if 'equity_nonus_name' in k}.values())))\n",
    "df_beta_relative_nonus = pd.DataFrame(zip(df_beta_relative_name_nonus, df_beta_relative_beta_nonus), columns =['Asset Class', 'Beta Relative To']).set_index('Asset Class')\n",
    "df_expected_return_nonus = df_beta_reference_nonus.join(df_beta_relative_nonus, how='outer')"
   ]
  },
  {
   "cell_type": "markdown",
   "metadata": {},
   "source": [
    "## Equity Returns"
   ]
  },
  {
   "cell_type": "code",
   "execution_count": 29,
   "metadata": {},
   "outputs": [],
   "source": [
    "# Fill in building block returns\n",
    "df_expected_return_nonus['Expected Return'] = 'NaN'\n",
    "\n",
    "df_expected_return_nonus.loc[['U.S. Equity', 'Europe Ex-UK Equity', 'UK Equity','Japan Equity', 'Developed Market Pacific Ex-Japan Equity', \n",
    "                              'Global Emerging Markets Equity'], 'Expected Return'] = (\n",
    "                              us_equity_return - cma.val_dict['us_inflation'] + cma.val_dict['country_inflation'],\n",
    "                              europe_ex_uk_equity_return - cma.val_dict['us_inflation'] + cma.val_dict['country_inflation'],\n",
    "                              uk_equity_return - cma.val_dict['us_inflation'] + cma.val_dict['country_inflation'],\n",
    "                              japan_equity_return - cma.val_dict['us_inflation'] + cma.val_dict['country_inflation'],\n",
    "                              apac_ex_japan_equity_return - cma.val_dict['us_inflation'] + cma.val_dict['country_inflation'],\n",
    "                              emerging_equity_return - cma.val_dict['us_inflation'] + cma.val_dict['country_inflation'])"
   ]
  },
  {
   "cell_type": "code",
   "execution_count": 30,
   "metadata": {
    "lines_to_next_cell": 2
   },
   "outputs": [],
   "source": [
    "#Fill in beta-relative returns\n",
    "df_expected_return_nonus.loc[df_expected_return_nonus['Beta Relative To'] == 'U.S. Equity', 'Expected Return'] = \\\n",
    "    ((df_expected_return_nonus.loc['U.S. Equity','Expected Return'] - cash) * df_expected_return_nonus['U.S. Equity'] + cash)\n",
    "\n",
    "df_expected_return_nonus.loc[df_expected_return_nonus['Beta Relative To'] == 'Europe Ex-UK Equity', 'Expected Return'] = \\\n",
    "    ((df_expected_return_nonus.loc['Europe Ex-UK Equity','Expected Return'] - cash) * df_expected_return_nonus['Europe Ex-UK Equity'] + cash)\n",
    "\n",
    "df_expected_return_nonus.loc[df_expected_return_nonus['Beta Relative To'] == 'Japan Equity', 'Expected Return'] = \\\n",
    "    ((df_expected_return_nonus.loc['Japan Equity','Expected Return'] - cash) * df_expected_return_nonus['Japan Equity'] + cash)"
   ]
  },
  {
   "cell_type": "code",
   "execution_count": 32,
   "metadata": {},
   "outputs": [
    {
     "data": {
      "text/plain": [
       "U.S. Equity                                     6.2\n",
       "U.S. Small Cap Equity                        6.6803\n",
       "Europe Ex-UK Equity                            6.45\n",
       "Europe Small Cap Equity                     6.27193\n",
       "UK Equity                                      7.05\n",
       "Japan Equity                                   4.35\n",
       "Japan Small Cap Equity                      4.32093\n",
       "Developed Market Pacific Ex-Japan Equity       8.25\n",
       "Global Emerging Markets Equity                  8.4\n",
       "Name: Expected Return, dtype: object"
      ]
     },
     "execution_count": 32,
     "metadata": {},
     "output_type": "execute_result"
    }
   ],
   "source": [
    "# Finalize expected returns\n",
    "equity_returns_nonus = df_expected_return_nonus.dropna(subset=['Beta Relative To'])\n",
    "equity_returns_nonus = equity_returns_nonus.loc[:,'Expected Return']\n",
    "\n",
    "# Reorder\n",
    "df_equity_nonus = pd.read_excel(\n",
    "    \"P:\\\\Advisory\\\\Research\\\\Automation\\\\CMAs\\\\Data\\\\bloomberg_data_nonus.xlsx\", sheet_name='equity_returns', index_col=0)\n",
    "expected_return_equity_nonus_order = df_equity_nonus.columns.tolist()\n",
    "\n",
    "equity_returns_nonus = equity_returns_nonus.reindex(index=expected_return_equity_nonus_order)\n",
    "equity_returns_nonus"
   ]
  },
  {
   "cell_type": "code",
   "execution_count": null,
   "metadata": {},
   "outputs": [],
   "source": []
  }
 ],
 "metadata": {
  "jupytext": {
   "formats": "ipynb,py:light"
  },
  "kernelspec": {
   "display_name": "Python 3",
   "language": "python",
   "name": "python3"
  },
  "language_info": {
   "codemirror_mode": {
    "name": "ipython",
    "version": 3
   },
   "file_extension": ".py",
   "mimetype": "text/x-python",
   "name": "python",
   "nbconvert_exporter": "python",
   "pygments_lexer": "ipython3",
   "version": "3.7.3"
  },
  "toc-autonumbering": true
 },
 "nbformat": 4,
 "nbformat_minor": 4
}
