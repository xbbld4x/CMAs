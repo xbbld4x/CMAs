{
 "cells": [
  {
   "cell_type": "code",
   "execution_count": 1,
   "metadata": {},
   "outputs": [],
   "source": [
    "import cma_gui as cma\n",
    "import equity_calcs\n",
    "from std_dev import annual_adj_std_dev_nonus\n",
    "\n",
    "import numpy as np\n",
    "import pandas as pd"
   ]
  },
  {
   "cell_type": "markdown",
   "metadata": {},
   "source": [
    "# US"
   ]
  },
  {
   "cell_type": "code",
   "execution_count": null,
   "metadata": {},
   "outputs": [],
   "source": []
  },
  {
   "cell_type": "markdown",
   "metadata": {},
   "source": [
    "# Non USD"
   ]
  },
  {
   "cell_type": "code",
   "execution_count": 2,
   "metadata": {},
   "outputs": [],
   "source": [
    "alts_nonus_name = list(filter(None, list({k:v for (k,v) in cma.val_dict.items() if 'alts_nonus_name' in k}.values())))\n",
    "alts_nonus_beta =list(filter(None, list({k:v for (k,v) in cma.val_dict.items() if 'alts_nonus_beta' in k}.values())))\n",
    "alts_nonus_ir =list(filter(None, list({k:v for (k,v) in cma.val_dict.items() if 'alts_nonus_ir' in k}.values())))\n",
    "\n",
    "df_beta_relative_alts = pd.DataFrame(list(zip(alts_nonus_name, alts_nonus_beta, alts_nonus_ir)), columns =['Asset Class', 'Beta Relative To', 'Information Ratio']) \n",
    "df_beta_relative_alts = df_beta_relative_alts.set_index('Asset Class')\n",
    " \n",
    "df_expected_return = equity_calcs.df_beta_reference_nonus.join(df_beta_relative_alts, how='outer')\n",
    "\n",
    "# Fill beta for alts non local adjusted returns\n",
    "df_expected_return.loc[alts_nonus_name, :'USD_U.S. Equity'] = df_expected_return.loc[['USD_'+s for s in alts_nonus_name], :'USD_U.S. Equity'].values.tolist()"
   ]
  },
  {
   "cell_type": "markdown",
   "metadata": {},
   "source": [
    "## IR Adjusted Returns"
   ]
  },
  {
   "cell_type": "code",
   "execution_count": 3,
   "metadata": {},
   "outputs": [],
   "source": [
    "# Calculate returns for alts with IR adjustments\n",
    "df_alts_returns_nonus_ir = df_expected_return.dropna(subset=['Information Ratio']).copy(deep=True)\n",
    "df_alts_returns_nonus_ir['Expected Return'] = np.nan\n",
    "\n",
    "# Retrieve finalized standard deviaions for use in calcs\n",
    "std_dev = pd.DataFrame(annual_adj_std_dev_nonus)\n",
    "std_dev = std_dev.rename(columns={0: 'Std Dev'})\n",
    "\n",
    "df_alts_returns_nonus_ir = df_alts_returns_nonus_ir.join(std_dev, how='outer')\n",
    "df_alts_returns_nonus_ir = df_alts_returns_nonus_ir.dropna(subset=['Information Ratio'])"
   ]
  },
  {
   "cell_type": "code",
   "execution_count": 4,
   "metadata": {},
   "outputs": [],
   "source": [
    "df_alts_returns_nonus_ir['Std Dev to Use'] = std_dev.loc['USD_U.S. Equity', 'Std Dev']\n",
    "\n",
    "# Fill std deviations and beta to use for non local adjusted returns\n",
    "sd_to_use = std_dev.loc[['USD_'+s for s in alts_nonus_name], 'Std Dev'].values.tolist()\n",
    "df_alts_returns_nonus_ir.loc[alts_nonus_name, 'Std Dev'] = sd_to_use\n",
    "\n",
    "beta_to_use = df_expected_return.loc[['USD_'+s for s in alts_nonus_name], 'USD_U.S. Equity'].values.tolist()\n",
    "df_alts_returns_nonus_ir.loc[alts_nonus_name, 'Beta To Use'] = beta_to_use"
   ]
  },
  {
   "cell_type": "code",
   "execution_count": 5,
   "metadata": {},
   "outputs": [],
   "source": [
    "# Residual Risk\n",
    "df_alts_returns_nonus_ir['Residual Risk'] = (df_alts_returns_nonus_ir['Std Dev']**2 - df_alts_returns_nonus_ir['Beta To Use']**2 * df_alts_returns_nonus_ir['Std Dev to Use']**2)**(1/2)"
   ]
  },
  {
   "cell_type": "code",
   "execution_count": 6,
   "metadata": {},
   "outputs": [],
   "source": [
    "# Revert beta back to local for final return calc\n",
    "df_beta_revert = equity_calcs.df_beta_reference_nonus.join(df_beta_relative_alts, how='outer').dropna(subset=['Information Ratio'])\n",
    "df_beta_revert = df_beta_revert.loc[:, 'U.S. Equity']"
   ]
  },
  {
   "cell_type": "code",
   "execution_count": 7,
   "metadata": {},
   "outputs": [
    {
     "data": {
      "text/plain": [
       "Global Macro         4.8\n",
       "Long-Short Equity    5.7\n",
       "Name: Expected Return, dtype: float64"
      ]
     },
     "execution_count": 7,
     "metadata": {},
     "output_type": "execute_result"
    }
   ],
   "source": [
    "# Calc final expected return\n",
    "df_alts_returns_nonus_ir['Expected Return'] = equity_calcs.cash/100 + (equity_calcs.expected_return_equity_nonus['U.S. Equity']/100 - equity_calcs.cash/100)\\\n",
    "    * df_beta_revert + df_alts_returns_nonus_ir['Information Ratio'] * df_alts_returns_nonus_ir['Residual Risk']\n",
    "\n",
    "expected_return_alts_nonus_ir = (df_alts_returns_nonus_ir['Expected Return']*100).round(1)      \n",
    "expected_return_alts_nonus_ir"
   ]
  }
 ],
 "metadata": {
  "jupytext": {
   "formats": "ipynb,py:percent"
  },
  "kernelspec": {
   "display_name": "Python 3",
   "language": "python",
   "name": "python3"
  },
  "language_info": {
   "codemirror_mode": {
    "name": "ipython",
    "version": 3
   },
   "file_extension": ".py",
   "mimetype": "text/x-python",
   "name": "python",
   "nbconvert_exporter": "python",
   "pygments_lexer": "ipython3",
   "version": "3.6.7"
  }
 },
 "nbformat": 4,
 "nbformat_minor": 4
}
