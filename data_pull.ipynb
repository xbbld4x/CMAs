{
 "cells": [
  {
   "cell_type": "code",
   "execution_count": 1,
   "metadata": {},
   "outputs": [
    {
     "name": "stdout",
     "output_type": "stream",
     "text": [
      "No module named 'blpapi'\n"
     ]
    }
   ],
   "source": [
    "import cma_gui as cma\n",
    "import pandas as pd\n",
    "\n",
    "from datetime import date\n",
    "from datetime import datetime\n",
    "from dateutil.relativedelta import relativedelta\n",
    "from xbbg import blp"
   ]
  },
  {
   "cell_type": "markdown",
   "metadata": {},
   "source": [
    "# As of Date"
   ]
  },
  {
   "cell_type": "code",
   "execution_count": 3,
   "metadata": {},
   "outputs": [
    {
     "data": {
      "text/plain": [
       "datetime.date(2019, 9, 30)"
      ]
     },
     "execution_count": 3,
     "metadata": {},
     "output_type": "execute_result"
    }
   ],
   "source": [
    "# Date range for Bloomberg data pulls\n",
    "end_date = cma.end_date\n",
    "end_date_str = end_date.strftime('%m-%d-%Y')\n",
    "\n",
    "start_date = end_date - relativedelta(years=30)\n",
    "start_date_str = start_date.strftime('%m-%d-%Y')"
   ]
  },
  {
   "cell_type": "markdown",
   "metadata": {},
   "source": [
    "# Equity Data"
   ]
  },
  {
   "cell_type": "markdown",
   "metadata": {},
   "source": [
    "## USD"
   ]
  },
  {
   "cell_type": "code",
   "execution_count": 49,
   "metadata": {},
   "outputs": [],
   "source": [
    "# Bloomberg code to pull gross of dividend return values\n",
    "data_return = ['DAY_TO_DAY_TOT_RETURN_GROSS_DVDS']"
   ]
  },
  {
   "cell_type": "code",
   "execution_count": 50,
   "metadata": {},
   "outputs": [],
   "source": [
    "equity_name_list = list(filter(None, list({k:v for (k,v) in cma.val_dict.items() if 'equity_us_name' in k}.values())))\n",
    "equity_list = list(filter(None, list({k:v for (k,v) in cma.val_dict.items() if 'equity_us_code' in k}.values())))\n",
    "equity_dictionary = dict(zip(equity_list, equity_name_list))"
   ]
  },
  {
   "cell_type": "code",
   "execution_count": 62,
   "metadata": {},
   "outputs": [],
   "source": [
    "equity_returns = blp.bdh(tickers=equity_list, flds=data_return, start_date=start_date_str, end_date=end_date_str, Per='M')\n",
    "\n",
    "# Rename and reorder columns\n",
    "equity_returns.columns = equity_returns.columns.droplevel(1)\n",
    "equity_returns.columns = equity_returns.columns.map(equity_dictionary)\n",
    "\n",
    "# Convert index to datetime\n",
    "equity_returns.index = pd.to_datetime(equity_returns.index)\n",
    "\n",
    "# Adjust dataframe for varying month end dates\n",
    "equity_returns = equity_returns.resample('M', axis=0).mean()"
   ]
  },
  {
   "cell_type": "markdown",
   "metadata": {},
   "source": [
    "## Non-USD"
   ]
  },
  {
   "cell_type": "code",
   "execution_count": 52,
   "metadata": {},
   "outputs": [],
   "source": [
    "# Bloomberg code to pull index values\n",
    "data_return_nonus = ['PX_LAST']"
   ]
  },
  {
   "cell_type": "code",
   "execution_count": 64,
   "metadata": {},
   "outputs": [],
   "source": [
    "# Reference for future renaming of columns\n",
    "equity_list_nonus = list(filter(None, list({k:v for (k,v) in cma.val_dict.items() if 'equity_nonus_code' in k}.values())))\n",
    "equity_name_list_nonus = list(filter(None, list({k:v for (k,v) in cma.val_dict.items() if 'equity_nonus_name' in k}.values())))\n",
    "equity_dictionary_nonus = dict(zip(equity_list_nonus, equity_name_list_nonus))"
   ]
  },
  {
   "cell_type": "code",
   "execution_count": 67,
   "metadata": {},
   "outputs": [],
   "source": [
    "equity_returns_nonus = blp.bdh(tickers=equity_list_nonus, flds=data_return_nonus, start_date=start_date_str, end_date=end_date_str, Per='M')\n",
    "\n",
    "# Rename and reorder columns\n",
    "equity_returns_nonus.columns = equity_returns_nonus.columns.droplevel(1)\n",
    "equity_returns_nonus.columns = equity_returns_nonus.columns.map(equity_dictionary_nonus)\n",
    "\n",
    "# Convert index to datetime\n",
    "equity_returns_nonus.index = pd.to_datetime(equity_returns_nonus.index)\n",
    "\n",
    "# Adjust dataframe for varying month end dates\n",
    "equity_returns_nonus = equity_returns_nonus.resample('M', axis=0).mean()\n",
    "equity_returns_nonus = equity_returns_nonus.reindex(columns=equity_name_list_nonus)"
   ]
  },
  {
   "cell_type": "markdown",
   "metadata": {},
   "source": [
    "# Fixed Income Data"
   ]
  },
  {
   "cell_type": "markdown",
   "metadata": {},
   "source": [
    "## USD - Fixed"
   ]
  },
  {
   "cell_type": "code",
   "execution_count": 68,
   "metadata": {},
   "outputs": [],
   "source": [
    "# Reference for future renaming of columns\n",
    "fixed_list = list(filter(None, list({k:v for (k,v) in cma.val_dict.items() if 'fixed_us_code' in k}.values())))\n",
    "fixed_name_list = list(filter(None, list({k:v for (k,v) in cma.val_dict.items() if 'fixed_us_name' in k}.values())))\n",
    "fixed_dictionary = dict(zip(fixed_list, fixed_name_list))"
   ]
  },
  {
   "cell_type": "markdown",
   "metadata": {},
   "source": [
    "### USD Fixed Returns"
   ]
  },
  {
   "cell_type": "code",
   "execution_count": 69,
   "metadata": {},
   "outputs": [],
   "source": [
    "fixed_returns = blp.bdh(tickers=fixed_list, flds=data_return, start_date=start_date_str, end_date=end_date_str, Per='M')\n",
    "\n",
    "# Rename and reorder columns\n",
    "fixed_returns.columns = fixed_returns.columns.droplevel(1)\n",
    "fixed_returns.columns = fixed_returns.columns.map(fixed_dictionary)\n",
    "\n",
    "# Convert index to datetime\n",
    "fixed_returns.index= pd.to_datetime(fixed_returns.index)\n",
    "\n",
    "# Adjust dataframe for varying month end dates\n",
    "fixed_returns = fixed_returns.resample('M', axis=0).mean()"
   ]
  },
  {
   "cell_type": "markdown",
   "metadata": {},
   "source": [
    "### USD Fixed Yields"
   ]
  },
  {
   "cell_type": "code",
   "execution_count": 70,
   "metadata": {},
   "outputs": [],
   "source": [
    "fixed_yields = blp.bdh(tickers=fixed_list, flds='YIELD_TO_WORST', start_date=start_date_str, end_date=end_date_str, Per='M')\n",
    "\n",
    "# Rename and reorder columns\n",
    "fixed_yields.columns = fixed_yields.columns.droplevel(1)\n",
    "fixed_yields.columns = fixed_yields.columns.map(fixed_dictionary)\n",
    "\n",
    "# Convert index to datetime\n",
    "fixed_yields.index = pd.to_datetime(fixed_yields.index)\n",
    "\n",
    "# Adjust dataframe for varying month end dates\n",
    "fixed_yields = fixed_yields.resample('M', axis=0).mean()"
   ]
  },
  {
   "cell_type": "code",
   "execution_count": 71,
   "metadata": {},
   "outputs": [],
   "source": [
    "# Add bank loan yields\n",
    "bank_loan_yield = blp.bdh(tickers='SPBDLLY Index', flds='PX_LAST', start_date=start_date_str, end_date=end_date_str, Per='M')\n",
    "\n",
    "# Rename and reorder columns\n",
    "bank_loan_yield.columns = bank_loan_yield.columns.droplevel(1)\n",
    "\n",
    "# Adjust dataframes for varying month end dates\n",
    "bank_loan_yield = bank_loan_yield.resample('M', axis=0).mean()"
   ]
  },
  {
   "cell_type": "code",
   "execution_count": 72,
   "metadata": {},
   "outputs": [],
   "source": [
    "# Combine with other yield results\n",
    "fixed_yields['U.S. Bank Loans'] = bank_loan_yield"
   ]
  },
  {
   "cell_type": "markdown",
   "metadata": {},
   "source": [
    "### USD Fixed Spreads"
   ]
  },
  {
   "cell_type": "code",
   "execution_count": 73,
   "metadata": {},
   "outputs": [],
   "source": [
    "fixed_spreads = blp.bdh(tickers=fixed_list, flds='INDEX_OAS_TSY', start_date=start_date_str, end_date=end_date_str, Per='M')\n",
    "\n",
    "# Rename and reorder columns\n",
    "fixed_spreads.columns = fixed_spreads.columns.droplevel(1)\n",
    "fixed_spreads.columns = fixed_spreads.columns.map(fixed_dictionary)\n",
    "\n",
    "# Fill for indices with no spread\n",
    "fixed_spreads['U.S. TIPS'] = 0\n",
    "fixed_spreads['U.S. Intermediate Municipal'] = 0\n",
    "fixed_spreads['U.S. Short Municipal'] = 0\n",
    "\n",
    "# Convert index to datetime\n",
    "fixed_spreads.index = pd.to_datetime(fixed_spreads.index)\n",
    "\n",
    "# Adjust dataframe for varying month end dates\n",
    "fixed_spreads = fixed_spreads.resample('M', axis=0).mean()\n",
    "\n",
    "# Add bank loan spread estimate\n",
    "fixed_spreads['U.S. Bank Loans'] = fixed_yields['U.S. Bank Loans'] - fixed_yields['U.S. Treasury Bills']"
   ]
  },
  {
   "cell_type": "markdown",
   "metadata": {},
   "source": [
    "### USD Fixed Duration"
   ]
  },
  {
   "cell_type": "code",
   "execution_count": 74,
   "metadata": {},
   "outputs": [],
   "source": [
    "fixed_durations = blp.bdh(tickers=fixed_list, flds='INDEX_OAD_TSY', start_date=start_date_str, end_date=end_date_str, Per='M')\n",
    "tips_duration = blp.bdh(tickers='BCIT1T Index', flds='MODIFIED_DURATION', start_date=start_date_str, end_date=end_date_str, Per='M')\n",
    "\n",
    "# Rename and reorder columns\n",
    "fixed_durations.columns = fixed_durations.columns.droplevel(1)\n",
    "fixed_durations.columns = fixed_durations.columns.map(fixed_dictionary)\n",
    "\n",
    "# Add constant for bank loan spreads\n",
    "fixed_durations['U.S. Bank Loans'] = 0.25\n",
    "fixed_durations['U.S. TIPS'] = tips_duration\n",
    "\n",
    "# Convert index to datetime\n",
    "fixed_durations.index = pd.to_datetime(fixed_durations.index)\n",
    "\n",
    "# Adjust dataframe for varying month end dates\n",
    "fixed_durations = fixed_durations.resample('M', axis=0).mean()"
   ]
  },
  {
   "cell_type": "markdown",
   "metadata": {},
   "source": [
    "## Non USD - Fixed"
   ]
  },
  {
   "cell_type": "code",
   "execution_count": 75,
   "metadata": {},
   "outputs": [],
   "source": [
    "# Reference for future renaming of columns\n",
    "fixed_list_nonus = list(filter(None, list({k:v for (k,v) in cma.val_dict.items() if 'fixed_nonus_code' in k}.values())))\n",
    "fixed_name_list_nonus = list(filter(None, list({k:v for (k,v) in cma.val_dict.items() if 'fixed_nonus_name' in k}.values())))\n",
    "fixed_dictionary_nonus = dict(zip(fixed_list_nonus, fixed_name_list_nonus))"
   ]
  },
  {
   "cell_type": "markdown",
   "metadata": {},
   "source": [
    "### Non-USD Fixed Returns"
   ]
  },
  {
   "cell_type": "code",
   "execution_count": 76,
   "metadata": {},
   "outputs": [],
   "source": [
    "fixed_returns_nonus = blp.bdh(tickers=fixed_list_nonus, flds=data_return_nonus, start_date=start_date_str, end_date=end_date_str, Per='M')\n",
    "\n",
    "# Rename and reorder columns\n",
    "fixed_returns_nonus.columns = fixed_returns_nonus.columns.droplevel(1)\n",
    "fixed_returns_nonus.columns = fixed_returns_nonus.columns.map(fixed_dictionary_nonus)\n",
    "\n",
    "# Convert index to datetime\n",
    "fixed_returns_nonus.index= pd.to_datetime(fixed_returns_nonus.index)\n",
    "\n",
    "# Adjust dataframe for varying month end dates\n",
    "fixed_returns_nonus = fixed_returns_nonus.resample('M', axis=0).mean()\n",
    "fixed_returns_nonus = fixed_returns_nonus.reindex(columns=fixed_name_list_nonus)"
   ]
  },
  {
   "cell_type": "markdown",
   "metadata": {},
   "source": [
    "### Non-USD Fixed Yields"
   ]
  },
  {
   "cell_type": "code",
   "execution_count": 77,
   "metadata": {},
   "outputs": [],
   "source": [
    "fixed_yields_nonus = blp.bdh(tickers=fixed_list_nonus, flds='YIELD_TO_WORST', start_date=start_date_str, end_date=end_date_str, Per='M')\n",
    "\n",
    "# Rename and reorder columns\n",
    "fixed_yields_nonus.columns = fixed_yields_nonus.columns.droplevel(1)\n",
    "fixed_yields_nonus.columns = fixed_yields_nonus.columns.map(fixed_dictionary_nonus)\n",
    "\n",
    "# Convert index to datetime\n",
    "fixed_yields_nonus.index = pd.to_datetime(fixed_yields_nonus.index)\n",
    "\n",
    "# Adjust dataframe for varying month end dates\n",
    "fixed_yields_nonus = fixed_yields_nonus.resample('M', axis=0).mean()"
   ]
  },
  {
   "cell_type": "markdown",
   "metadata": {},
   "source": [
    "### Non-USD Fixed Spreads"
   ]
  },
  {
   "cell_type": "code",
   "execution_count": 78,
   "metadata": {},
   "outputs": [],
   "source": [
    "fixed_spreads_nonus = blp.bdh(tickers=fixed_list_nonus, flds='INDEX_OAS_TSY', start_date=start_date_str, end_date=end_date_str, Per='M')\n",
    "\n",
    "# Rename and reorder columns\n",
    "fixed_spreads_nonus.columns = fixed_spreads_nonus.columns.droplevel(1)\n",
    "fixed_spreads_nonus.columns = fixed_spreads_nonus.columns.map(fixed_dictionary_nonus)\n",
    "\n",
    "# Convert index to datetime\n",
    "fixed_spreads_nonus.index = pd.to_datetime(fixed_spreads_nonus.index)\n",
    "\n",
    "# Adjust dataframe for varying month end dates\n",
    "fixed_spreads_nonus = fixed_spreads_nonus.resample('M', axis=0).mean()"
   ]
  },
  {
   "cell_type": "markdown",
   "metadata": {},
   "source": [
    "### Non-USD Fixed Duration"
   ]
  },
  {
   "cell_type": "code",
   "execution_count": 79,
   "metadata": {},
   "outputs": [],
   "source": [
    "fixed_durations_nonus = blp.bdh(tickers=fixed_list_nonus, flds='INDEX_OAD_TSY', start_date=start_date_str, end_date=end_date_str, Per='M')\n",
    "\n",
    "# Rename and reorder columns\n",
    "fixed_durations_nonus.columns = fixed_durations_nonus.columns.droplevel(1)\n",
    "fixed_durations_nonus.columns = fixed_durations_nonus.columns.map(fixed_dictionary_nonus)\n",
    "\n",
    "# Convert index to datetime\n",
    "fixed_durations_nonus.index = pd.to_datetime(fixed_durations_nonus.index)\n",
    "\n",
    "# Adjust dataframe for varying month end dates\n",
    "fixed_durations_nonus = fixed_durations_nonus.resample('M', axis=0).mean()"
   ]
  },
  {
   "cell_type": "markdown",
   "metadata": {},
   "source": [
    "# Treasury Data"
   ]
  },
  {
   "cell_type": "markdown",
   "metadata": {},
   "source": [
    "## US Treasury Data"
   ]
  },
  {
   "cell_type": "code",
   "execution_count": 81,
   "metadata": {},
   "outputs": [],
   "source": [
    "treasury_list = ['I00087 Index', 'BTB5STAT Index', 'BW10STAT Index', 'BW30STAT Index']\n",
    "treasury_dictionary = {'I00087 Index': '3 Mo', 'BTB5STAT Index': '5 Yr', 'BW10STAT Index': '10 Yr', 'BW30STAT Index': '30 Yr'}"
   ]
  },
  {
   "cell_type": "code",
   "execution_count": 82,
   "metadata": {},
   "outputs": [],
   "source": [
    "# Treasury Yields\n",
    "fixed_treasury_yld = blp.bdh(tickers=treasury_list, flds='INDEX_YIELD_TO_MATURITY', start_date=start_date_str, end_date=end_date_str, Per='M')\n",
    "\n",
    "# Rename and reorder columns\n",
    "fixed_treasury_yld.columns = fixed_treasury_yld.columns.droplevel(1)\n",
    "fixed_treasury_yld.columns = fixed_treasury_yld.columns.map(treasury_dictionary)"
   ]
  },
  {
   "cell_type": "code",
   "execution_count": 83,
   "metadata": {},
   "outputs": [],
   "source": [
    "# Treasury Duration\n",
    "fixed_treasury_dur = blp.bdh(tickers=treasury_list, flds='INDEX_OAD_TSY', start_date=start_date_str, end_date=end_date_str, Per='M')\n",
    "\n",
    "# Rename and reorder columns\n",
    "fixed_treasury_dur.columns = fixed_treasury_dur.columns.droplevel(1)\n",
    "fixed_treasury_dur.columns = fixed_treasury_dur.columns.map(treasury_dictionary)"
   ]
  },
  {
   "cell_type": "markdown",
   "metadata": {},
   "source": [
    "## Global Treasury Data"
   ]
  },
  {
   "cell_type": "code",
   "execution_count": 84,
   "metadata": {},
   "outputs": [],
   "source": [
    "gl_treasury_list = ['LGY3TRUU Index', 'I04790 Index', 'LG7YSTAT Index', 'LGY7TRUU Index','LGY1TRUU Index']\n",
    "gl_treasury_dictionary = {'LGY3TRUU Index': '1-3 Yr', 'I04790 Index': '3-5 Yr', 'LG7YSTAT Index': '5-7 Yr', \n",
    "                          'LGY7TRUU Index': '7-10 Yr','LGY1TRUU Index': '10+ Yr'}  "
   ]
  },
  {
   "cell_type": "code",
   "execution_count": 85,
   "metadata": {},
   "outputs": [],
   "source": [
    "# Gl Treasury Yields\n",
    "gl_fixed_treasury_yld = blp.bdh(tickers=gl_treasury_list, flds='INDEX_YIELD_TO_MATURITY', start_date=start_date_str, end_date=end_date_str, Per='M')\n",
    "\n",
    "# Rename and reorder columns\n",
    "gl_fixed_treasury_yld.columns = gl_fixed_treasury_yld.columns.droplevel(1)\n",
    "gl_fixed_treasury_yld.columns = gl_fixed_treasury_yld.columns.map(gl_treasury_dictionary)"
   ]
  },
  {
   "cell_type": "code",
   "execution_count": 86,
   "metadata": {},
   "outputs": [],
   "source": [
    "# Gl Treasury Durations\n",
    "gl_fixed_treasury_dur = blp.bdh(tickers=gl_treasury_list, flds='INDEX_OAD_TSY', start_date=start_date_str, end_date=end_date_str, Per='M')\n",
    "\n",
    "# Rename and reorder columns\n",
    "gl_fixed_treasury_dur.columns = gl_fixed_treasury_dur.columns.droplevel(1)\n",
    "gl_fixed_treasury_dur.columns = gl_fixed_treasury_dur.columns.map(gl_treasury_dictionary)"
   ]
  },
  {
   "cell_type": "markdown",
   "metadata": {},
   "source": [
    "## Global Agg Data"
   ]
  },
  {
   "cell_type": "code",
   "execution_count": 87,
   "metadata": {},
   "outputs": [],
   "source": [
    "gl_agg_list = ['H16607US Index', 'H16608US Index', 'H16609US Index', 'H16610US Index','H16611US Index']\n",
    "gl_agg_dictionary = {'H16607US Index': '1-3 Yr', 'H16608US Index': '3-5 Yr', 'H16609US Index': '5-7 Yr', \n",
    "                          'H16610US Index': '7-10 Yr','H16611US Index': '10+ Yr'}     "
   ]
  },
  {
   "cell_type": "code",
   "execution_count": 88,
   "metadata": {},
   "outputs": [],
   "source": [
    "# Gl Treasury Yields\n",
    "gl_fixed_agg_yld = blp.bdh(tickers=gl_agg_list, flds='INDEX_YIELD_TO_MATURITY', start_date=start_date_str, end_date=end_date_str, Per='M')\n",
    "\n",
    "# Rename and reorder columns\n",
    "gl_fixed_agg_yld.columns = gl_fixed_agg_yld.columns.droplevel(1)\n",
    "gl_fixed_agg_yld.columns = gl_fixed_agg_yld.columns.map(gl_agg_dictionary)"
   ]
  },
  {
   "cell_type": "code",
   "execution_count": 89,
   "metadata": {},
   "outputs": [],
   "source": [
    "# Gl Treasury Durations\n",
    "gl_fixed_agg_dur = blp.bdh(tickers=gl_agg_list, flds='INDEX_OAD_TSY', start_date=start_date_str, end_date=end_date_str, Per='M')\n",
    "\n",
    "# Rename and reorder columns\n",
    "gl_fixed_agg_dur.columns = gl_fixed_agg_dur.columns.droplevel(1)\n",
    "gl_fixed_agg_dur.columns = gl_fixed_agg_dur.columns.map(gl_agg_dictionary)"
   ]
  },
  {
   "cell_type": "code",
   "execution_count": 90,
   "metadata": {},
   "outputs": [],
   "source": [
    "# Gl Treasury Spreads\n",
    "gl_fixed_agg_spread = blp.bdh(tickers=gl_agg_list, flds='INDEX_OAS_TSY', start_date=start_date_str, end_date=end_date_str, Per='M')\n",
    "\n",
    "# Rename and reorder columns\n",
    "gl_fixed_agg_spread.columns = gl_fixed_agg_spread.columns.droplevel(1)\n",
    "gl_fixed_agg_spread.columns = gl_fixed_agg_spread.columns.map(gl_agg_dictionary)"
   ]
  },
  {
   "cell_type": "markdown",
   "metadata": {},
   "source": [
    "## EM Treasury Data"
   ]
  },
  {
   "cell_type": "code",
   "execution_count": 91,
   "metadata": {},
   "outputs": [],
   "source": [
    "em_treasury_list = ['I22843US Index', 'I22844US Index', 'I22845US Index', 'I22846US Index', 'I22847US Index']\n",
    "em_treasury_dictionary = {'I22843US Index': '1-3 Yr', 'I22844US Index': '3-5 Yr', 'I22845US Index': '5-7 Yr', 'I22846US Index': '7-10 Yr','I22847US Index': '10+ Yr'}    "
   ]
  },
  {
   "cell_type": "code",
   "execution_count": 92,
   "metadata": {},
   "outputs": [],
   "source": [
    "# Treasury Yields\n",
    "em_fixed_treasury_yld = blp.bdh(tickers=em_treasury_list, flds='INDEX_YIELD_TO_MATURITY', start_date=start_date_str, end_date=end_date_str, Per='M')\n",
    "\n",
    "# Rename and reorder columns\n",
    "em_fixed_treasury_yld.columns = em_fixed_treasury_yld.columns.droplevel(1)\n",
    "em_fixed_treasury_yld.columns = em_fixed_treasury_yld.columns.map(em_treasury_dictionary)"
   ]
  },
  {
   "cell_type": "code",
   "execution_count": 93,
   "metadata": {},
   "outputs": [],
   "source": [
    "# Treasury Duration\n",
    "em_fixed_treasury_dur = blp.bdh(tickers=em_treasury_list, flds='INDEX_OAD_TSY', start_date=start_date_str, end_date=end_date_str, Per='M')\n",
    "\n",
    "# Rename and reorder columns\n",
    "em_fixed_treasury_dur.columns = em_fixed_treasury_dur.columns.droplevel(1)\n",
    "em_fixed_treasury_dur.columns = em_fixed_treasury_dur.columns.map(em_treasury_dictionary)"
   ]
  },
  {
   "cell_type": "markdown",
   "metadata": {},
   "source": [
    "## AA Corp Data (for Muni Calcs)"
   ]
  },
  {
   "cell_type": "code",
   "execution_count": 94,
   "metadata": {},
   "outputs": [],
   "source": [
    "aa_corp_list = ['I08219 Index']\n",
    "aa_corp_dictionary = {'I08219 Index': 'AA Corp'}"
   ]
  },
  {
   "cell_type": "code",
   "execution_count": 95,
   "metadata": {},
   "outputs": [],
   "source": [
    "# AA Corp Spreads\n",
    "aa_corp_spread = blp.bdh(tickers=aa_corp_list, flds='INDEX_OAS_TSY', start_date=start_date_str, end_date=end_date_str, Per='M')\n",
    "\n",
    "# Rename and reorder columns\n",
    "aa_corp_spread.columns = aa_corp_spread.columns.droplevel(1)\n",
    "aa_corp_spread.columns = aa_corp_spread.columns.map(aa_corp_dictionary)"
   ]
  },
  {
   "cell_type": "markdown",
   "metadata": {},
   "source": [
    "# Alts Data"
   ]
  },
  {
   "cell_type": "markdown",
   "metadata": {},
   "source": [
    "## USD - Alts"
   ]
  },
  {
   "cell_type": "code",
   "execution_count": 98,
   "metadata": {},
   "outputs": [],
   "source": [
    "# Reference for future renaming of columns\n",
    "alts_list = list(filter(None, list({k:v for (k,v) in cma.val_dict.items() if 'alts_us_code' in k}.values())))\n",
    "alts_name_list = list(filter(None, list({k:v for (k,v) in cma.val_dict.items() if 'alts_us_name' in k}.values())))\n",
    "alts_dictionary = dict(zip(alts_list, alts_name_list))"
   ]
  },
  {
   "cell_type": "code",
   "execution_count": 99,
   "metadata": {},
   "outputs": [],
   "source": [
    "alts_returns = blp.bdh(tickers=alts_list, flds=data_return, start_date=start_date_str, end_date=end_date_str, Per='M')\n",
    "\n",
    "# Rename and reorder columns\n",
    "alts_returns.columns = alts_returns.columns.droplevel(1)\n",
    "alts_returns.columns = alts_returns.columns.map(alts_dictionary)\n",
    "\n",
    "# Convert index to datetime\n",
    "alts_returns.index = pd.to_datetime(alts_returns.index)\n",
    "\n",
    "# Adjust dataframe for varying month end dates\n",
    "alts_returns = alts_returns.resample('M', axis=0).mean()"
   ]
  },
  {
   "cell_type": "markdown",
   "metadata": {},
   "source": [
    "## Non USD - Alts"
   ]
  },
  {
   "cell_type": "code",
   "execution_count": 100,
   "metadata": {},
   "outputs": [],
   "source": [
    "# Reference for future renaming of columns\n",
    "alts_list_nonus = list(filter(None, list({k:v for (k,v) in cma.val_dict.items() if 'alts_nonus_code' in k}.values())))\n",
    "alts_name_list_nonus = list(filter(None, list({k:v for (k,v) in cma.val_dict.items() if 'alts_nonus_name' in k}.values())))\n",
    "alts_dictionary_nonus = dict(zip(alts_list_nonus, alts_name_list_nonus))"
   ]
  },
  {
   "cell_type": "code",
   "execution_count": 101,
   "metadata": {},
   "outputs": [],
   "source": [
    "alts_returns_nonus = blp.bdh(tickers=alts_list_nonus, flds=data_return_nonus, start_date=start_date_str, end_date=end_date_str, Per='M')\n",
    "\n",
    "# Rename and reorder columns\n",
    "alts_returns_nonus.columns = alts_returns_nonus.columns.droplevel(1)\n",
    "alts_returns_nonus.columns = alts_returns_nonus.columns.map(alts_dictionary_nonus)\n",
    "\n",
    "# Convert index to datetime\n",
    "alts_returns_nonus.index = pd.to_datetime(alts_returns_nonus.index)\n",
    "\n",
    "# Adjust dataframe for varying month end dates\n",
    "alts_returns_nonus = alts_returns_nonus.resample('M', axis=0).mean()"
   ]
  },
  {
   "cell_type": "markdown",
   "metadata": {},
   "source": [
    "# Currency"
   ]
  },
  {
   "cell_type": "code",
   "execution_count": 104,
   "metadata": {},
   "outputs": [],
   "source": [
    "currencies = ['AUD', 'CAD', 'CHF','DKK', 'EUR', 'GBP', 'JPY', 'NOK', 'NZD', 'SEK']\n",
    "cross_currencies = ['USD' + x +' Curncy' for x in currencies]\n",
    "\n",
    "# Change naming\n",
    "cross_currencies_dictionary = {}\n",
    "for key in cross_currencies: \n",
    "    for value in currencies: \n",
    "        cross_currencies_dictionary[key] = value \n",
    "        currencies.remove(value) \n",
    "        break "
   ]
  },
  {
   "cell_type": "code",
   "execution_count": 105,
   "metadata": {},
   "outputs": [],
   "source": [
    "historical_cross_currencies = blp.bdh(tickers=cross_currencies, flds='PX_LAST', start_date=start_date_str, end_date=end_date_str, Per='M')\n",
    "\n",
    "# Rename and reorder columns\n",
    "historical_cross_currencies.columns = historical_cross_currencies.columns.droplevel(1)\n",
    "historical_cross_currencies.columns = historical_cross_currencies.columns.map(cross_currencies_dictionary)\n",
    "\n",
    "# Convert index to datetime\n",
    "historical_cross_currencies.index = pd.to_datetime(historical_cross_currencies.index)\n",
    "\n",
    "# Adjust dataframe for varying month end dates\n",
    "historical_cross_currencies = historical_cross_currencies.resample('M', axis=0).mean()\n",
    "historical_cross_currencies['USD'] = 1"
   ]
  },
  {
   "cell_type": "markdown",
   "metadata": {},
   "source": [
    "# Beta Index Data"
   ]
  },
  {
   "cell_type": "code",
   "execution_count": 106,
   "metadata": {},
   "outputs": [],
   "source": [
    "beta_list = 'EMUSTRUU Index'\n",
    "beta_dictionary = {'EMUSTRUU Index': 'Emerging Debt Agg USD'}"
   ]
  },
  {
   "cell_type": "code",
   "execution_count": 107,
   "metadata": {},
   "outputs": [],
   "source": [
    "beta_returns = blp.bdh(tickers=beta_list, flds=data_return_nonus, start_date=start_date_str, end_date=end_date_str, Per='M')\n",
    "\n",
    "# Rename and reorder columns\n",
    "beta_returns.columns = beta_returns.columns.droplevel(1)\n",
    "beta_returns.columns = beta_returns.columns.map(beta_dictionary)\n",
    "\n",
    "# Convert index to datetime\n",
    "beta_returns.index = pd.to_datetime(beta_returns.index)\n",
    "\n",
    "# Adjust dataframe for varying month end dates\n",
    "beta_returns = beta_returns.resample('M', axis=0).mean()"
   ]
  },
  {
   "cell_type": "code",
   "execution_count": 108,
   "metadata": {},
   "outputs": [],
   "source": [
    "# Add beta return needed to fixed non-us data\n",
    "fixed_returns_nonus = fixed_returns_nonus.join(beta_returns)"
   ]
  },
  {
   "cell_type": "markdown",
   "metadata": {},
   "source": [
    "# Save Data to Excel"
   ]
  },
  {
   "cell_type": "code",
   "execution_count": 112,
   "metadata": {},
   "outputs": [],
   "source": [
    "with pd.ExcelWriter(r'P:\\\\Advisory\\\\Research\\\\Automation\\\\CMA_New\\\\Data\\\\bloomberg_data_usd.xlsx') as writer:\n",
    "    equity_returns.to_excel(writer, sheet_name='equity_returns')\n",
    "    fixed_returns.to_excel(writer, sheet_name='fixed_returns')\n",
    "    fixed_yields.to_excel(writer, sheet_name='fixed_yields')\n",
    "    fixed_spreads.to_excel(writer, sheet_name='fixed_spreads')\n",
    "    fixed_durations.to_excel(writer, sheet_name='fixed_durations')\n",
    "    alts_returns.to_excel(writer, sheet_name='alts_returns')"
   ]
  },
  {
   "cell_type": "code",
   "execution_count": 113,
   "metadata": {},
   "outputs": [],
   "source": [
    "with pd.ExcelWriter(r'P:\\\\Advisory\\\\Research\\\\Automation\\\\CMA_New\\\\Data\\\\bloomberg_data_nonus.xlsx') as writer:\n",
    "    equity_returns_nonus.to_excel(writer, sheet_name='equity_returns')\n",
    "    fixed_returns_nonus.to_excel(writer, sheet_name='fixed_returns')\n",
    "    fixed_yields_nonus.to_excel(writer, sheet_name='fixed_yields')\n",
    "    fixed_spreads_nonus.to_excel(writer, sheet_name='fixed_spreads')\n",
    "    fixed_durations_nonus.to_excel(writer, sheet_name='fixed_durations')\n",
    "    alts_returns_nonus.to_excel(writer, sheet_name='alts_returns')\n",
    "    historical_cross_currencies.to_excel(writer, sheet_name='currencies')"
   ]
  },
  {
   "cell_type": "code",
   "execution_count": 114,
   "metadata": {},
   "outputs": [],
   "source": [
    "with pd.ExcelWriter(r'P:\\\\Advisory\\\\Research\\\\Automation\\\\CMA_New\\\\Data\\\\term_structure_data.xlsx') as writer:\n",
    "    aa_corp_spread.to_excel(writer, sheet_name='aa_corp_spread')\n",
    "    fixed_treasury_yld.to_excel(writer, sheet_name='us_treas_yld')\n",
    "    fixed_treasury_dur.to_excel(writer, sheet_name='us_treas_dur')\n",
    "    gl_fixed_treasury_yld.to_excel(writer, sheet_name='gl_treas_yld')\n",
    "    gl_fixed_treasury_dur.to_excel(writer, sheet_name='gl_treas_dur') \n",
    "    gl_fixed_agg_yld.to_excel(writer, sheet_name='gl_agg_yld')\n",
    "    gl_fixed_agg_dur.to_excel(writer, sheet_name='gl_agg_dur')\n",
    "    gl_fixed_agg_spread.to_excel(writer, sheet_name='gl_agg_spreads')\n",
    "    em_fixed_treasury_yld.to_excel(writer, sheet_name='em_treas_yld')\n",
    "    em_fixed_treasury_dur.to_excel(writer, sheet_name='em_treas_dur')"
   ]
  },
  {
   "cell_type": "code",
   "execution_count": null,
   "metadata": {},
   "outputs": [],
   "source": []
  }
 ],
 "metadata": {
  "jupytext": {
   "formats": "ipynb,py:percent"
  },
  "kernelspec": {
   "display_name": "Python 3",
   "language": "python",
   "name": "python3"
  },
  "language_info": {
   "codemirror_mode": {
    "name": "ipython",
    "version": 3
   },
   "file_extension": ".py",
   "mimetype": "text/x-python",
   "name": "python",
   "nbconvert_exporter": "python",
   "pygments_lexer": "ipython3",
   "version": "3.7.4"
  },
  "toc-autonumbering": true
 },
 "nbformat": 4,
 "nbformat_minor": 4
}
