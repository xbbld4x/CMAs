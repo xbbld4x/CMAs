{
 "cells": [
  {
   "cell_type": "code",
   "execution_count": 10,
   "metadata": {},
   "outputs": [],
   "source": [
    "import cma_gui as cma\n",
    "import numpy as np\n",
    "import pandas as pd\n",
    "\n",
    "from datetime import datetime\n",
    "from dateutil.relativedelta import relativedelta\n",
    "from scipy import stats"
   ]
  },
  {
   "cell_type": "code",
   "execution_count": 11,
   "metadata": {},
   "outputs": [],
   "source": [
    "# 20 years of data dates\n",
    "last_date = datetime.strptime(cma.val_dict['as_of_date'], '%m-%d-%Y')\n",
    "first_date = last_date - relativedelta(years=20) + relativedelta(months=1)"
   ]
  },
  {
   "cell_type": "markdown",
   "metadata": {},
   "source": [
    "# Functions"
   ]
  },
  {
   "cell_type": "code",
   "execution_count": 12,
   "metadata": {},
   "outputs": [],
   "source": [
    "def returns_dataframe(file_suffix):\n",
    "    \"\"\" Combine all return streams and combine into one dataframe for beta backfill calculations \"\"\"\n",
    "    \n",
    "    file = r\"P:\\\\Advisory\\\\Research\\\\Automation\\\\CMAs\\\\Data\\\\bloomberg_data_\" + file_suffix + \".xlsx\"\n",
    "    \n",
    "    df_equity = pd.read_excel(file, sheet_name='equity_returns', index_col=0)\n",
    "    df_fixed = pd.read_excel(file, sheet_name='fixed_returns', index_col=0)\n",
    "    df_alts = pd.read_excel(file, sheet_name='alts_returns', index_col=0)\n",
    "\n",
    "    # Combine all index values into single dataframe\n",
    "    df_returns = df_equity.join(df_fixed, how=\"outer\").join(df_alts, how=\"outer\")\n",
    "    \n",
    "    # Reorder\n",
    "    order_name = list(filter(None, list({k:v for (k,v) in cma.val_dict.items() if '_' + file_suffix + '_name' in k}.values())))\n",
    "    df_returns = df_returns.reindex(columns=order_name)\n",
    "\n",
    "    # Filter dataframe to only include last 20 years\n",
    "    df_returns = df_returns.loc[first_date:last_date, :]\n",
    "    \n",
    "    return df_returns"
   ]
  },
  {
   "cell_type": "code",
   "execution_count": 13,
   "metadata": {},
   "outputs": [],
   "source": [
    "def backfill_determination(df_returns, file_suffix):\n",
    "    \"\"\" Determine what index to use for beta calculations \"\"\"\n",
    "    \n",
    "    asset_name = list(filter(None, list({k:v for (k,v) in cma.val_dict.items() if '_' + file_suffix + '_name' in k}.values())))\n",
    "    asset_beta = list(filter(None, list({k:v for (k,v) in cma.val_dict.items() if '_' + file_suffix + '_beta' in k}.values())))\n",
    "    df_backfill = pd.DataFrame(list(zip(asset_name, asset_beta)), columns =['Asset Class', 'Beta Relative To']).set_index('Asset Class') \n",
    "    \n",
    "    # Strip out values that don't need backfilled\n",
    "    filter_vals = ['Building Blocks', 'N/A']\n",
    "    df_backfill = df_backfill[~df_backfill['Beta Relative To'].str.contains('|'.join(filter_vals))]\n",
    "    \n",
    "    return df_backfill"
   ]
  },
  {
   "cell_type": "code",
   "execution_count": 14,
   "metadata": {},
   "outputs": [],
   "source": [
    "def backfill_calc(df_returns, df_backfill):\n",
    "    \"\"\" Fill in missing data with beta calculated proxy value \"\"\"\n",
    "    \n",
    "    # Determine columns with NaN\n",
    "    list_nan = df_returns.columns[df_returns.isna().any()].tolist()\n",
    "    \n",
    "    # Backfill indexes with beta adjusted returns if history is not available\n",
    "    for i in range(len(list_nan)):\n",
    "        list_nan_sub = list_nan[i]\n",
    "        backfill_sub = df_backfill.loc[list_nan[i], 'Beta Relative To']\n",
    "        df_bfill = df_returns[[list_nan_sub, backfill_sub]].dropna()\n",
    "        \n",
    "        slope, intercept, r_value, p_value, std_err = stats.linregress(df_bfill[backfill_sub].values, df_bfill[list_nan_sub].values)\n",
    "\n",
    "        df_returns[list_nan_sub].fillna(df_returns[backfill_sub] * slope + intercept, inplace=True)"
   ]
  },
  {
   "cell_type": "markdown",
   "metadata": {},
   "source": [
    "# USD"
   ]
  },
  {
   "cell_type": "code",
   "execution_count": 15,
   "metadata": {},
   "outputs": [],
   "source": [
    "df_returns_us = returns_dataframe('us')\n",
    "df_backfill_us = backfill_determination(df_returns_us, 'us')\n",
    "backfill_calc(df_returns_us, df_backfill_us)\n",
    "\n",
    "df_returns_us.to_csv(\n",
    "    r\"P:\\\\Advisory\\\\Research\\\\Automation\\\\CMAs\\\\Data\\\\combined_returns_us.csv\")"
   ]
  },
  {
   "cell_type": "markdown",
   "metadata": {},
   "source": [
    "# Non-USD"
   ]
  },
  {
   "cell_type": "code",
   "execution_count": 16,
   "metadata": {},
   "outputs": [],
   "source": [
    "# Import index values\n",
    "df_equity_nonus = pd.read_excel(\n",
    "    \"P:\\\\Advisory\\\\Research\\\\Automation\\\\CMAs\\\\Data\\\\bloomberg_data_nonus.xlsx\", sheet_name='equity_returns', index_col=0)\n",
    "df_fixed_nonus = pd.read_excel(\n",
    "    \"P:\\\\Advisory\\\\Research\\\\Automation\\\\CMAs\\\\Data\\\\bloomberg_data_nonus.xlsx\", sheet_name='fixed_returns', index_col=0)\n",
    "df_alts_nonus = pd.read_excel(\n",
    "    \"P:\\\\Advisory\\\\Research\\\\Automation\\\\CMAs\\\\Data\\\\bloomberg_data_nonus.xlsx\", sheet_name='alts_returns', index_col=0)\n",
    "df_currency = pd.read_excel(\n",
    "    \"P:\\\\Advisory\\\\Research\\\\Automation\\\\CMAs\\\\Data\\\\bloomberg_data_nonus.xlsx\", sheet_name='currencies', index_col=0)\n",
    "\n",
    "# Combine all index values into single dataframe\n",
    "df_index_nonus = df_equity_nonus.join(df_fixed_nonus, how=\"outer\").join(df_alts_nonus, how=\"outer\")"
   ]
  },
  {
   "cell_type": "code",
   "execution_count": null,
   "metadata": {},
   "outputs": [],
   "source": [
    "# Adjust indices for currency\n",
    "df_index_local= df_index_nonus.mul(df_currency[cma.val_dict['currency']], axis=0)\n",
    "\n",
    "# Add back in alts and us equity with non local results\n",
    "df_equity_nonus_usequity = df_equity_nonus['U.S. Equity']\n",
    "df_alts_nonus_nolocal = df_alts_nonus.merge(df_equity_nonus_usequity, left_index=True, right_index=True)\n",
    "df_alts_nonus_nolocal = df_alts_nonus_nolocal.add_prefix('USD_')\n",
    "\n",
    "df_index_local = df_index_local.join(df_alts_nonus_nolocal, how=\"outer\")\n",
    "\n",
    "# Calculate monthly returns in local currency\n",
    "df_returns_nonus = df_index_local.pct_change()\n",
    "\n",
    "# Filter dataframe to only include last 20 years\n",
    "df_returns_nonus = df_returns_nonus.loc[first_date:last_date, :]"
   ]
  },
  {
   "cell_type": "code",
   "execution_count": 18,
   "metadata": {},
   "outputs": [],
   "source": [
    "df_backfill_nonus = backfill_determination(df_returns_nonus, 'nonus')\n",
    "backfill_calc(df_returns_nonus, df_backfill_nonus)\n",
    "\n",
    "df_returns_nonus.to_csv(\n",
    "    r\"P:\\\\Advisory\\\\Research\\\\Automation\\\\CMAs\\\\Data\\\\combined_returns_nonus.csv\")"
   ]
  }
 ],
 "metadata": {
  "jupytext": {
   "formats": "ipynb,py:light"
  },
  "kernelspec": {
   "display_name": "Python 3",
   "language": "python",
   "name": "python3"
  },
  "language_info": {
   "codemirror_mode": {
    "name": "ipython",
    "version": 3
   },
   "file_extension": ".py",
   "mimetype": "text/x-python",
   "name": "python",
   "nbconvert_exporter": "python",
   "pygments_lexer": "ipython3",
   "version": "3.7.4"
  }
 },
 "nbformat": 4,
 "nbformat_minor": 4
}
