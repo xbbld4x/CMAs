{
 "cells": [
  {
   "cell_type": "code",
   "execution_count": 1,
   "metadata": {},
   "outputs": [],
   "source": [
    "import cma_gui as cma\n",
    "import fixed_income_calcs\n",
    "import std_dev\n",
    "\n",
    "import pandas as pd"
   ]
  },
  {
   "cell_type": "markdown",
   "metadata": {},
   "source": [
    "# Functions"
   ]
  },
  {
   "cell_type": "code",
   "execution_count": 2,
   "metadata": {},
   "outputs": [],
   "source": [
    "def beta_matrix(covariance_matrix, standard_deviations, beta_reference, name_reference):\n",
    "    df_beta =  pd.DataFrame(0, index=covariance_matrix.columns, columns=covariance_matrix.columns)\n",
    "    \n",
    "    # Set reference asset classes to 1\n",
    "    for i in range(len(df_beta.columns)):\n",
    "        df_beta.iloc[i, i] = 1\n",
    "    \n",
    "    # Calculate all betas\n",
    "    beta_calc = []\n",
    "    for i in range(len(covariance_matrix.columns)):\n",
    "        sub = df_beta.iloc[i,:].dot(covariance_matrix).div(standard_deviations.iloc[i,:].values[0]**2)\n",
    "        beta_calc.append(sub)\n",
    "    df_beta_calc = pd.DataFrame(beta_calc).T\n",
    "    \n",
    "    # Create dataframe with beta results\n",
    "    df_beta_relative_beta = list(filter(None, list({k:v for (k,v) in cma.val_dict.items() if beta_reference in k}.values())))\n",
    "    df_beta_relative_name = list(filter(None, list({k:v for (k,v) in cma.val_dict.items() if name_reference in k}.values())))\n",
    "    df_beta_relative = pd.DataFrame(zip(df_beta_relative_name, df_beta_relative_beta), columns =['Asset Class', 'Beta Relative To']).set_index('Asset Class')\n",
    "    df_expected_return = df_beta_calc.join(df_beta_relative, how='outer')\n",
    "    \n",
    "    return df_expected_return, df_beta_calc"
   ]
  },
  {
   "cell_type": "markdown",
   "metadata": {},
   "source": [
    "# USD"
   ]
  },
  {
   "cell_type": "markdown",
   "metadata": {},
   "source": [
    "## Building Block Returns"
   ]
  },
  {
   "cell_type": "code",
   "execution_count": 3,
   "metadata": {},
   "outputs": [],
   "source": [
    "# Calculate building block asset classes\n",
    "cash = fixed_income_calcs.fixed_returns_us['U.S. Treasury Bills']*100\n",
    "\n",
    "us_equity_return = cma.val_dict['us_inflation'] + cma.val_dict['us_reg'] + cma.val_dict['us_equity_income'] +\\\n",
    "    cma.val_dict['us_equity_val'] + cma.val_dict['us_equity_buyback']\n",
    "\n",
    "intl_equity_return = cma.val_dict['us_inflation'] + cma.val_dict['gl_exus_reg'] + cma.val_dict['gl_exus_equity_income'] +\\\n",
    "    cma.val_dict['gl_exus_equity_val'] + cma.val_dict['gl_exus_equity_buyback']\n",
    "\n",
    "em_equity_return = cma.val_dict['us_inflation'] + cma.val_dict['em_reg'] + cma.val_dict['em_equity_income'] +\\\n",
    "    cma.val_dict['em_equity_val'] + cma.val_dict['em_equity_buyback']\n",
    "\n",
    "gl_equity_return = (0.55 * us_equity_return) + (0.335 * intl_equity_return) + (0.11 * em_equity_return)"
   ]
  },
  {
   "cell_type": "markdown",
   "metadata": {},
   "source": [
    "## Beta Calcs"
   ]
  },
  {
   "cell_type": "code",
   "execution_count": 4,
   "metadata": {},
   "outputs": [],
   "source": [
    "# Import returns\n",
    "df_returns_us = pd.read_csv('P:\\\\Advisory\\\\Research\\\\Automation\\\\CMAs\\\\Data\\\\combined_returns_us.csv', index_col=0)\n",
    "\n",
    "df_expected_return_us, df_beta_reference_us = beta_matrix(std_dev.exp_cov_us, std_dev.annual_adj_std_dev_us, 'equity_us_beta', 'equity_us_name')    "
   ]
  },
  {
   "cell_type": "code",
   "execution_count": 5,
   "metadata": {},
   "outputs": [],
   "source": [
    "# Fill in building block returns\n",
    "df_expected_return_us['Expected Return'] = 'NaN'\n",
    "\n",
    "df_expected_return_us.loc[['U.S. Equity', 'Global Equity', 'International Developed Equity', 'Global Emerging Markets Equity'], 'Expected Return'] = (\n",
    "    us_equity_return, gl_equity_return, intl_equity_return, em_equity_return)"
   ]
  },
  {
   "cell_type": "code",
   "execution_count": 6,
   "metadata": {},
   "outputs": [],
   "source": [
    "# Fill in beta-relative returns\n",
    "df_expected_return_us.loc[df_expected_return_us['Beta Relative To'] == 'Global Emerging Markets Equity', 'Expected Return'] = ((em_equity_return - cash) * df_expected_return_us['Global Emerging Markets Equity'] + cash)\n",
    "df_expected_return_us.loc[df_expected_return_us['Beta Relative To'] == 'Global Equity', 'Expected Return'] = ((gl_equity_return - cash) * df_expected_return_us['Global Equity'] + cash)\n",
    "df_expected_return_us.loc[df_expected_return_us['Beta Relative To'] == 'International Developed Equity', 'Expected Return'] = ((intl_equity_return - cash) * df_expected_return_us['International Developed Equity'] + cash)\n",
    "df_expected_return_us.loc[df_expected_return_us['Beta Relative To'] == 'U.S. Equity', 'Expected Return'] = ((us_equity_return - cash) * df_expected_return_us['U.S. Equity'] + cash)"
   ]
  },
  {
   "cell_type": "code",
   "execution_count": 7,
   "metadata": {},
   "outputs": [],
   "source": [
    "# Finalize expected returns\n",
    "equity_returns_us = df_expected_return_us.dropna(subset=['Beta Relative To'])\n",
    "equity_returns_us = equity_returns_us.loc[:,'Expected Return']"
   ]
  },
  {
   "cell_type": "markdown",
   "metadata": {},
   "source": [
    "# NON-USD"
   ]
  },
  {
   "cell_type": "markdown",
   "metadata": {},
   "source": [
    "## Building Block Returns"
   ]
  },
  {
   "cell_type": "code",
   "execution_count": 9,
   "metadata": {},
   "outputs": [],
   "source": [
    "# Calculate building block asset classes\n",
    "cash_nonus = (fixed_income_calcs.fixed_returns_us['U.S. Treasury Bills'] + cma.val_dict['country_inflation']/100 - cma.val_dict['us_inflation']/100)*100\n",
    "\n",
    "us_equity_return = cma.val_dict['us_inflation'] + cma.val_dict['us_equity_income'] + cma.val_dict['us_equity_buyback'] +\\\n",
    "                    cma.val_dict['us_real_gdp'] + cma.val_dict['us_equity_val']\n",
    "\n",
    "europe_ex_uk_equity_return = cma.val_dict['us_inflation'] + cma.val_dict['europe_ex_uk_equity_income'] + cma.val_dict['europe_ex_uk_equity_buyback'] +\\\n",
    "                               cma.val_dict['europe_ex_uk_real_gdp'] + cma.val_dict['europe_ex_uk_equity_val']\n",
    "\n",
    "uk_equity_return = cma.val_dict['us_inflation'] + cma.val_dict['uk_equity_income'] + cma.val_dict['uk_equity_buyback'] +\\\n",
    "                               cma.val_dict['uk_real_gdp'] + cma.val_dict['uk_equity_val']\n",
    "\n",
    "japan_equity_return = cma.val_dict['us_inflation'] + cma.val_dict['japan_equity_income'] + cma.val_dict['japan_equity_buyback'] +\\\n",
    "                               cma.val_dict['japan_real_gdp'] + cma.val_dict['japan_equity_val']\n",
    "\n",
    "apac_ex_japan_equity_return = cma.val_dict['us_inflation'] + cma.val_dict['apac_ex_japan_equity_income'] + cma.val_dict['apac_ex_japan_equity_buyback'] +\\\n",
    "                               cma.val_dict['apac_ex_japan_real_gdp'] + cma.val_dict['apac_ex_japan_equity_val']\n",
    "\n",
    "emerging_equity_return = cma.val_dict['us_inflation'] + cma.val_dict['em_equity_income'] + cma.val_dict['em_equity_buyback'] +\\\n",
    "                               cma.val_dict['em_real_gdp'] + cma.val_dict['em_equity_val']"
   ]
  },
  {
   "cell_type": "markdown",
   "metadata": {},
   "source": [
    "## Beta Calcs"
   ]
  },
  {
   "cell_type": "code",
   "execution_count": 10,
   "metadata": {},
   "outputs": [],
   "source": [
    "# Import returns\n",
    "df_returns_nonus = pd.read_csv('P:\\\\Advisory\\\\Research\\\\Automation\\\\CMAs\\\\Data\\\\combined_returns_nonus.csv', index_col=0)\n",
    "\n",
    "df_expected_return_nonus, df_beta_reference_nonus = beta_matrix(std_dev.exp_cov_nonus, std_dev.annual_adj_std_dev_nonus, 'equity_nonus_beta', 'equity_nonus_name') "
   ]
  },
  {
   "cell_type": "markdown",
   "metadata": {},
   "source": [
    "## Equity Returns"
   ]
  },
  {
   "cell_type": "code",
   "execution_count": 11,
   "metadata": {},
   "outputs": [],
   "source": [
    "# Fill in building block returns\n",
    "df_expected_return_nonus['Expected Return'] = 'NaN'\n",
    "\n",
    "df_expected_return_nonus.loc[['U.S. Equity', 'Europe Ex-UK Equity', 'UK Equity','Japan Equity', 'Developed Market Pacific Ex-Japan Equity', \n",
    "                              'Global Emerging Markets Equity'], 'Expected Return'] = (\n",
    "                              us_equity_return - cma.val_dict['us_inflation'] + cma.val_dict['country_inflation'],\n",
    "                              europe_ex_uk_equity_return - cma.val_dict['us_inflation'] + cma.val_dict['country_inflation'],\n",
    "                              uk_equity_return - cma.val_dict['us_inflation'] + cma.val_dict['country_inflation'],\n",
    "                              japan_equity_return - cma.val_dict['us_inflation'] + cma.val_dict['country_inflation'],\n",
    "                              apac_ex_japan_equity_return - cma.val_dict['us_inflation'] + cma.val_dict['country_inflation'],\n",
    "                              emerging_equity_return - cma.val_dict['us_inflation'] + cma.val_dict['country_inflation'])"
   ]
  },
  {
   "cell_type": "code",
   "execution_count": 12,
   "metadata": {
    "lines_to_next_cell": 2
   },
   "outputs": [],
   "source": [
    "#Fill in beta-relative returns\n",
    "df_expected_return_nonus.loc[df_expected_return_nonus['Beta Relative To'] == 'U.S. Equity', 'Expected Return'] = \\\n",
    "    ((df_expected_return_nonus.loc['U.S. Equity','Expected Return'] - cash_nonus) * df_expected_return_nonus['U.S. Equity'] + cash_nonus)\n",
    "\n",
    "df_expected_return_nonus.loc[df_expected_return_nonus['Beta Relative To'] == 'Europe Ex-UK Equity', 'Expected Return'] = \\\n",
    "    ((df_expected_return_nonus.loc['Europe Ex-UK Equity','Expected Return'] - cash_nonus) * df_expected_return_nonus['Europe Ex-UK Equity'] + cash_nonus)\n",
    "\n",
    "df_expected_return_nonus.loc[df_expected_return_nonus['Beta Relative To'] == 'Japan Equity', 'Expected Return'] = \\\n",
    "    ((df_expected_return_nonus.loc['Japan Equity','Expected Return'] - cash_nonus) * df_expected_return_nonus['Japan Equity'] + cash_nonus)"
   ]
  },
  {
   "cell_type": "code",
   "execution_count": 13,
   "metadata": {
    "lines_to_next_cell": 0
   },
   "outputs": [],
   "source": [
    "# Finalize expected returns\n",
    "equity_returns_nonus = df_expected_return_nonus.dropna(subset=['Beta Relative To'])\n",
    "equity_returns_nonus = equity_returns_nonus.loc[:,'Expected Return']\n",
    "\n",
    "# Reorder\n",
    "df_equity_nonus = pd.read_excel(\n",
    "    \"P:\\\\Advisory\\\\Research\\\\Automation\\\\CMAs\\\\Data\\\\bloomberg_data_nonus.xlsx\", sheet_name='equity_returns', index_col=0)\n",
    "expected_return_equity_nonus_order = df_equity_nonus.columns.tolist()\n",
    "\n",
    "equity_returns_nonus = equity_returns_nonus.reindex(index=expected_return_equity_nonus_order)"
   ]
  },
  {
   "cell_type": "code",
   "execution_count": null,
   "metadata": {
    "lines_to_next_cell": 2
   },
   "outputs": [],
   "source": []
  }
 ],
 "metadata": {
  "jupytext": {
   "formats": "ipynb,py:light"
  },
  "kernelspec": {
   "display_name": "Python 3",
   "language": "python",
   "name": "python3"
  },
  "language_info": {
   "codemirror_mode": {
    "name": "ipython",
    "version": 3
   },
   "file_extension": ".py",
   "mimetype": "text/x-python",
   "name": "python",
   "nbconvert_exporter": "python",
   "pygments_lexer": "ipython3",
   "version": "3.7.3"
  },
  "toc-autonumbering": true
 },
 "nbformat": 4,
 "nbformat_minor": 4
}
