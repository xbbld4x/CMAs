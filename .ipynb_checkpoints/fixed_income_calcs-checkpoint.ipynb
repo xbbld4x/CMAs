{
 "cells": [
  {
   "cell_type": "code",
   "execution_count": 1,
   "metadata": {},
   "outputs": [],
   "source": [
    "import backfill_calc\n",
    "import cma_gui as cma\n",
    "import math\n",
    "import numpy as np\n",
    "import operator\n",
    "import pandas as pd\n",
    "\n",
    "from nelson_siegel_svensson.calibrate import betas_ns_ols\n",
    "from scipy.stats import mstats"
   ]
  },
  {
   "cell_type": "markdown",
   "metadata": {},
   "source": [
    "# Functions"
   ]
  },
  {
   "cell_type": "markdown",
   "metadata": {},
   "source": [
    "## Term Structure Functions"
   ]
  },
  {
   "cell_type": "code",
   "execution_count": 2,
   "metadata": {},
   "outputs": [],
   "source": [
    "def rate_norm(current_yield, norm_years, future_yield):\n",
    "    \"\"\"Determine future normalized rates\"\"\"\n",
    "    df_yield_10yr = pd.DataFrame(current_yield)\n",
    "    \n",
    "    for i in range(1,11):\n",
    "        df_yield_10yr[i] = np.nan\n",
    "\n",
    "    # Normalized values\n",
    "    for i in range(norm_years, 11):\n",
    "         df_yield_10yr.iloc[:,i] = future_yield\n",
    "    \n",
    "    # Path to reach normalized yield state\n",
    "    for i in range(1, norm_years):\n",
    "        df_yield_10yr.iloc[:, i] = [(x - y) /norm_years for x, y in zip(future_yield, current_yield)] + df_yield_10yr.iloc[:,i-1]\n",
    "    \n",
    "    return df_yield_10yr"
   ]
  },
  {
   "cell_type": "code",
   "execution_count": 3,
   "metadata": {},
   "outputs": [],
   "source": [
    "def curve_params(current_duration, yield_path):\n",
    "    \n",
    "    \"\"\"Calculate parameters for all 10 years\"\"\"\n",
    "    df_yield_params = pd.DataFrame(['NaN', 'NaN', 'NaN'], columns=['Current'])\n",
    "\n",
    "    for i in range(1,11):\n",
    "        df_yield_params[i] = np.nan\n",
    "\n",
    "    tau=1.65\n",
    "\n",
    "    param_list = []\n",
    "    for i in range(0, 11):\n",
    "        t = np.array(current_duration)\n",
    "        y = np.array(yield_path.iloc[:,i])\n",
    "\n",
    "        curve, status = betas_ns_ols(tau, t, y)\n",
    "        curve = str(curve)\n",
    "\n",
    "        B0 = float((curve.split('=')[1]).split(',')[0])\n",
    "        B1 = float((curve.split('=')[2]).split(',')[0])\n",
    "        B2 = float((curve.split('=')[3]).split(',')[0])\n",
    "        param = [B0, B1, B2]\n",
    "        df_yield_params.iloc[:,i] = param\n",
    "        \n",
    "    return df_yield_params"
   ]
  },
  {
   "cell_type": "code",
   "execution_count": 4,
   "metadata": {},
   "outputs": [],
   "source": [
    "def curve_final(yield_params):\n",
    "    \n",
    "    \"\"\"Calculate final 10 year curves\"\"\"\n",
    "    tau=1.65\n",
    "    \n",
    "    # Yield Curve Over Next 10 Years\n",
    "    term_structure = (np.arange(0.5, 100.5, 0.5))\n",
    "\n",
    "    curve_list = []\n",
    "    for i in range(0, 11):\n",
    "        curve_item = [yield_params.iloc[0,i] + yield_params.iloc[1,i] * (tau / x) * (1 - math.exp(-x / tau)) + yield_params.iloc[2,i] * (tau / x) * (1 - (1 + x / tau) * math.exp(-x / tau)) for x in term_structure]\n",
    "        curve_list.append(curve_item)\n",
    "\n",
    "    df_yield_curves = pd.DataFrame(curve_list).T\n",
    "    df_yield_curves['Term Structure'] = term_structure\n",
    "    return df_yield_curves"
   ]
  },
  {
   "cell_type": "markdown",
   "metadata": {},
   "source": [
    "## Fixed Income Return Functions"
   ]
  },
  {
   "cell_type": "code",
   "execution_count": 5,
   "metadata": {},
   "outputs": [],
   "source": [
    "def term_assignment(suffix):\n",
    "    \n",
    "    asset_name = {k:v for (k,v) in cma.val_dict.items() if 'fixed_' + suffix + '_name' in k}\n",
    "    asset_name = [i for i in asset_name.values()]\n",
    "    \n",
    "    asset_term = {k:v for (k,v) in cma.val_dict.items() if 'fixed_' + suffix + '_term' in k}\n",
    "    asset_term = [i for i in asset_term.values()]\n",
    "    \n",
    "    asset_dict = dict(zip(asset_name, asset_term))\n",
    "    \n",
    "    return asset_dict"
   ]
  },
  {
   "cell_type": "code",
   "execution_count": 6,
   "metadata": {},
   "outputs": [],
   "source": [
    "def future_tsy_ylds(term_struc, term_dict, term_suffix, duration_suffix):\n",
    "    \n",
    "    term = {k:v for (k,v) in term_dict.items() if v==term_struc}\n",
    "    durations = eval('duration_' + duration_suffix).filter(items = term).tolist()\n",
    "    \n",
    "    iteration_list = [abs(eval('df_yield_curves_' + term_suffix)['Term Structure'] - x).idxmin() for x in durations]\n",
    "    future_tsy_yld = pd.DataFrame(index=range(0,10), columns=term.keys())\n",
    "    \n",
    "    for i in range(1, 11):\n",
    "        future_tsy_yld.loc[i-1,:] = [eval('df_yield_curves_' + term_suffix).iloc[x, i] for x in iteration_list]\n",
    "    \n",
    "    return future_tsy_yld"
   ]
  },
  {
   "cell_type": "code",
   "execution_count": 7,
   "metadata": {},
   "outputs": [],
   "source": [
    "def future_spreads(spread_current, spread_history):\n",
    "    \n",
    "    norm_reference = cma.val_dict['spread_norm_yrs']\n",
    "    \n",
    "    future_spreads = pd.DataFrame(spread_current).T\n",
    "    future_spreads = future_spreads.reset_index(drop=True)\n",
    "    \n",
    "    # Winsorize spread norm\n",
    "    spread_norm = []\n",
    "    for i in range(len(spread_history.columns)):\n",
    "        list = mstats.winsorize(spread_history.iloc[:,i].dropna(), limits=[0.05, 0.05], inclusive=[True, True])\n",
    "\n",
    "        def Average(lst): \n",
    "            return sum(lst) / len(lst) \n",
    "        spread_norm.append(Average(list))\n",
    "    \n",
    "    # Create shell dataframe\n",
    "    for i in range(1,11):\n",
    "        future_spreads.loc[i] = np.nan\n",
    "    \n",
    "    # Calculate normalized spread path\n",
    "    for i in range(norm_reference, 11):\n",
    "        future_spreads.iloc[i,:] = spread_norm\n",
    "    \n",
    "    # Populate data for years leading up to normalization\n",
    "    for i in range(1, norm_reference):\n",
    "        future_spreads.iloc[i,:] = (future_spreads.iloc[norm_reference,:] - future_spreads.iloc[0,:]) / norm_reference + future_spreads.iloc[i-1,:]\n",
    "    \n",
    "    return future_spreads"
   ]
  },
  {
   "cell_type": "code",
   "execution_count": 8,
   "metadata": {},
   "outputs": [],
   "source": [
    "def future_ylds(current_yields, suffix):\n",
    "    \n",
    "    future_ylds = pd.DataFrame(current_yields).T\n",
    "    future_ylds = future_ylds.reset_index(drop=True)\n",
    "    \n",
    "    for i in range(1, 11):\n",
    "        future_ylds.loc[i,:] = eval('future_tsy_ylds_' + suffix).loc[i-1,:] + eval('future_spreads_' + suffix).loc[i,:]\n",
    "    \n",
    "    return future_ylds"
   ]
  },
  {
   "cell_type": "code",
   "execution_count": 9,
   "metadata": {},
   "outputs": [],
   "source": [
    "def future_duration(current_duration, suffix):\n",
    "    future_duration = pd.DataFrame(current_duration).T\n",
    "    future_duration = future_duration.reset_index(drop=True)\n",
    "\n",
    "    for i in range(0, 10):\n",
    "        future_duration.loc[i,:] = current_duration\n",
    "    \n",
    "    return future_duration"
   ]
  },
  {
   "cell_type": "code",
   "execution_count": 10,
   "metadata": {},
   "outputs": [],
   "source": [
    "def default_recovery(suffix):\n",
    "    default_name = {k:v for (k,v) in cma.val_dict.items() if 'fixed_' + suffix + '_name' in k}\n",
    "    default_name = [i for i in default_name.values() if i != '']\n",
    "    \n",
    "    default_rate = {k:v for (k,v) in cma.val_dict.items() if 'fixed_' + suffix + '_default' in k}\n",
    "    default_rate = [0 if i=='N/A' else i for i in default_rate.values()]\n",
    "    default_rate = [i/100 for i in default_rate if i != '']\n",
    "    \n",
    "    recovery_rate = {k:v for (k,v) in cma.val_dict.items() if 'fixed_' + suffix + '_recover' in k}\n",
    "    recovery_rate = [0 if i=='N/A' else i for i in recovery_rate.values()]\n",
    "    recovery_rate = [i/100 for i in recovery_rate if i != '']\n",
    "    \n",
    "    impact_rate = [a*(1-b) for a,b in zip(default_rate, recovery_rate)]\n",
    "    \n",
    "    return impact_rate"
   ]
  },
  {
   "cell_type": "code",
   "execution_count": 11,
   "metadata": {},
   "outputs": [],
   "source": [
    "def annual_returns(current_yields, future_yields, future_durations, default_impact):\n",
    "    annual_returns = pd.DataFrame(current_yields).T\n",
    "    annual_returns = annual_returns.reset_index(drop=True).iloc[1:,:]\n",
    "    \n",
    "    for i in range(0, 10):\n",
    "        annual_returns.loc[i,:] = future_yields.iloc[i,:] - (future_yields.iloc[i+1,:] - future_yields.iloc[i,:]) * future_durations.iloc[i,:]\\\n",
    "            +100 *(future_yields.iloc[i+1,:] - future_yields.iloc[i,:]) **2\n",
    "        \n",
    "    # Adjust for default and recovery rates\n",
    "    for i in range(len(annual_returns.columns)):\n",
    "        annual_returns.iloc[:,i] = annual_returns.iloc[:,i] - default_impact[i]\n",
    "    \n",
    "    return annual_returns"
   ]
  },
  {
   "cell_type": "markdown",
   "metadata": {},
   "source": [
    "# MAIN VARIABLES"
   ]
  },
  {
   "cell_type": "code",
   "execution_count": 12,
   "metadata": {},
   "outputs": [],
   "source": [
    "first_date = backfill_calc.first_date\n",
    "last_date = backfill_calc.last_date\n",
    "\n",
    "term_file = r'P:\\\\Advisory\\\\Research\\\\Automation\\\\CMAs\\\\Data\\\\term_structure_data.xlsx'"
   ]
  },
  {
   "cell_type": "markdown",
   "metadata": {},
   "source": [
    "# TERM STRUCTURES"
   ]
  },
  {
   "cell_type": "markdown",
   "metadata": {},
   "source": [
    "## US TERM STRUCTURE"
   ]
  },
  {
   "cell_type": "code",
   "execution_count": 13,
   "metadata": {},
   "outputs": [],
   "source": [
    "# Read in data as of last date and convert to list, \n",
    "current_yield_us = (pd.read_excel(term_file, sheet_name='us_treas_yld', index_col=0).loc[last_date,:] / 100).to_list()\n",
    "current_duration_us = (pd.read_excel(term_file, sheet_name='us_treas_dur', index_col=0).loc[last_date,:]).to_list()\n",
    "\n",
    "# Term premium\n",
    "term_premium_us = [cma.val_dict['term_prem_3mo'], cma.val_dict['term_prem_5yr']/100, cma.val_dict['term_prem_10yr']/100, cma.val_dict['term_prem_30yr']/100]\n",
    "\n",
    "# Establish future yields and duration\n",
    "future_yield_base_us = (cma.val_dict['us_inflation']/100 + cma.val_dict['us_rcr']/100)\n",
    "future_yield_us = [future_yield_base_us, (future_yield_base_us + cma.val_dict['term_prem_5yr']/100), (future_yield_base_us + cma.val_dict['term_prem_10yr']/100), \n",
    "                   (future_yield_base_us + cma.val_dict['term_prem_30yr']/100)]\n",
    "\n",
    "future_duration_us = current_duration_us"
   ]
  },
  {
   "cell_type": "code",
   "execution_count": 14,
   "metadata": {},
   "outputs": [],
   "source": [
    "df_yield_10yr_us = rate_norm(current_yield_us, cma.val_dict['yield_norm_yrs'], future_yield_us)\n",
    "df_yield_params_us = curve_params(current_duration_us, df_yield_10yr_us)\n",
    "df_yield_curves_us = curve_final(df_yield_params_us)"
   ]
  },
  {
   "cell_type": "markdown",
   "metadata": {},
   "source": [
    "## GLOBAL TERM STRUCTURE"
   ]
  },
  {
   "cell_type": "code",
   "execution_count": 15,
   "metadata": {},
   "outputs": [],
   "source": [
    "# Read in data as of last date and convert to list, \n",
    "current_yield_gl = (pd.read_excel(term_file, sheet_name='gl_treas_yld', index_col=0).loc[last_date,:] / 100).to_list()\n",
    "current_yield_gl.insert(0, 0.010)\n",
    "\n",
    "current_duration_gl = (pd.read_excel(term_file, sheet_name='gl_treas_dur', index_col=0).loc[last_date,:]).to_list()\n",
    "current_duration_gl.insert(0, 0.25)\n",
    "\n",
    "# Term premium\n",
    "iteration_list_gl_tp = [abs(df_yield_curves_us['Term Structure'] - x).idxmin() for x in current_duration_gl]\n",
    "\n",
    "for i in range(6):\n",
    "      gl_term_premium = [df_yield_curves_us.iloc[x, i] - future_yield_base_us for x in iteration_list_gl_tp]\n",
    "gl_term_premium[:] = [x - cma.val_dict['gl_theme_tp_adjust'] for x in gl_term_premium]\n",
    "gl_term_premium[0] = 0\n",
    "\n",
    "# Establish future yields and duration\n",
    "future_yield_base_gl = (cma.val_dict['gl_inflation']/100 + cma.val_dict['gl_rcr']/100)\n",
    "future_yield_gl = [future_yield_base_gl, (future_yield_base_gl + gl_term_premium[1]), (future_yield_base_gl + gl_term_premium[2]),\n",
    "                       (future_yield_base_gl + gl_term_premium[3]), (future_yield_base_gl + gl_term_premium[4]), (future_yield_base_gl + gl_term_premium[5])]\n",
    "\n",
    "future_duration_gl = current_duration_gl"
   ]
  },
  {
   "cell_type": "code",
   "execution_count": 16,
   "metadata": {},
   "outputs": [],
   "source": [
    "df_yield_10yr_gl = rate_norm(current_yield_gl, cma.val_dict['gl_yield_norm_yrs'], future_yield_gl)\n",
    "df_yield_params_gl = curve_params(current_duration_gl, df_yield_10yr_gl)\n",
    "df_yield_curves_gl = curve_final(df_yield_params_gl)"
   ]
  },
  {
   "cell_type": "markdown",
   "metadata": {},
   "source": [
    "## GLOBAL EX-US TERM STRUCTURE"
   ]
  },
  {
   "cell_type": "code",
   "execution_count": 17,
   "metadata": {},
   "outputs": [],
   "source": [
    "# Read in data as of last date and convert to list, \n",
    "current_yield_gl_agg = (pd.read_excel(term_file, sheet_name='gl_agg_yld', index_col=0).loc[last_date,:] / 100).to_list()\n",
    "current_yield_gl_agg.insert(0, 0)\n",
    "\n",
    "current_spread_gl_agg = (pd.read_excel(term_file, sheet_name='gl_agg_spreads', index_col=0).loc[last_date,:] / 100).to_list()\n",
    "current_spread_gl_agg.insert(0, 0)\n",
    "\n",
    "# Current yield calculated as agg yield minus spread\n",
    "current_yield_gl_exus = list(map(operator.sub, current_yield_gl_agg, current_spread_gl_agg))\n",
    "\n",
    "current_duration_gl_exus = (pd.read_excel(term_file, sheet_name='gl_agg_dur', index_col=0).loc[last_date,:]).to_list()\n",
    "current_duration_gl_exus.insert(0, 0.25)\n",
    "\n",
    "# Term premium\n",
    "iteration_list_gl_exus_tp = [abs(df_yield_curves_us['Term Structure'] - x).idxmin() for x in current_duration_gl_exus]\n",
    "\n",
    "for i in range(6):\n",
    "    gl_exus_term_premium = [df_yield_curves_us.iloc[x, i] - future_yield_base_us for x in iteration_list_gl_exus_tp]\n",
    "    gl_exus_term_premium[:] = [x - cma.val_dict['gl_exus_theme_tp_adjust']/100 for x in gl_exus_term_premium]\n",
    "    gl_exus_term_premium[0] = 0\n",
    "    \n",
    "# Establish future yields and duration\n",
    "future_yield_base_gl_exus = (cma.val_dict['gl_exus_inflation']/100 + cma.val_dict['gl_exus_rcr']/100)\n",
    "future_yield_gl_exus = [future_yield_base_gl_exus, (future_yield_base_gl_exus + gl_exus_term_premium[1]), (future_yield_base_gl_exus + gl_exus_term_premium[2]),\n",
    "                       (future_yield_base_gl_exus + gl_exus_term_premium[3]), (future_yield_base_gl_exus + gl_exus_term_premium[4]), (future_yield_base_gl_exus + gl_exus_term_premium[5])]\n",
    "\n",
    "future_duration_gl_exus = current_duration_gl_exus"
   ]
  },
  {
   "cell_type": "code",
   "execution_count": 18,
   "metadata": {},
   "outputs": [],
   "source": [
    "df_yield_10yr_gl_exus = rate_norm(current_yield_gl_exus, cma.val_dict['gl_yield_norm_yrs'], future_yield_gl_exus)\n",
    "df_yield_params_gl_exus = curve_params(current_duration_gl_exus, df_yield_10yr_gl_exus)\n",
    "df_yield_curves_gl_exus = curve_final(df_yield_params_gl_exus)"
   ]
  },
  {
   "cell_type": "markdown",
   "metadata": {},
   "source": [
    "## EM TERM STRUCTURE"
   ]
  },
  {
   "cell_type": "code",
   "execution_count": 19,
   "metadata": {},
   "outputs": [],
   "source": [
    "# Read in data as of last date and convert to list, \n",
    "current_yield_em = (pd.read_excel(term_file, sheet_name='em_treas_yld', index_col=0).loc[last_date,:] / 100).to_list()\n",
    "current_yield_em.insert(0, 0.045)\n",
    "\n",
    "current_duration_em = (pd.read_excel(term_file, sheet_name='em_treas_dur', index_col=0).loc[last_date,:]).to_list()\n",
    "current_duration_em.insert(0, 0.25)\n",
    "\n",
    "# Term premium\n",
    "iteration_list_em_tp = [abs(df_yield_curves_us['Term Structure'] - x).idxmin() for x in current_duration_em]\n",
    "\n",
    "for i in range(6):\n",
    "      em_term_premium = [df_yield_curves_us.iloc[x, i] - future_yield_base_us for x in iteration_list_em_tp]\n",
    "em_term_premium[:] = [x - cma.val_dict['em_theme_tp_adjust'] for x in em_term_premium]\n",
    "em_term_premium[0] = 0\n",
    "\n",
    "# Establish future yields and duration\n",
    "future_yield_base_em = (cma.val_dict['em_inflation']/100 + cma.val_dict['em_rcr']/100)\n",
    "future_yield_em = [future_yield_base_em, (future_yield_base_em + em_term_premium[1]), (future_yield_base_em + em_term_premium[2]),\n",
    "                       (future_yield_base_em + em_term_premium[3]), (future_yield_base_em + em_term_premium[4]), (future_yield_base_em + em_term_premium[5])]\n",
    "\n",
    "future_duration_em = current_duration_em"
   ]
  },
  {
   "cell_type": "code",
   "execution_count": 20,
   "metadata": {},
   "outputs": [],
   "source": [
    "df_yield_10yr_em = rate_norm(current_yield_em, cma.val_dict['em_yield_norm_yrs'], future_yield_em)\n",
    "df_yield_params_em = curve_params(current_duration_em, df_yield_10yr_em)\n",
    "df_yield_curves_em = curve_final(df_yield_params_em)"
   ]
  },
  {
   "cell_type": "markdown",
   "metadata": {},
   "source": [
    "# CMA RETURNS"
   ]
  },
  {
   "cell_type": "markdown",
   "metadata": {},
   "source": [
    "## US CMAs"
   ]
  },
  {
   "cell_type": "code",
   "execution_count": 21,
   "metadata": {},
   "outputs": [],
   "source": [
    "# Import Current Data\n",
    "us_fixed_file = r'P:\\\\Advisory\\\\Research\\\\Automation\\\\CMAs\\\\Data\\\\bloomberg_data_us.xlsx'\n",
    "\n",
    "# Establish name orders\n",
    "asset_order = {k:v for (k,v) in cma.val_dict.items() if 'fixed_us_name' in k}\n",
    "asset_order = [i for i in asset_order.values()if i !='']\n",
    "\n",
    "yield_us = (pd.read_excel(us_fixed_file, sheet_name='fixed_yields', index_col=0).loc[last_date,:] / 100).reindex(index=asset_order)\n",
    "duration_us = (pd.read_excel(us_fixed_file, sheet_name='fixed_durations', index_col=0).loc[last_date,:]).reindex(index=asset_order)\n",
    "\n",
    "spread_us = (pd.read_excel(us_fixed_file, sheet_name='fixed_spreads', index_col=0).loc[last_date,:] / 100).reindex(index=asset_order)\n",
    "spread_us['U.S. TIPS'] = -0.0205\n",
    "spread_us['U.S. Short Municipal'] = -0.0020\n",
    "spread_us_history = (pd.read_excel(us_fixed_file, sheet_name='fixed_spreads', index_col=0).loc[first_date:last_date,:] / 100).reindex(columns=asset_order)"
   ]
  },
  {
   "cell_type": "code",
   "execution_count": 22,
   "metadata": {},
   "outputs": [],
   "source": [
    "term_assign_us = term_assignment('us')"
   ]
  },
  {
   "cell_type": "code",
   "execution_count": 23,
   "metadata": {},
   "outputs": [],
   "source": [
    "# Future Treasury Yields\n",
    "fixed_us_usterm = future_tsy_ylds('US', term_assign_us, 'us', 'us')\n",
    "fixed_us_nonusterm = future_tsy_ylds('NonUS', term_assign_us, 'gl_exus', 'us')\n",
    "fixed_us_emterm = future_tsy_ylds('EM', term_assign_us, 'em', 'us')\n",
    "\n",
    "future_tsy_ylds_us = pd.concat([fixed_us_usterm, fixed_us_nonusterm, fixed_us_emterm], axis=1)\n",
    "future_tsy_ylds_us = future_tsy_ylds_us.reindex(columns=asset_order)"
   ]
  },
  {
   "cell_type": "code",
   "execution_count": 24,
   "metadata": {
    "lines_to_next_cell": 2
   },
   "outputs": [],
   "source": [
    "# Future Spreads\n",
    "norm_reference = cma.val_dict['spread_norm_yrs']\n",
    " \n",
    "future_spreads_us = pd.DataFrame(future_tsy_ylds_us)\n",
    "future_spreads_us = future_spreads_us.reset_index(drop=True)\n",
    "future_spreads_us.iloc[0,:] = spread_us\n",
    "\n",
    "# Winsorize spread norm\n",
    "spread_norm = []\n",
    "for i in range(len(future_tsy_ylds_us.columns)):\n",
    "    list = mstats.winsorize(spread_us_history.iloc[:,i].dropna(), limits=[0.05, 0.05], inclusive=[True, True])\n",
    "\n",
    "    def Average(lst): \n",
    "        return sum(lst) / len(lst) \n",
    "    spread_norm.append(Average(list))\n",
    "    \n",
    "spread_norm = pd.DataFrame(zip(future_tsy_ylds_us.columns, spread_norm), columns=['Asset Class', 'Spread']).set_index('Asset Class')\n",
    "\n",
    "# Modifications for specific asset classes\n",
    "spread_norm_tips = -cma.val_dict['us_inflation']/100\n",
    "\n",
    "spread_norm_int_muni = (0.9 * future_tsy_ylds_us.loc[9, 'U.S. Intermediate Municipal'] \\\n",
    "                          - future_tsy_ylds_us.loc[9, 'U.S. Intermediate Municipal']) + 0.005\n",
    "spread_norm_short_muni = (0.9 * future_tsy_ylds_us.loc[9, 'U.S. Short Municipal'] \\\n",
    "                           - future_tsy_ylds_us.loc[9, 'U.S. Short Municipal']) + 0.003\n",
    "\n",
    "spread_norm.loc['U.S. Intermediate Municipal',:] = spread_norm_int_muni\n",
    "spread_norm.loc['U.S. Short Municipal',:] = spread_norm_short_muni\n",
    "spread_norm.loc['U.S. TIPS',:] = spread_norm_tips\n",
    "spread_norm = spread_norm['Spread'].tolist()\n",
    "\n",
    "# Create shell dataframe\n",
    "for i in range(1,11):\n",
    "    future_spreads_us.loc[i] = np.nan\n",
    "\n",
    "# Calculate normalized spread path\n",
    "for i in range(norm_reference, 11):\n",
    "    future_spreads_us.iloc[i,:] = spread_norm\n",
    "\n",
    "# Populate data for years leading up to normalization\n",
    "for i in range(1, norm_reference):\n",
    "    future_spreads_us.iloc[i,:] = (future_spreads_us.iloc[norm_reference,:] - future_spreads_us.iloc[0,:]) / norm_reference + future_spreads_us.iloc[i-1,:]\n",
    "    \n",
    "future_spreads_us = future_spreads_us.reindex(columns=asset_order)"
   ]
  },
  {
   "cell_type": "code",
   "execution_count": 25,
   "metadata": {},
   "outputs": [],
   "source": [
    "# Yield Forecast\n",
    "future_ylds_us = future_ylds(yield_us, 'us')"
   ]
  },
  {
   "cell_type": "code",
   "execution_count": 26,
   "metadata": {},
   "outputs": [],
   "source": [
    "# Duration Forecast\n",
    "future_duration_us = future_duration(duration_us, 'us')"
   ]
  },
  {
   "cell_type": "code",
   "execution_count": 27,
   "metadata": {},
   "outputs": [],
   "source": [
    "# Defaults/Recovery\n",
    "impact_us = default_recovery('us')"
   ]
  },
  {
   "cell_type": "code",
   "execution_count": 28,
   "metadata": {},
   "outputs": [],
   "source": [
    "# Annual Return Forecast\n",
    "annual_returns_us = annual_returns(yield_us, future_ylds_us, future_duration_us, impact_us)\n",
    "\n",
    "annual_returns_us['U.S. TIPS'] += cma.val_dict['us_inflation']/100 "
   ]
  },
  {
   "cell_type": "code",
   "execution_count": 40,
   "metadata": {
    "lines_to_next_cell": 2
   },
   "outputs": [
    {
     "data": {
      "text/plain": [
       "0.026060920973648427"
      ]
     },
     "execution_count": 40,
     "metadata": {},
     "output_type": "execute_result"
    }
   ],
   "source": [
    "# Expected Return\n",
    "fixed_returns_us = ((annual_returns_us + 1).product(axis=0)**(1/10)-1)"
   ]
  },
  {
   "cell_type": "markdown",
   "metadata": {},
   "source": [
    "## NON-US CMAs"
   ]
  },
  {
   "cell_type": "code",
   "execution_count": 30,
   "metadata": {},
   "outputs": [],
   "source": [
    "# Import Current Data\n",
    "nonus_fixed_file = r'P:\\\\Advisory\\\\Research\\\\Automation\\\\CMAs\\\\Data\\\\bloomberg_data_nonus.xlsx'\n",
    "\n",
    "yield_nonus = pd.read_excel(nonus_fixed_file, sheet_name='fixed_yields', index_col=0).loc[last_date,:] / 100\n",
    "duration_nonus = pd.read_excel(nonus_fixed_file, sheet_name='fixed_durations', index_col=0).loc[last_date,:]\n",
    "spread_nonus = pd.read_excel(nonus_fixed_file, sheet_name='fixed_spreads', index_col=0).loc[last_date,:] / 100\n",
    "\n",
    "spread_nonus_history = pd.read_excel(nonus_fixed_file, sheet_name='fixed_spreads', index_col=0).loc[first_date:last_date,:] / 100"
   ]
  },
  {
   "cell_type": "code",
   "execution_count": 31,
   "metadata": {
    "lines_to_next_cell": 0
   },
   "outputs": [],
   "source": [
    "term_assign_nonus = term_assignment('nonus')\n",
    "\n",
    "# Future Treasury Yields\n",
    "fixed_nonus_usterm = future_tsy_ylds('US', term_assign_nonus, 'us', 'nonus')\n",
    "fixed_nonus_nonusterm = future_tsy_ylds('NonUS', term_assign_nonus, 'gl', 'nonus')\n",
    "fixed_nonus_emterm = future_tsy_ylds('EM', term_assign_nonus, 'em', 'nonus')\n",
    "\n",
    "# Combine 3 term structure dataframes\n",
    "fixed_order_nonus = spread_nonus_history.columns.tolist()\n",
    "future_tsy_ylds_nonus = pd.concat([fixed_nonus_usterm, fixed_nonus_nonusterm, fixed_nonus_emterm], axis=1)\n",
    "future_tsy_ylds_nonus = future_tsy_ylds_nonus.reindex(columns=fixed_order_nonus)"
   ]
  },
  {
   "cell_type": "code",
   "execution_count": 32,
   "metadata": {},
   "outputs": [],
   "source": [
    "# Future Spreads\n",
    "future_spreads_nonus = future_spreads(spread_nonus, spread_nonus_history)"
   ]
  },
  {
   "cell_type": "code",
   "execution_count": 33,
   "metadata": {},
   "outputs": [],
   "source": [
    "# Yield Forecast\n",
    "future_ylds_nonus = future_ylds(yield_nonus, 'nonus')"
   ]
  },
  {
   "cell_type": "code",
   "execution_count": 34,
   "metadata": {},
   "outputs": [],
   "source": [
    "# Duration Forecast\n",
    "future_duration_nonus = future_duration(duration_nonus, 'nonus')"
   ]
  },
  {
   "cell_type": "code",
   "execution_count": 35,
   "metadata": {},
   "outputs": [],
   "source": [
    "# Defaults/Recovery\n",
    "impact_nonus = default_recovery('nonus')"
   ]
  },
  {
   "cell_type": "code",
   "execution_count": 36,
   "metadata": {},
   "outputs": [],
   "source": [
    "# Annual Return Forecast\n",
    "annual_returns_nonus = annual_returns(yield_nonus, future_ylds_nonus, future_duration_nonus, impact_nonus)"
   ]
  },
  {
   "cell_type": "code",
   "execution_count": 37,
   "metadata": {
    "lines_to_next_cell": 0
   },
   "outputs": [],
   "source": [
    "# Expected Return\n",
    "fixed_returns_nonus = ((annual_returns_nonus + 1).product(axis=0)**(1/10)-1)\n",
    "\n",
    "# Income Return\n",
    "income_return_nonus = future_ylds_nonus.mean() - impact_nonus\n",
    "\n",
    "# Final Return (Inflation_Adjusting)\n",
    "us_term = {k:v for (k,v) in term_assign_nonus.items() if v=='US'}\n",
    "us_term = [i for i in us_term.keys()]\n",
    "\n",
    "gl_term = {k:v for (k,v) in term_assign_nonus.items() if v=='NonUS'}\n",
    "gl_term = [i for i in gl_term.keys()]\n",
    "\n",
    "em_term = {k:v for (k,v) in term_assign_nonus.items() if v=='EM'}\n",
    "em_term = [i for i in em_term.keys()]\n",
    "\n",
    "fixed_returns_nonus.loc[us_term] = fixed_returns_nonus.loc[us_term] + cma.val_dict['country_inflation']/100 - cma.val_dict['us_inflation']/100\n",
    "fixed_returns_nonus.loc[gl_term] = fixed_returns_nonus.loc[gl_term] + cma.val_dict['country_inflation']/100 - cma.val_dict['gl_inflation']/100\n",
    "fixed_returns_nonus.loc[em_term] = fixed_returns_nonus.loc[em_term] + cma.val_dict['country_inflation']/100 - cma.val_dict['em_inflation']/100"
   ]
  }
 ],
 "metadata": {
  "jupytext": {
   "formats": "ipynb,py:light"
  },
  "kernelspec": {
   "display_name": "Python 3",
   "language": "python",
   "name": "python3"
  },
  "language_info": {
   "codemirror_mode": {
    "name": "ipython",
    "version": 3
   },
   "file_extension": ".py",
   "mimetype": "text/x-python",
   "name": "python",
   "nbconvert_exporter": "python",
   "pygments_lexer": "ipython3",
   "version": "3.7.3"
  },
  "toc-autonumbering": true
 },
 "nbformat": 4,
 "nbformat_minor": 4
}
