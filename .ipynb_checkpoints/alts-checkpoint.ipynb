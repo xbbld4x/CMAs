{
 "cells": [
  {
   "cell_type": "code",
   "execution_count": 1,
   "metadata": {},
   "outputs": [],
   "source": [
    "import cma_gui as cma\n",
    "import equity_calcs\n",
    "import std_dev\n",
    "\n",
    "import numpy as np\n",
    "import pandas as pd"
   ]
  },
  {
   "cell_type": "markdown",
   "metadata": {},
   "source": [
    "# US"
   ]
  },
  {
   "cell_type": "markdown",
   "metadata": {},
   "source": [
    "## IR Adjustments"
   ]
  },
  {
   "cell_type": "code",
   "execution_count": 2,
   "metadata": {},
   "outputs": [],
   "source": [
    "alts_us_name = list(filter(None, list({k:v for (k,v) in cma.val_dict.items() if 'alts_us_name' in k}.values())))\n",
    "alts_us_beta =list(filter(None, list({k:v for (k,v) in cma.val_dict.items() if 'alts_us_beta' in k}.values())))\n",
    "alts_us_ir =list(filter(None, list({k:v for (k,v) in cma.val_dict.items() if 'alts_us_ir' in k}.values())))\n",
    "\n",
    "df_alts_us = pd.DataFrame(list(zip(alts_us_name, alts_us_beta, alts_us_ir)), columns =['Asset Class', 'Beta Relative To', 'Information Ratio']) \n",
    "df_alts_us = df_alts_us.set_index('Asset Class')"
   ]
  },
  {
   "cell_type": "code",
   "execution_count": 3,
   "metadata": {},
   "outputs": [],
   "source": [
    "# Retrieve finalized standard deviaions for use in calcs\n",
    "std_dev_us = pd.DataFrame(std_dev.annual_adj_std_dev_us)\n",
    "std_dev_us = std_dev_us.rename(columns={0: 'Std Dev'})\n",
    "\n",
    "df_alts_us = df_alts_us.merge(std_dev_us, left_index=True, right_index=True)"
   ]
  },
  {
   "cell_type": "code",
   "execution_count": 4,
   "metadata": {},
   "outputs": [],
   "source": [
    "# Standard Deviations to use in calcs\n",
    "sd_to_use_us = []\n",
    "for name in df_alts_us.index:\n",
    "    if df_alts_us.loc[name,'Beta Relative To'] == 'Building Blocks':\n",
    "        sd_to_use_us.append(0)\n",
    "    else:\n",
    "        value = std_dev_us.loc[df_alts_us.loc[name,'Beta Relative To']][0]\n",
    "        sd_to_use_us.append(value)\n",
    "\n",
    "df_alts_us['Std Dev to Use'] = sd_to_use_us"
   ]
  },
  {
   "cell_type": "code",
   "execution_count": 5,
   "metadata": {
    "lines_to_next_cell": 2
   },
   "outputs": [],
   "source": [
    "# Determine beta value to use for calculations\n",
    "beta_to_use_us = []\n",
    "for name in df_alts_us.index:\n",
    "    skip_list = ['Building Blocks']\n",
    "    if df_alts_us.loc[name,'Beta Relative To'] in skip_list:\n",
    "        beta_to_use_us.append(0)\n",
    "    else:\n",
    "        beta_lookup = equity_calcs.df_beta_reference_us.loc[name, df_alts_us.loc[name,'Beta Relative To']]\n",
    "        beta_to_use_us.append(beta_lookup)\n",
    "    \n",
    "df_alts_us['Beta To Use'] = beta_to_use_us"
   ]
  },
  {
   "cell_type": "code",
   "execution_count": 6,
   "metadata": {},
   "outputs": [],
   "source": [
    "# Residual Risk\n",
    "df_alts_us['Residual Risk'] = (df_alts_us['Std Dev']**2 - df_alts_us['Beta To Use']**2 * df_alts_us['Std Dev to Use']**2)**(1/2)"
   ]
  },
  {
   "cell_type": "code",
   "execution_count": 7,
   "metadata": {},
   "outputs": [],
   "source": [
    "# Base return to use\n",
    "base_return_to_use_us = []\n",
    "for name in df_alts_us.index:\n",
    "    skip_list = ['Building Blocks', 'Commodities']\n",
    "    if df_alts_us.loc[name,'Beta Relative To'] in skip_list:\n",
    "        base_return_to_use_us.append(0)\n",
    "    else:\n",
    "        base_lookup = equity_calcs.equity_returns_us[df_alts_us.loc[name,'Beta Relative To']]\n",
    "        base_return_to_use_us.append(base_lookup)\n",
    "        \n",
    "df_alts_us['Base Return'] = base_return_to_use_us\n",
    "df_alts_us['Base Return'] = df_alts_us['Base Return']/100\n",
    "df_alts_us.loc['Energy Infrastructure','Base Return'] = cma.val_dict['us_inflation']/100"
   ]
  },
  {
   "cell_type": "code",
   "execution_count": 8,
   "metadata": {},
   "outputs": [],
   "source": [
    "# Calculate returns for alts with IR adjustments\n",
    "df_alts_us_ir = df_alts_us[df_alts_us['Information Ratio']!='N/A'].copy(deep=True)"
   ]
  },
  {
   "cell_type": "code",
   "execution_count": 9,
   "metadata": {},
   "outputs": [],
   "source": [
    "# Calc final expected return for alts with IR adjustments\n",
    "df_alts_us_ir['Expected Return'] = (\n",
    "    (equity_calcs.cash/100) + (df_alts_us_ir['Base Return'] - (equity_calcs.cash/100)) * df_alts_us_ir['Beta To Use'] +\\\n",
    "    df_alts_us_ir['Information Ratio'] * df_alts_us_ir['Residual Risk'])\n",
    "\n",
    "alts_returns_us_ir = df_alts_us_ir['Expected Return']*100"
   ]
  },
  {
   "cell_type": "markdown",
   "metadata": {},
   "source": [
    "## Non-IR Adjustments"
   ]
  },
  {
   "cell_type": "code",
   "execution_count": 10,
   "metadata": {},
   "outputs": [],
   "source": [
    "df_alts_us_no_ir = df_alts_us[df_alts_us['Information Ratio']=='N/A'].copy(deep=True)"
   ]
  },
  {
   "cell_type": "code",
   "execution_count": 11,
   "metadata": {},
   "outputs": [],
   "source": [
    "df_alts_us_no_ir['Expected Return'] = np.nan\n",
    "df_alts_us_no_ir.loc['Commodities', 'Expected Return'] = cma.val_dict['us_inflation']\n",
    "\n",
    "# Fill in beta-relative returns\n",
    "df_alts_us_no_ir.loc[df_alts_us_no_ir['Beta Relative To'] == 'Global Equity', 'Expected Return'] = ((equity_calcs.gl_equity_return - equity_calcs.cash) * df_alts_us_no_ir['Beta To Use'] + equity_calcs.cash)\n",
    "df_alts_us_no_ir.loc[df_alts_us_no_ir['Beta Relative To'] == 'U.S. Equity', 'Expected Return'] = ((equity_calcs.us_equity_return - equity_calcs.cash) * df_alts_us_no_ir['Beta To Use'] + equity_calcs.cash)\n",
    "alts_returns_us_no_ir = df_alts_us_no_ir['Expected Return']"
   ]
  },
  {
   "cell_type": "code",
   "execution_count": 12,
   "metadata": {},
   "outputs": [],
   "source": [
    "alts_returns_us = df_alts_us_no_ir['Expected Return']\n",
    "\n",
    "alts_returns_us = alts_returns_us_ir.append(alts_returns_us_no_ir)"
   ]
  },
  {
   "cell_type": "markdown",
   "metadata": {},
   "source": [
    "# Non USD"
   ]
  },
  {
   "cell_type": "code",
   "execution_count": 14,
   "metadata": {},
   "outputs": [],
   "source": [
    "alts_nonus_name = list(filter(None, list({k:v for (k,v) in cma.val_dict.items() if 'alts_nonus_name' in k}.values())))\n",
    "alts_nonus_beta =list(filter(None, list({k:v for (k,v) in cma.val_dict.items() if 'alts_nonus_beta' in k}.values())))\n",
    "alts_nonus_ir =list(filter(None, list({k:v for (k,v) in cma.val_dict.items() if 'alts_nonus_ir' in k}.values())))\n",
    "\n",
    "df_beta_relative_alts = pd.DataFrame(list(zip(alts_nonus_name, alts_nonus_beta, alts_nonus_ir)), columns =['Asset Class', 'Beta Relative To', 'Information Ratio'])\n",
    "\n",
    "df_beta_relative_alts = df_beta_relative_alts.set_index('Asset Class')\n",
    "df_expected_return = equity_calcs.df_beta_reference_nonus.join(df_beta_relative_alts, how='outer')\n",
    "\n",
    "# Fill beta for alts non local adjusted returns\n",
    "df_expected_return.loc[alts_nonus_name, :'USD_U.S. Equity'] = df_expected_return.loc[['USD_'+s for s in alts_nonus_name], :'USD_U.S. Equity'].values.tolist()"
   ]
  },
  {
   "cell_type": "markdown",
   "metadata": {},
   "source": [
    "## IR Adjusted Returns"
   ]
  },
  {
   "cell_type": "code",
   "execution_count": 15,
   "metadata": {},
   "outputs": [],
   "source": [
    "# Calculate returns for alts with IR adjustments\n",
    "df_alts_returns_nonus_ir = df_expected_return.dropna(subset=['Information Ratio']).copy(deep=True)\n",
    "df_alts_returns_nonus_ir['Expected Return'] = np.nan\n",
    "\n",
    "# Retrieve finalized standard deviaions for use in calcs\n",
    "std_dev = pd.DataFrame(std_dev.annual_adj_std_dev_nonus)\n",
    "std_dev = std_dev.rename(columns={0: 'Std Dev'})\n",
    "\n",
    "df_alts_returns_nonus_ir = df_alts_returns_nonus_ir.join(std_dev, how='outer')\n",
    "df_alts_returns_nonus_ir = df_alts_returns_nonus_ir.dropna(subset=['Information Ratio'])"
   ]
  },
  {
   "cell_type": "code",
   "execution_count": 16,
   "metadata": {},
   "outputs": [],
   "source": [
    "df_alts_returns_nonus_ir['Std Dev to Use'] = std_dev.loc['USD_U.S. Equity', 'Std Dev']\n",
    "\n",
    "# Fill std deviations and beta to use for non local adjusted returns\n",
    "sd_to_use = std_dev.loc[['USD_'+s for s in alts_nonus_name], 'Std Dev'].values.tolist()\n",
    "df_alts_returns_nonus_ir.loc[alts_nonus_name, 'Std Dev'] = sd_to_use\n",
    "\n",
    "beta_to_use = df_expected_return.loc[['USD_'+s for s in alts_nonus_name], 'USD_U.S. Equity'].values.tolist()\n",
    "df_alts_returns_nonus_ir.loc[alts_nonus_name, 'Beta To Use'] = beta_to_use"
   ]
  },
  {
   "cell_type": "code",
   "execution_count": 17,
   "metadata": {},
   "outputs": [],
   "source": [
    "# Residual Risk\n",
    "df_alts_returns_nonus_ir['Residual Risk'] = (df_alts_returns_nonus_ir['Std Dev']**2 - df_alts_returns_nonus_ir['Beta To Use']**2 * df_alts_returns_nonus_ir['Std Dev to Use']**2)**(1/2)"
   ]
  },
  {
   "cell_type": "code",
   "execution_count": 18,
   "metadata": {},
   "outputs": [],
   "source": [
    "# Revert beta back to local for final return calc\n",
    "df_beta_revert = equity_calcs.df_beta_reference_nonus.join(df_beta_relative_alts, how='outer').dropna(subset=['Information Ratio'])\n",
    "df_beta_revert = df_beta_revert.loc[:, 'U.S. Equity']"
   ]
  },
  {
   "cell_type": "code",
   "execution_count": 19,
   "metadata": {},
   "outputs": [
    {
     "data": {
      "text/plain": [
       "Global Macro         4.9\n",
       "Long-Short Equity    5.7\n",
       "Name: Expected Return, dtype: float64"
      ]
     },
     "execution_count": 19,
     "metadata": {},
     "output_type": "execute_result"
    }
   ],
   "source": [
    "# Calc final expected return\n",
    "df_alts_returns_nonus_ir['Expected Return'] = equity_calcs.cash/100 + (equity_calcs.equity_returns_nonus['U.S. Equity']/100 - equity_calcs.cash/100)\\\n",
    "    * df_beta_revert + df_alts_returns_nonus_ir['Information Ratio'] * df_alts_returns_nonus_ir['Residual Risk']\n",
    "\n",
    "alts_returns_nonus = (df_alts_returns_nonus_ir['Expected Return']*100).round(1)      "
   ]
  }
 ],
 "metadata": {
  "jupytext": {
   "formats": "ipynb,py:percent"
  },
  "kernelspec": {
   "display_name": "Python 3",
   "language": "python",
   "name": "python3"
  },
  "language_info": {
   "codemirror_mode": {
    "name": "ipython",
    "version": 3
   },
   "file_extension": ".py",
   "mimetype": "text/x-python",
   "name": "python",
   "nbconvert_exporter": "python",
   "pygments_lexer": "ipython3",
   "version": "3.7.3"
  }
 },
 "nbformat": 4,
 "nbformat_minor": 4
}
