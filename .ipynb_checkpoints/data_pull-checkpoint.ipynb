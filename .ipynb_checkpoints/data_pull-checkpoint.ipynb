{
 "cells": [
  {
   "cell_type": "code",
   "execution_count": 1,
   "metadata": {},
   "outputs": [],
   "source": [
    "import cma_gui as cma\n",
    "import pandas as pd\n",
    "\n",
    "from datetime import date\n",
    "from datetime import datetime\n",
    "from dateutil.relativedelta import relativedelta\n",
    "from xbbg import blp"
   ]
  },
  {
   "cell_type": "markdown",
   "metadata": {},
   "source": [
    "# As of Date"
   ]
  },
  {
   "cell_type": "code",
   "execution_count": 2,
   "metadata": {},
   "outputs": [],
   "source": [
    "# Date range for Bloomberg data pulls\n",
    "end_date = cma.end_date\n",
    "end_date_str = end_date.strftime('%m-%d-%Y')\n",
    "\n",
    "start_date = end_date - relativedelta(years=30)\n",
    "start_date_str = start_date.strftime('%m-%d-%Y')"
   ]
  },
  {
   "cell_type": "markdown",
   "metadata": {},
   "source": [
    "# Equity Data"
   ]
  },
  {
   "cell_type": "markdown",
   "metadata": {},
   "source": [
    "## USD"
   ]
  },
  {
   "cell_type": "code",
   "execution_count": 3,
   "metadata": {},
   "outputs": [],
   "source": [
    "# Bloomberg code to pull gross of dividend return values\n",
    "data_return = ['DAY_TO_DAY_TOT_RETURN_GROSS_DVDS']"
   ]
  },
  {
   "cell_type": "raw",
   "metadata": {},
   "source": [
    "equity_name_list = list(filter(None, list({k:v for (k,v) in cma.val_dict.items() if 'equity_us_name' in k}.values())))\n",
    "equity_list = list(filter(None, list({k:v for (k,v) in cma.val_dict.items() if 'equity_us_code' in k}.values())))\n",
    "equity_dictionary = dict(zip(equity_list, equity_name_list))"
   ]
  },
  {
   "cell_type": "code",
   "execution_count": 5,
   "metadata": {},
   "outputs": [],
   "source": [
    "equity_returns = blp.bdh(tickers=equity_list, flds=data_return, start_date=start_date_str, end_date=end_date_str, Per='M')\n",
    "\n",
    "# Rename and reorder columns\n",
    "equity_returns.columns = equity_returns.columns.droplevel(1)\n",
    "equity_returns.columns = equity_returns.columns.map(equity_dictionary)\n",
    "\n",
    "# Convert index to datetime\n",
    "equity_returns.index = pd.to_datetime(equity_returns.index)\n",
    "\n",
    "# Adjust dataframe for varying month end dates\n",
    "equity_returns = equity_returns.resample('M', axis=0).mean()"
   ]
  },
  {
   "cell_type": "markdown",
   "metadata": {},
   "source": [
    "## Non-USD"
   ]
  },
  {
   "cell_type": "code",
   "execution_count": 6,
   "metadata": {},
   "outputs": [],
   "source": [
    "# Bloomberg code to pull index values\n",
    "data_return_nonus = ['PX_LAST']"
   ]
  },
  {
   "cell_type": "code",
   "execution_count": 7,
   "metadata": {},
   "outputs": [],
   "source": [
    "# Reference for future renaming of columns\n",
    "equity_list_nonus = list(filter(None, list({k:v for (k,v) in cma.val_dict.items() if 'equity_nonus_code' in k}.values())))\n",
    "equity_name_list_nonus = list(filter(None, list({k:v for (k,v) in cma.val_dict.items() if 'equity_nonus_name' in k}.values())))\n",
    "equity_dictionary_nonus = dict(zip(equity_list_nonus, equity_name_list_nonus))"
   ]
  },
  {
   "cell_type": "code",
   "execution_count": 8,
   "metadata": {},
   "outputs": [],
   "source": [
    "equity_returns_nonus = blp.bdh(tickers=equity_list_nonus, flds=data_return_nonus, start_date=start_date_str, end_date=end_date_str, Per='M')\n",
    "\n",
    "# Rename and reorder columns\n",
    "equity_returns_nonus.columns = equity_returns_nonus.columns.droplevel(1)\n",
    "equity_returns_nonus.columns = equity_returns_nonus.columns.map(equity_dictionary_nonus)\n",
    "\n",
    "# Convert index to datetime\n",
    "equity_returns_nonus.index = pd.to_datetime(equity_returns_nonus.index)\n",
    "\n",
    "# Adjust dataframe for varying month end dates\n",
    "equity_returns_nonus = equity_returns_nonus.resample('M', axis=0).mean()\n",
    "equity_returns_nonus = equity_returns_nonus.reindex(columns=equity_name_list_nonus)"
   ]
  },
  {
   "cell_type": "markdown",
   "metadata": {},
   "source": [
    "# Fixed Income Data"
   ]
  },
  {
   "cell_type": "markdown",
   "metadata": {},
   "source": [
    "## USD - Fixed"
   ]
  },
  {
   "cell_type": "code",
   "execution_count": 9,
   "metadata": {},
   "outputs": [],
   "source": [
    "# Reference for future renaming of columns\n",
    "fixed_list = list(filter(None, list({k:v for (k,v) in cma.val_dict.items() if 'fixed_us_code' in k}.values())))\n",
    "fixed_name_list = list(filter(None, list({k:v for (k,v) in cma.val_dict.items() if 'fixed_us_name' in k}.values())))\n",
    "fixed_dictionary = dict(zip(fixed_list, fixed_name_list))"
   ]
  },
  {
   "cell_type": "markdown",
   "metadata": {},
   "source": [
    "### USD Fixed Returns"
   ]
  },
  {
   "cell_type": "code",
   "execution_count": 10,
   "metadata": {},
   "outputs": [],
   "source": [
    "fixed_returns = blp.bdh(tickers=fixed_list, flds=data_return, start_date=start_date_str, end_date=end_date_str, Per='M')\n",
    "\n",
    "# Rename and reorder columns\n",
    "fixed_returns.columns = fixed_returns.columns.droplevel(1)\n",
    "fixed_returns.columns = fixed_returns.columns.map(fixed_dictionary)\n",
    "\n",
    "# Convert index to datetime\n",
    "fixed_returns.index= pd.to_datetime(fixed_returns.index)\n",
    "\n",
    "# Adjust dataframe for varying month end dates\n",
    "fixed_returns = fixed_returns.resample('M', axis=0).mean()"
   ]
  },
  {
   "cell_type": "markdown",
   "metadata": {},
   "source": [
    "### USD Fixed Yields"
   ]
  },
  {
   "cell_type": "code",
   "execution_count": 11,
   "metadata": {},
   "outputs": [
    {
     "data": {
      "text/html": [
       "<div>\n",
       "<style scoped>\n",
       "    .dataframe tbody tr th:only-of-type {\n",
       "        vertical-align: middle;\n",
       "    }\n",
       "\n",
       "    .dataframe tbody tr th {\n",
       "        vertical-align: top;\n",
       "    }\n",
       "\n",
       "    .dataframe thead th {\n",
       "        text-align: right;\n",
       "    }\n",
       "</style>\n",
       "<table border=\"1\" class=\"dataframe\">\n",
       "  <thead>\n",
       "    <tr style=\"text-align: right;\">\n",
       "      <th>ticker</th>\n",
       "      <th>U.S. TIPS</th>\n",
       "      <th>Global Aggregate Ex-US</th>\n",
       "      <th>U.S. Agencies</th>\n",
       "      <th>U.S. Aggregate</th>\n",
       "      <th>U.S. MBS</th>\n",
       "      <th>Global Treasury Ex-US</th>\n",
       "      <th>U.S. Investment Grade CMBS</th>\n",
       "      <th>U.S. Treasury</th>\n",
       "      <th>Global Corporate Ex-US</th>\n",
       "      <th>U.S. Treasury Bills</th>\n",
       "      <th>...</th>\n",
       "      <th>U.S. Intermediate Municipal</th>\n",
       "      <th>U.S. Intermediate Treasury</th>\n",
       "      <th>Emerging Markets Corporate USD</th>\n",
       "      <th>Emerging Markets Sovereign Local Currency</th>\n",
       "      <th>U.S. Short Municipal</th>\n",
       "      <th>U.S. Long Treasury</th>\n",
       "      <th>U.S. High Yield</th>\n",
       "      <th>U.S. Investment Grade Credit</th>\n",
       "      <th>U.S. Intermediate Investment Grade Credit</th>\n",
       "      <th>U.S. Long Investment Grade Credit</th>\n",
       "    </tr>\n",
       "  </thead>\n",
       "  <tbody>\n",
       "    <tr>\n",
       "      <td>1989-10-31</td>\n",
       "      <td>NaN</td>\n",
       "      <td>NaN</td>\n",
       "      <td>NaN</td>\n",
       "      <td>8.640000</td>\n",
       "      <td>9.408434</td>\n",
       "      <td>7.977108</td>\n",
       "      <td>NaN</td>\n",
       "      <td>7.984029</td>\n",
       "      <td>NaN</td>\n",
       "      <td>7.900000</td>\n",
       "      <td>...</td>\n",
       "      <td>NaN</td>\n",
       "      <td>7.965786</td>\n",
       "      <td>NaN</td>\n",
       "      <td>NaN</td>\n",
       "      <td>NaN</td>\n",
       "      <td>8.031024</td>\n",
       "      <td>15.770000</td>\n",
       "      <td>9.110000</td>\n",
       "      <td>8.882382</td>\n",
       "      <td>9.360000</td>\n",
       "    </tr>\n",
       "    <tr>\n",
       "      <td>1989-11-30</td>\n",
       "      <td>NaN</td>\n",
       "      <td>NaN</td>\n",
       "      <td>NaN</td>\n",
       "      <td>8.515853</td>\n",
       "      <td>9.325886</td>\n",
       "      <td>8.218894</td>\n",
       "      <td>NaN</td>\n",
       "      <td>7.880072</td>\n",
       "      <td>NaN</td>\n",
       "      <td>7.830000</td>\n",
       "      <td>...</td>\n",
       "      <td>NaN</td>\n",
       "      <td>7.833245</td>\n",
       "      <td>NaN</td>\n",
       "      <td>NaN</td>\n",
       "      <td>NaN</td>\n",
       "      <td>7.997573</td>\n",
       "      <td>15.960000</td>\n",
       "      <td>9.095085</td>\n",
       "      <td>8.851407</td>\n",
       "      <td>9.354073</td>\n",
       "    </tr>\n",
       "    <tr>\n",
       "      <td>1989-12-31</td>\n",
       "      <td>NaN</td>\n",
       "      <td>NaN</td>\n",
       "      <td>NaN</td>\n",
       "      <td>8.616872</td>\n",
       "      <td>9.352302</td>\n",
       "      <td>8.318525</td>\n",
       "      <td>NaN</td>\n",
       "      <td>8.002128</td>\n",
       "      <td>NaN</td>\n",
       "      <td>7.980000</td>\n",
       "      <td>...</td>\n",
       "      <td>NaN</td>\n",
       "      <td>7.967049</td>\n",
       "      <td>NaN</td>\n",
       "      <td>NaN</td>\n",
       "      <td>NaN</td>\n",
       "      <td>8.089619</td>\n",
       "      <td>16.080000</td>\n",
       "      <td>9.209905</td>\n",
       "      <td>8.984499</td>\n",
       "      <td>9.457537</td>\n",
       "    </tr>\n",
       "    <tr>\n",
       "      <td>1990-01-31</td>\n",
       "      <td>NaN</td>\n",
       "      <td>8.900249</td>\n",
       "      <td>NaN</td>\n",
       "      <td>9.056316</td>\n",
       "      <td>9.646835</td>\n",
       "      <td>8.900249</td>\n",
       "      <td>NaN</td>\n",
       "      <td>8.433346</td>\n",
       "      <td>NaN</td>\n",
       "      <td>8.150000</td>\n",
       "      <td>...</td>\n",
       "      <td>NaN</td>\n",
       "      <td>8.381655</td>\n",
       "      <td>NaN</td>\n",
       "      <td>NaN</td>\n",
       "      <td>NaN</td>\n",
       "      <td>8.568524</td>\n",
       "      <td>16.530001</td>\n",
       "      <td>9.854914</td>\n",
       "      <td>9.368565</td>\n",
       "      <td>10.392285</td>\n",
       "    </tr>\n",
       "    <tr>\n",
       "      <td>1990-02-28</td>\n",
       "      <td>NaN</td>\n",
       "      <td>9.379464</td>\n",
       "      <td>NaN</td>\n",
       "      <td>9.079294</td>\n",
       "      <td>9.688283</td>\n",
       "      <td>9.379464</td>\n",
       "      <td>NaN</td>\n",
       "      <td>8.525526</td>\n",
       "      <td>NaN</td>\n",
       "      <td>8.110000</td>\n",
       "      <td>...</td>\n",
       "      <td>NaN</td>\n",
       "      <td>8.470144</td>\n",
       "      <td>NaN</td>\n",
       "      <td>NaN</td>\n",
       "      <td>NaN</td>\n",
       "      <td>8.669708</td>\n",
       "      <td>17.049999</td>\n",
       "      <td>9.635005</td>\n",
       "      <td>9.468124</td>\n",
       "      <td>9.818581</td>\n",
       "    </tr>\n",
       "    <tr>\n",
       "      <td>...</td>\n",
       "      <td>...</td>\n",
       "      <td>...</td>\n",
       "      <td>...</td>\n",
       "      <td>...</td>\n",
       "      <td>...</td>\n",
       "      <td>...</td>\n",
       "      <td>...</td>\n",
       "      <td>...</td>\n",
       "      <td>...</td>\n",
       "      <td>...</td>\n",
       "      <td>...</td>\n",
       "      <td>...</td>\n",
       "      <td>...</td>\n",
       "      <td>...</td>\n",
       "      <td>...</td>\n",
       "      <td>...</td>\n",
       "      <td>...</td>\n",
       "      <td>...</td>\n",
       "      <td>...</td>\n",
       "      <td>...</td>\n",
       "      <td>...</td>\n",
       "    </tr>\n",
       "    <tr>\n",
       "      <td>2019-05-31</td>\n",
       "      <td>0.533</td>\n",
       "      <td>0.706523</td>\n",
       "      <td>2.635343</td>\n",
       "      <td>2.685728</td>\n",
       "      <td>2.864374</td>\n",
       "      <td>0.623177</td>\n",
       "      <td>2.76079</td>\n",
       "      <td>2.086386</td>\n",
       "      <td>1.235181</td>\n",
       "      <td>2.350909</td>\n",
       "      <td>...</td>\n",
       "      <td>1.74070</td>\n",
       "      <td>1.988734</td>\n",
       "      <td>5.39769</td>\n",
       "      <td>4.545807</td>\n",
       "      <td>1.55155</td>\n",
       "      <td>2.530985</td>\n",
       "      <td>6.573601</td>\n",
       "      <td>3.349177</td>\n",
       "      <td>2.940675</td>\n",
       "      <td>4.213212</td>\n",
       "    </tr>\n",
       "    <tr>\n",
       "      <td>2019-06-30</td>\n",
       "      <td>0.497</td>\n",
       "      <td>0.593636</td>\n",
       "      <td>2.509648</td>\n",
       "      <td>2.493232</td>\n",
       "      <td>2.700379</td>\n",
       "      <td>0.511780</td>\n",
       "      <td>2.61621</td>\n",
       "      <td>1.920716</td>\n",
       "      <td>1.016290</td>\n",
       "      <td>2.076489</td>\n",
       "      <td>...</td>\n",
       "      <td>1.67678</td>\n",
       "      <td>1.800130</td>\n",
       "      <td>5.01429</td>\n",
       "      <td>4.286712</td>\n",
       "      <td>1.42357</td>\n",
       "      <td>2.465476</td>\n",
       "      <td>5.868318</td>\n",
       "      <td>3.088181</td>\n",
       "      <td>2.664148</td>\n",
       "      <td>3.955814</td>\n",
       "    </tr>\n",
       "    <tr>\n",
       "      <td>2019-07-31</td>\n",
       "      <td>0.477</td>\n",
       "      <td>0.508018</td>\n",
       "      <td>2.560660</td>\n",
       "      <td>2.521486</td>\n",
       "      <td>2.662618</td>\n",
       "      <td>0.430909</td>\n",
       "      <td>2.64498</td>\n",
       "      <td>2.009673</td>\n",
       "      <td>0.824895</td>\n",
       "      <td>2.076611</td>\n",
       "      <td>...</td>\n",
       "      <td>1.53253</td>\n",
       "      <td>1.907289</td>\n",
       "      <td>5.00194</td>\n",
       "      <td>4.104648</td>\n",
       "      <td>1.24636</td>\n",
       "      <td>2.468923</td>\n",
       "      <td>5.882487</td>\n",
       "      <td>3.093552</td>\n",
       "      <td>2.697456</td>\n",
       "      <td>3.896620</td>\n",
       "    </tr>\n",
       "    <tr>\n",
       "      <td>2019-08-31</td>\n",
       "      <td>0.183</td>\n",
       "      <td>0.347770</td>\n",
       "      <td>2.159525</td>\n",
       "      <td>2.125948</td>\n",
       "      <td>2.281434</td>\n",
       "      <td>0.250495</td>\n",
       "      <td>2.25344</td>\n",
       "      <td>1.575767</td>\n",
       "      <td>0.721402</td>\n",
       "      <td>1.896016</td>\n",
       "      <td>...</td>\n",
       "      <td>1.34929</td>\n",
       "      <td>1.492404</td>\n",
       "      <td>5.10442</td>\n",
       "      <td>3.896446</td>\n",
       "      <td>1.18792</td>\n",
       "      <td>1.919972</td>\n",
       "      <td>5.722521</td>\n",
       "      <td>2.741440</td>\n",
       "      <td>2.347782</td>\n",
       "      <td>3.502800</td>\n",
       "    </tr>\n",
       "    <tr>\n",
       "      <td>2019-09-30</td>\n",
       "      <td>0.378</td>\n",
       "      <td>0.446580</td>\n",
       "      <td>2.323005</td>\n",
       "      <td>2.264462</td>\n",
       "      <td>2.449218</td>\n",
       "      <td>0.324109</td>\n",
       "      <td>2.40558</td>\n",
       "      <td>1.715913</td>\n",
       "      <td>0.864896</td>\n",
       "      <td>1.825233</td>\n",
       "      <td>...</td>\n",
       "      <td>1.57622</td>\n",
       "      <td>1.631848</td>\n",
       "      <td>4.95172</td>\n",
       "      <td>3.886404</td>\n",
       "      <td>1.42825</td>\n",
       "      <td>2.069663</td>\n",
       "      <td>5.646087</td>\n",
       "      <td>2.848308</td>\n",
       "      <td>2.438826</td>\n",
       "      <td>3.640897</td>\n",
       "    </tr>\n",
       "  </tbody>\n",
       "</table>\n",
       "<p>360 rows × 21 columns</p>\n",
       "</div>"
      ],
      "text/plain": [
       "ticker      U.S. TIPS  Global Aggregate Ex-US  U.S. Agencies  U.S. Aggregate  \\\n",
       "1989-10-31        NaN                     NaN            NaN        8.640000   \n",
       "1989-11-30        NaN                     NaN            NaN        8.515853   \n",
       "1989-12-31        NaN                     NaN            NaN        8.616872   \n",
       "1990-01-31        NaN                8.900249            NaN        9.056316   \n",
       "1990-02-28        NaN                9.379464            NaN        9.079294   \n",
       "...               ...                     ...            ...             ...   \n",
       "2019-05-31      0.533                0.706523       2.635343        2.685728   \n",
       "2019-06-30      0.497                0.593636       2.509648        2.493232   \n",
       "2019-07-31      0.477                0.508018       2.560660        2.521486   \n",
       "2019-08-31      0.183                0.347770       2.159525        2.125948   \n",
       "2019-09-30      0.378                0.446580       2.323005        2.264462   \n",
       "\n",
       "ticker      U.S. MBS  Global Treasury Ex-US  U.S. Investment Grade CMBS  \\\n",
       "1989-10-31  9.408434               7.977108                         NaN   \n",
       "1989-11-30  9.325886               8.218894                         NaN   \n",
       "1989-12-31  9.352302               8.318525                         NaN   \n",
       "1990-01-31  9.646835               8.900249                         NaN   \n",
       "1990-02-28  9.688283               9.379464                         NaN   \n",
       "...              ...                    ...                         ...   \n",
       "2019-05-31  2.864374               0.623177                     2.76079   \n",
       "2019-06-30  2.700379               0.511780                     2.61621   \n",
       "2019-07-31  2.662618               0.430909                     2.64498   \n",
       "2019-08-31  2.281434               0.250495                     2.25344   \n",
       "2019-09-30  2.449218               0.324109                     2.40558   \n",
       "\n",
       "ticker      U.S. Treasury  Global Corporate Ex-US  U.S. Treasury Bills  ...  \\\n",
       "1989-10-31       7.984029                     NaN             7.900000  ...   \n",
       "1989-11-30       7.880072                     NaN             7.830000  ...   \n",
       "1989-12-31       8.002128                     NaN             7.980000  ...   \n",
       "1990-01-31       8.433346                     NaN             8.150000  ...   \n",
       "1990-02-28       8.525526                     NaN             8.110000  ...   \n",
       "...                   ...                     ...                  ...  ...   \n",
       "2019-05-31       2.086386                1.235181             2.350909  ...   \n",
       "2019-06-30       1.920716                1.016290             2.076489  ...   \n",
       "2019-07-31       2.009673                0.824895             2.076611  ...   \n",
       "2019-08-31       1.575767                0.721402             1.896016  ...   \n",
       "2019-09-30       1.715913                0.864896             1.825233  ...   \n",
       "\n",
       "ticker      U.S. Intermediate Municipal  U.S. Intermediate Treasury  \\\n",
       "1989-10-31                          NaN                    7.965786   \n",
       "1989-11-30                          NaN                    7.833245   \n",
       "1989-12-31                          NaN                    7.967049   \n",
       "1990-01-31                          NaN                    8.381655   \n",
       "1990-02-28                          NaN                    8.470144   \n",
       "...                                 ...                         ...   \n",
       "2019-05-31                      1.74070                    1.988734   \n",
       "2019-06-30                      1.67678                    1.800130   \n",
       "2019-07-31                      1.53253                    1.907289   \n",
       "2019-08-31                      1.34929                    1.492404   \n",
       "2019-09-30                      1.57622                    1.631848   \n",
       "\n",
       "ticker      Emerging Markets Corporate USD  \\\n",
       "1989-10-31                             NaN   \n",
       "1989-11-30                             NaN   \n",
       "1989-12-31                             NaN   \n",
       "1990-01-31                             NaN   \n",
       "1990-02-28                             NaN   \n",
       "...                                    ...   \n",
       "2019-05-31                         5.39769   \n",
       "2019-06-30                         5.01429   \n",
       "2019-07-31                         5.00194   \n",
       "2019-08-31                         5.10442   \n",
       "2019-09-30                         4.95172   \n",
       "\n",
       "ticker      Emerging Markets Sovereign Local Currency  U.S. Short Municipal  \\\n",
       "1989-10-31                                        NaN                   NaN   \n",
       "1989-11-30                                        NaN                   NaN   \n",
       "1989-12-31                                        NaN                   NaN   \n",
       "1990-01-31                                        NaN                   NaN   \n",
       "1990-02-28                                        NaN                   NaN   \n",
       "...                                               ...                   ...   \n",
       "2019-05-31                                   4.545807               1.55155   \n",
       "2019-06-30                                   4.286712               1.42357   \n",
       "2019-07-31                                   4.104648               1.24636   \n",
       "2019-08-31                                   3.896446               1.18792   \n",
       "2019-09-30                                   3.886404               1.42825   \n",
       "\n",
       "ticker      U.S. Long Treasury  U.S. High Yield  U.S. Investment Grade Credit  \\\n",
       "1989-10-31            8.031024        15.770000                      9.110000   \n",
       "1989-11-30            7.997573        15.960000                      9.095085   \n",
       "1989-12-31            8.089619        16.080000                      9.209905   \n",
       "1990-01-31            8.568524        16.530001                      9.854914   \n",
       "1990-02-28            8.669708        17.049999                      9.635005   \n",
       "...                        ...              ...                           ...   \n",
       "2019-05-31            2.530985         6.573601                      3.349177   \n",
       "2019-06-30            2.465476         5.868318                      3.088181   \n",
       "2019-07-31            2.468923         5.882487                      3.093552   \n",
       "2019-08-31            1.919972         5.722521                      2.741440   \n",
       "2019-09-30            2.069663         5.646087                      2.848308   \n",
       "\n",
       "ticker      U.S. Intermediate Investment Grade Credit  \\\n",
       "1989-10-31                                   8.882382   \n",
       "1989-11-30                                   8.851407   \n",
       "1989-12-31                                   8.984499   \n",
       "1990-01-31                                   9.368565   \n",
       "1990-02-28                                   9.468124   \n",
       "...                                               ...   \n",
       "2019-05-31                                   2.940675   \n",
       "2019-06-30                                   2.664148   \n",
       "2019-07-31                                   2.697456   \n",
       "2019-08-31                                   2.347782   \n",
       "2019-09-30                                   2.438826   \n",
       "\n",
       "ticker      U.S. Long Investment Grade Credit  \n",
       "1989-10-31                           9.360000  \n",
       "1989-11-30                           9.354073  \n",
       "1989-12-31                           9.457537  \n",
       "1990-01-31                          10.392285  \n",
       "1990-02-28                           9.818581  \n",
       "...                                       ...  \n",
       "2019-05-31                           4.213212  \n",
       "2019-06-30                           3.955814  \n",
       "2019-07-31                           3.896620  \n",
       "2019-08-31                           3.502800  \n",
       "2019-09-30                           3.640897  \n",
       "\n",
       "[360 rows x 21 columns]"
      ]
     },
     "execution_count": 11,
     "metadata": {},
     "output_type": "execute_result"
    }
   ],
   "source": [
    "fixed_yields = blp.bdh(tickers=fixed_list, flds='YIELD_TO_WORST', start_date=start_date_str, end_date=end_date_str, Per='M')\n",
    "\n",
    "# Rename and reorder columns\n",
    "fixed_yields.columns = fixed_yields.columns.droplevel(1)\n",
    "fixed_yields.columns = fixed_yields.columns.map(fixed_dictionary)\n",
    "\n",
    "# Convert index to datetime\n",
    "fixed_yields.index = pd.to_datetime(fixed_yields.index)\n",
    "\n",
    "# Adjust dataframe for varying month end dates\n",
    "fixed_yields = fixed_yields.resample('M', axis=0).mean()"
   ]
  },
  {
   "cell_type": "code",
   "execution_count": 12,
   "metadata": {},
   "outputs": [],
   "source": [
    "# Add bank loan yields\n",
    "bank_loan_yield = blp.bdh(tickers='SPBDLLY Index', flds='PX_LAST', start_date=start_date_str, end_date=end_date_str, Per='M')\n",
    "\n",
    "# Rename and reorder columns\n",
    "bank_loan_yield.columns = bank_loan_yield.columns.droplevel(1)\n",
    "\n",
    "# Adjust dataframes for varying month end dates\n",
    "bank_loan_yield = bank_loan_yield.resample('M', axis=0).mean()"
   ]
  },
  {
   "cell_type": "code",
   "execution_count": 13,
   "metadata": {},
   "outputs": [],
   "source": [
    "# Combine with other yield results\n",
    "fixed_yields['U.S. Bank Loans'] = bank_loan_yield"
   ]
  },
  {
   "cell_type": "markdown",
   "metadata": {},
   "source": [
    "### USD Fixed Spreads"
   ]
  },
  {
   "cell_type": "code",
   "execution_count": 14,
   "metadata": {},
   "outputs": [],
   "source": [
    "fixed_spreads = blp.bdh(tickers=fixed_list, flds='INDEX_OAS_TSY', start_date=start_date_str, end_date=end_date_str, Per='M')\n",
    "\n",
    "# Rename and reorder columns\n",
    "fixed_spreads.columns = fixed_spreads.columns.droplevel(1)\n",
    "fixed_spreads.columns = fixed_spreads.columns.map(fixed_dictionary)\n",
    "\n",
    "# Fill for indices with no spread\n",
    "fixed_spreads['U.S. TIPS'] = 0\n",
    "fixed_spreads['U.S. Intermediate Municipal'] = 0\n",
    "fixed_spreads['U.S. Short Municipal'] = 0\n",
    "\n",
    "# Convert index to datetime\n",
    "fixed_spreads.index = pd.to_datetime(fixed_spreads.index)\n",
    "\n",
    "# Adjust dataframe for varying month end dates\n",
    "fixed_spreads = fixed_spreads.resample('M', axis=0).mean()\n",
    "\n",
    "# Add bank loan spread estimate\n",
    "fixed_spreads['U.S. Bank Loans'] = fixed_yields['U.S. Bank Loans'] - fixed_yields['U.S. Treasury Bills']"
   ]
  },
  {
   "cell_type": "markdown",
   "metadata": {},
   "source": [
    "### USD Fixed Duration"
   ]
  },
  {
   "cell_type": "code",
   "execution_count": 15,
   "metadata": {},
   "outputs": [],
   "source": [
    "fixed_durations = blp.bdh(tickers=fixed_list, flds='INDEX_OAD_TSY', start_date=start_date_str, end_date=end_date_str, Per='M')\n",
    "tips_duration = blp.bdh(tickers='BCIT1T Index', flds='MODIFIED_DURATION', start_date=start_date_str, end_date=end_date_str, Per='M')\n",
    "\n",
    "# Rename and reorder columns\n",
    "fixed_durations.columns = fixed_durations.columns.droplevel(1)\n",
    "fixed_durations.columns = fixed_durations.columns.map(fixed_dictionary)\n",
    "\n",
    "# Add constant for bank loan spreads\n",
    "fixed_durations['U.S. Bank Loans'] = 0.25\n",
    "fixed_durations['U.S. TIPS'] = tips_duration\n",
    "\n",
    "# Convert index to datetime\n",
    "fixed_durations.index = pd.to_datetime(fixed_durations.index)\n",
    "\n",
    "# Adjust dataframe for varying month end dates\n",
    "fixed_durations = fixed_durations.resample('M', axis=0).mean()"
   ]
  },
  {
   "cell_type": "markdown",
   "metadata": {},
   "source": [
    "## Non USD - Fixed"
   ]
  },
  {
   "cell_type": "code",
   "execution_count": 16,
   "metadata": {},
   "outputs": [],
   "source": [
    "# Reference for future renaming of columns\n",
    "fixed_list_nonus = list(filter(None, list({k:v for (k,v) in cma.val_dict.items() if 'fixed_nonus_code' in k}.values())))\n",
    "fixed_name_list_nonus = list(filter(None, list({k:v for (k,v) in cma.val_dict.items() if 'fixed_nonus_name' in k}.values())))\n",
    "fixed_dictionary_nonus = dict(zip(fixed_list_nonus, fixed_name_list_nonus))"
   ]
  },
  {
   "cell_type": "markdown",
   "metadata": {},
   "source": [
    "### Non-USD Fixed Returns"
   ]
  },
  {
   "cell_type": "code",
   "execution_count": 17,
   "metadata": {},
   "outputs": [],
   "source": [
    "fixed_returns_nonus = blp.bdh(tickers=fixed_list_nonus, flds=data_return_nonus, start_date=start_date_str, end_date=end_date_str, Per='M')\n",
    "\n",
    "# Rename and reorder columns\n",
    "fixed_returns_nonus.columns = fixed_returns_nonus.columns.droplevel(1)\n",
    "fixed_returns_nonus.columns = fixed_returns_nonus.columns.map(fixed_dictionary_nonus)\n",
    "\n",
    "# Convert index to datetime\n",
    "fixed_returns_nonus.index= pd.to_datetime(fixed_returns_nonus.index)\n",
    "\n",
    "# Adjust dataframe for varying month end dates\n",
    "fixed_returns_nonus = fixed_returns_nonus.resample('M', axis=0).mean()\n",
    "fixed_returns_nonus = fixed_returns_nonus.reindex(columns=fixed_name_list_nonus)"
   ]
  },
  {
   "cell_type": "markdown",
   "metadata": {},
   "source": [
    "### Non-USD Fixed Yields"
   ]
  },
  {
   "cell_type": "code",
   "execution_count": 18,
   "metadata": {},
   "outputs": [],
   "source": [
    "fixed_yields_nonus = blp.bdh(tickers=fixed_list_nonus, flds='YIELD_TO_WORST', start_date=start_date_str, end_date=end_date_str, Per='M')\n",
    "\n",
    "# Rename and reorder columns\n",
    "fixed_yields_nonus.columns = fixed_yields_nonus.columns.droplevel(1)\n",
    "fixed_yields_nonus.columns = fixed_yields_nonus.columns.map(fixed_dictionary_nonus)\n",
    "\n",
    "# Convert index to datetime\n",
    "fixed_yields_nonus.index = pd.to_datetime(fixed_yields_nonus.index)\n",
    "\n",
    "# Adjust dataframe for varying month end dates\n",
    "fixed_yields_nonus = fixed_yields_nonus.resample('M', axis=0).mean()"
   ]
  },
  {
   "cell_type": "markdown",
   "metadata": {},
   "source": [
    "### Non-USD Fixed Spreads"
   ]
  },
  {
   "cell_type": "code",
   "execution_count": 19,
   "metadata": {},
   "outputs": [],
   "source": [
    "fixed_spreads_nonus = blp.bdh(tickers=fixed_list_nonus, flds='INDEX_OAS_TSY', start_date=start_date_str, end_date=end_date_str, Per='M')\n",
    "\n",
    "# Rename and reorder columns\n",
    "fixed_spreads_nonus.columns = fixed_spreads_nonus.columns.droplevel(1)\n",
    "fixed_spreads_nonus.columns = fixed_spreads_nonus.columns.map(fixed_dictionary_nonus)\n",
    "\n",
    "# Convert index to datetime\n",
    "fixed_spreads_nonus.index = pd.to_datetime(fixed_spreads_nonus.index)\n",
    "\n",
    "# Adjust dataframe for varying month end dates\n",
    "fixed_spreads_nonus = fixed_spreads_nonus.resample('M', axis=0).mean()"
   ]
  },
  {
   "cell_type": "markdown",
   "metadata": {},
   "source": [
    "### Non-USD Fixed Duration"
   ]
  },
  {
   "cell_type": "code",
   "execution_count": 20,
   "metadata": {},
   "outputs": [],
   "source": [
    "fixed_durations_nonus = blp.bdh(tickers=fixed_list_nonus, flds='INDEX_OAD_TSY', start_date=start_date_str, end_date=end_date_str, Per='M')\n",
    "\n",
    "# Rename and reorder columns\n",
    "fixed_durations_nonus.columns = fixed_durations_nonus.columns.droplevel(1)\n",
    "fixed_durations_nonus.columns = fixed_durations_nonus.columns.map(fixed_dictionary_nonus)\n",
    "\n",
    "# Convert index to datetime\n",
    "fixed_durations_nonus.index = pd.to_datetime(fixed_durations_nonus.index)\n",
    "\n",
    "# Adjust dataframe for varying month end dates\n",
    "fixed_durations_nonus = fixed_durations_nonus.resample('M', axis=0).mean()"
   ]
  },
  {
   "cell_type": "markdown",
   "metadata": {},
   "source": [
    "# Treasury Data"
   ]
  },
  {
   "cell_type": "markdown",
   "metadata": {},
   "source": [
    "## US Treasury Data"
   ]
  },
  {
   "cell_type": "code",
   "execution_count": 21,
   "metadata": {},
   "outputs": [],
   "source": [
    "treasury_list = ['I00087 Index', 'BTB5STAT Index', 'BW10STAT Index', 'BW30STAT Index']\n",
    "treasury_dictionary = {'I00087 Index': '3 Mo', 'BTB5STAT Index': '5 Yr', 'BW10STAT Index': '10 Yr', 'BW30STAT Index': '30 Yr'}"
   ]
  },
  {
   "cell_type": "code",
   "execution_count": 22,
   "metadata": {},
   "outputs": [],
   "source": [
    "# Treasury Yields\n",
    "fixed_treasury_yld = blp.bdh(tickers=treasury_list, flds='INDEX_YIELD_TO_MATURITY', start_date=start_date_str, end_date=end_date_str, Per='M')\n",
    "\n",
    "# Rename and reorder columns\n",
    "fixed_treasury_yld.columns = fixed_treasury_yld.columns.droplevel(1)\n",
    "fixed_treasury_yld.columns = fixed_treasury_yld.columns.map(treasury_dictionary)\n",
    "\n",
    "# Adjust dataframe for varying month end dates\n",
    "fixed_treasury_yld = fixed_treasury_yld.resample('M', axis=0).mean()"
   ]
  },
  {
   "cell_type": "code",
   "execution_count": 23,
   "metadata": {},
   "outputs": [],
   "source": [
    "# Treasury Duration\n",
    "fixed_treasury_dur = blp.bdh(tickers=treasury_list, flds='INDEX_OAD_TSY', start_date=start_date_str, end_date=end_date_str, Per='M')\n",
    "\n",
    "# Rename and reorder columns\n",
    "fixed_treasury_dur.columns = fixed_treasury_dur.columns.droplevel(1)\n",
    "fixed_treasury_dur.columns = fixed_treasury_dur.columns.map(treasury_dictionary)\n",
    "\n",
    "# Adjust dataframe for varying month end dates\n",
    "fixed_treasury_dur = fixed_treasury_dur.resample('M', axis=0).mean()"
   ]
  },
  {
   "cell_type": "markdown",
   "metadata": {},
   "source": [
    "## Global Treasury Data"
   ]
  },
  {
   "cell_type": "code",
   "execution_count": 24,
   "metadata": {},
   "outputs": [],
   "source": [
    "gl_treasury_list = ['LGY3TRUU Index', 'I04790 Index', 'LG7YSTAT Index', 'LGY7TRUU Index','LGY1TRUU Index']\n",
    "gl_treasury_dictionary = {'LGY3TRUU Index': '1-3 Yr', 'I04790 Index': '3-5 Yr', 'LG7YSTAT Index': '5-7 Yr', \n",
    "                          'LGY7TRUU Index': '7-10 Yr','LGY1TRUU Index': '10+ Yr'}  "
   ]
  },
  {
   "cell_type": "code",
   "execution_count": 25,
   "metadata": {},
   "outputs": [],
   "source": [
    "# Gl Treasury Yields\n",
    "gl_fixed_treasury_yld = blp.bdh(tickers=gl_treasury_list, flds='INDEX_YIELD_TO_MATURITY', start_date=start_date_str, end_date=end_date_str, Per='M')\n",
    "\n",
    "# Rename and reorder columns\n",
    "gl_fixed_treasury_yld.columns = gl_fixed_treasury_yld.columns.droplevel(1)\n",
    "gl_fixed_treasury_yld.columns = gl_fixed_treasury_yld.columns.map(gl_treasury_dictionary)\n",
    "\n",
    "# Adjust dataframe for varying month end dates\n",
    "gl_fixed_treasury_yld = gl_fixed_treasury_yld.resample('M', axis=0).mean()"
   ]
  },
  {
   "cell_type": "code",
   "execution_count": 26,
   "metadata": {},
   "outputs": [],
   "source": [
    "# Gl Treasury Durations\n",
    "gl_fixed_treasury_dur = blp.bdh(tickers=gl_treasury_list, flds='INDEX_OAD_TSY', start_date=start_date_str, end_date=end_date_str, Per='M')\n",
    "\n",
    "# Rename and reorder columns\n",
    "gl_fixed_treasury_dur.columns = gl_fixed_treasury_dur.columns.droplevel(1)\n",
    "gl_fixed_treasury_dur.columns = gl_fixed_treasury_dur.columns.map(gl_treasury_dictionary)\n",
    "\n",
    "# Adjust dataframe for varying month end dates\n",
    "gl_fixed_treasury_dur = gl_fixed_treasury_dur.resample('M', axis=0).mean()"
   ]
  },
  {
   "cell_type": "markdown",
   "metadata": {},
   "source": [
    "## Global Agg Data"
   ]
  },
  {
   "cell_type": "code",
   "execution_count": 27,
   "metadata": {},
   "outputs": [],
   "source": [
    "gl_agg_list = ['H16607US Index', 'H16608US Index', 'H16609US Index', 'H16610US Index','H16611US Index']\n",
    "gl_agg_dictionary = {'H16607US Index': '1-3 Yr', 'H16608US Index': '3-5 Yr', 'H16609US Index': '5-7 Yr', \n",
    "                          'H16610US Index': '7-10 Yr','H16611US Index': '10+ Yr'}     "
   ]
  },
  {
   "cell_type": "code",
   "execution_count": 28,
   "metadata": {},
   "outputs": [],
   "source": [
    "# Gl Treasury Yields\n",
    "gl_fixed_agg_yld = blp.bdh(tickers=gl_agg_list, flds='INDEX_YIELD_TO_MATURITY', start_date=start_date_str, end_date=end_date_str, Per='M')\n",
    "\n",
    "# Rename and reorder columns\n",
    "gl_fixed_agg_yld.columns = gl_fixed_agg_yld.columns.droplevel(1)\n",
    "gl_fixed_agg_yld.columns = gl_fixed_agg_yld.columns.map(gl_agg_dictionary)\n",
    "\n",
    "# Adjust dataframe for varying month end dates\n",
    "gl_fixed_agg_yld = gl_fixed_agg_yld.resample('M', axis=0).mean()"
   ]
  },
  {
   "cell_type": "code",
   "execution_count": 29,
   "metadata": {},
   "outputs": [],
   "source": [
    "# Gl Treasury Durations\n",
    "gl_fixed_agg_dur = blp.bdh(tickers=gl_agg_list, flds='INDEX_OAD_TSY', start_date=start_date_str, end_date=end_date_str, Per='M')\n",
    "\n",
    "# Rename and reorder columns\n",
    "gl_fixed_agg_dur.columns = gl_fixed_agg_dur.columns.droplevel(1)\n",
    "gl_fixed_agg_dur.columns = gl_fixed_agg_dur.columns.map(gl_agg_dictionary)\n",
    "\n",
    "# Adjust dataframe for varying month end dates\n",
    "gl_fixed_agg_dur = gl_fixed_agg_dur.resample('M', axis=0).mean()"
   ]
  },
  {
   "cell_type": "code",
   "execution_count": 30,
   "metadata": {},
   "outputs": [],
   "source": [
    "# Gl Treasury Spreads\n",
    "gl_fixed_agg_spread = blp.bdh(tickers=gl_agg_list, flds='INDEX_OAS_TSY', start_date=start_date_str, end_date=end_date_str, Per='M')\n",
    "\n",
    "# Rename and reorder columns\n",
    "gl_fixed_agg_spread.columns = gl_fixed_agg_spread.columns.droplevel(1)\n",
    "gl_fixed_agg_spread.columns = gl_fixed_agg_spread.columns.map(gl_agg_dictionary)\n",
    "\n",
    "# Adjust dataframe for varying month end dates\n",
    "gl_fixed_agg_spread = gl_fixed_agg_spread.resample('M', axis=0).mean()"
   ]
  },
  {
   "cell_type": "markdown",
   "metadata": {},
   "source": [
    "## EM Treasury Data"
   ]
  },
  {
   "cell_type": "code",
   "execution_count": 31,
   "metadata": {},
   "outputs": [],
   "source": [
    "em_treasury_list = ['I22843US Index', 'I22844US Index', 'I22845US Index', 'I22846US Index', 'I22847US Index']\n",
    "em_treasury_dictionary = {'I22843US Index': '1-3 Yr', 'I22844US Index': '3-5 Yr', 'I22845US Index': '5-7 Yr', 'I22846US Index': '7-10 Yr','I22847US Index': '10+ Yr'}    "
   ]
  },
  {
   "cell_type": "code",
   "execution_count": 32,
   "metadata": {},
   "outputs": [],
   "source": [
    "# Treasury Yields\n",
    "em_fixed_treasury_yld = blp.bdh(tickers=em_treasury_list, flds='INDEX_YIELD_TO_MATURITY', start_date=start_date_str, end_date=end_date_str, Per='M')\n",
    "\n",
    "# Rename and reorder columns\n",
    "em_fixed_treasury_yld.columns = em_fixed_treasury_yld.columns.droplevel(1)\n",
    "em_fixed_treasury_yld.columns = em_fixed_treasury_yld.columns.map(em_treasury_dictionary)\n",
    "\n",
    "# Adjust dataframe for varying month end dates\n",
    "em_fixed_treasury_yld = em_fixed_treasury_yld.resample('M', axis=0).mean()"
   ]
  },
  {
   "cell_type": "code",
   "execution_count": 33,
   "metadata": {},
   "outputs": [],
   "source": [
    "# Treasury Duration\n",
    "em_fixed_treasury_dur = blp.bdh(tickers=em_treasury_list, flds='INDEX_OAD_TSY', start_date=start_date_str, end_date=end_date_str, Per='M')\n",
    "\n",
    "# Rename and reorder columns\n",
    "em_fixed_treasury_dur.columns = em_fixed_treasury_dur.columns.droplevel(1)\n",
    "em_fixed_treasury_dur.columns = em_fixed_treasury_dur.columns.map(em_treasury_dictionary)\n",
    "\n",
    "# Adjust dataframe for varying month end dates\n",
    "em_fixed_treasury_dur = em_fixed_treasury_dur.resample('M', axis=0).mean()"
   ]
  },
  {
   "cell_type": "markdown",
   "metadata": {},
   "source": [
    "## AA Corp Data (for Muni Calcs)"
   ]
  },
  {
   "cell_type": "code",
   "execution_count": 34,
   "metadata": {},
   "outputs": [],
   "source": [
    "aa_corp_list = ['I08219 Index']\n",
    "aa_corp_dictionary = {'I08219 Index': 'AA Corp'}"
   ]
  },
  {
   "cell_type": "code",
   "execution_count": 35,
   "metadata": {},
   "outputs": [],
   "source": [
    "# AA Corp Spreads\n",
    "aa_corp_spread = blp.bdh(tickers=aa_corp_list, flds='INDEX_OAS_TSY', start_date=start_date_str, end_date=end_date_str, Per='M')\n",
    "\n",
    "# Rename and reorder columns\n",
    "aa_corp_spread.columns = aa_corp_spread.columns.droplevel(1)\n",
    "aa_corp_spread.columns = aa_corp_spread.columns.map(aa_corp_dictionary)"
   ]
  },
  {
   "cell_type": "markdown",
   "metadata": {},
   "source": [
    "# Alts Data"
   ]
  },
  {
   "cell_type": "markdown",
   "metadata": {},
   "source": [
    "## USD - Alts"
   ]
  },
  {
   "cell_type": "code",
   "execution_count": 36,
   "metadata": {},
   "outputs": [],
   "source": [
    "# Reference for future renaming of columns\n",
    "alts_list = list(filter(None, list({k:v for (k,v) in cma.val_dict.items() if 'alts_us_code' in k}.values())))\n",
    "alts_name_list = list(filter(None, list({k:v for (k,v) in cma.val_dict.items() if 'alts_us_name' in k}.values())))\n",
    "alts_dictionary = dict(zip(alts_list, alts_name_list))"
   ]
  },
  {
   "cell_type": "code",
   "execution_count": 37,
   "metadata": {},
   "outputs": [],
   "source": [
    "alts_returns = blp.bdh(tickers=alts_list, flds=data_return, start_date=start_date_str, end_date=end_date_str, Per='M')\n",
    "\n",
    "# Rename and reorder columns\n",
    "alts_returns.columns = alts_returns.columns.droplevel(1)\n",
    "alts_returns.columns = alts_returns.columns.map(alts_dictionary)\n",
    "\n",
    "# Convert index to datetime\n",
    "alts_returns.index = pd.to_datetime(alts_returns.index)\n",
    "\n",
    "# Adjust dataframe for varying month end dates\n",
    "alts_returns = alts_returns.resample('M', axis=0).mean()"
   ]
  },
  {
   "cell_type": "markdown",
   "metadata": {},
   "source": [
    "## Non USD - Alts"
   ]
  },
  {
   "cell_type": "code",
   "execution_count": 38,
   "metadata": {},
   "outputs": [],
   "source": [
    "# Reference for future renaming of columns\n",
    "alts_list_nonus = list(filter(None, list({k:v for (k,v) in cma.val_dict.items() if 'alts_nonus_code' in k}.values())))\n",
    "alts_name_list_nonus = list(filter(None, list({k:v for (k,v) in cma.val_dict.items() if 'alts_nonus_name' in k}.values())))\n",
    "alts_dictionary_nonus = dict(zip(alts_list_nonus, alts_name_list_nonus))"
   ]
  },
  {
   "cell_type": "code",
   "execution_count": 39,
   "metadata": {},
   "outputs": [],
   "source": [
    "alts_returns_nonus = blp.bdh(tickers=alts_list_nonus, flds=data_return_nonus, start_date=start_date_str, end_date=end_date_str, Per='M')\n",
    "\n",
    "# Rename and reorder columns\n",
    "alts_returns_nonus.columns = alts_returns_nonus.columns.droplevel(1)\n",
    "alts_returns_nonus.columns = alts_returns_nonus.columns.map(alts_dictionary_nonus)\n",
    "\n",
    "# Convert index to datetime\n",
    "alts_returns_nonus.index = pd.to_datetime(alts_returns_nonus.index)\n",
    "\n",
    "# Adjust dataframe for varying month end dates\n",
    "alts_returns_nonus = alts_returns_nonus.resample('M', axis=0).mean()"
   ]
  },
  {
   "cell_type": "markdown",
   "metadata": {},
   "source": [
    "# Currency"
   ]
  },
  {
   "cell_type": "code",
   "execution_count": 40,
   "metadata": {},
   "outputs": [],
   "source": [
    "currencies = ['AUD', 'CAD', 'CHF','DKK', 'EUR', 'GBP', 'JPY', 'NOK', 'NZD', 'SEK']\n",
    "cross_currencies = ['USD' + x +' Curncy' for x in currencies]\n",
    "\n",
    "# Change naming\n",
    "cross_currencies_dictionary = {}\n",
    "for key in cross_currencies: \n",
    "    for value in currencies: \n",
    "        cross_currencies_dictionary[key] = value \n",
    "        currencies.remove(value) \n",
    "        break "
   ]
  },
  {
   "cell_type": "code",
   "execution_count": 41,
   "metadata": {},
   "outputs": [],
   "source": [
    "historical_cross_currencies = blp.bdh(tickers=cross_currencies, flds='PX_LAST', start_date=start_date_str, end_date=end_date_str, Per='M')\n",
    "\n",
    "# Rename and reorder columns\n",
    "historical_cross_currencies.columns = historical_cross_currencies.columns.droplevel(1)\n",
    "historical_cross_currencies.columns = historical_cross_currencies.columns.map(cross_currencies_dictionary)\n",
    "\n",
    "# Convert index to datetime\n",
    "historical_cross_currencies.index = pd.to_datetime(historical_cross_currencies.index)\n",
    "\n",
    "# Adjust dataframe for varying month end dates\n",
    "historical_cross_currencies = historical_cross_currencies.resample('M', axis=0).mean()\n",
    "historical_cross_currencies['USD'] = 1"
   ]
  },
  {
   "cell_type": "markdown",
   "metadata": {},
   "source": [
    "# Beta Index Data"
   ]
  },
  {
   "cell_type": "code",
   "execution_count": 42,
   "metadata": {},
   "outputs": [],
   "source": [
    "beta_list = 'EMUSTRUU Index'\n",
    "beta_dictionary = {'EMUSTRUU Index': 'Emerging Debt Agg USD'}"
   ]
  },
  {
   "cell_type": "code",
   "execution_count": 43,
   "metadata": {},
   "outputs": [],
   "source": [
    "beta_returns = blp.bdh(tickers=beta_list, flds=data_return_nonus, start_date=start_date_str, end_date=end_date_str, Per='M')\n",
    "\n",
    "# Rename and reorder columns\n",
    "beta_returns.columns = beta_returns.columns.droplevel(1)\n",
    "beta_returns.columns = beta_returns.columns.map(beta_dictionary)\n",
    "\n",
    "# Convert index to datetime\n",
    "beta_returns.index = pd.to_datetime(beta_returns.index)\n",
    "\n",
    "# Adjust dataframe for varying month end dates\n",
    "beta_returns = beta_returns.resample('M', axis=0).mean()"
   ]
  },
  {
   "cell_type": "code",
   "execution_count": 44,
   "metadata": {},
   "outputs": [],
   "source": [
    "# Add beta return needed to fixed non-us data\n",
    "fixed_returns_nonus = fixed_returns_nonus.join(beta_returns)"
   ]
  },
  {
   "cell_type": "markdown",
   "metadata": {},
   "source": [
    "# Save Data to Excel"
   ]
  },
  {
   "cell_type": "code",
   "execution_count": 45,
   "metadata": {},
   "outputs": [],
   "source": [
    "with pd.ExcelWriter(r'P:\\\\Advisory\\\\Research\\\\Automation\\\\CMAs\\\\Data\\\\bloomberg_data_us.xlsx') as writer:\n",
    "    equity_returns.to_excel(writer, sheet_name='equity_returns')\n",
    "    fixed_returns.to_excel(writer, sheet_name='fixed_returns')\n",
    "    fixed_yields.to_excel(writer, sheet_name='fixed_yields')\n",
    "    fixed_spreads.to_excel(writer, sheet_name='fixed_spreads')\n",
    "    fixed_durations.to_excel(writer, sheet_name='fixed_durations')\n",
    "    alts_returns.to_excel(writer, sheet_name='alts_returns')"
   ]
  },
  {
   "cell_type": "code",
   "execution_count": 46,
   "metadata": {},
   "outputs": [],
   "source": [
    "with pd.ExcelWriter(r'P:\\\\Advisory\\\\Research\\\\Automation\\\\CMAs\\\\Data\\\\bloomberg_data_nonus.xlsx') as writer:\n",
    "    equity_returns_nonus.to_excel(writer, sheet_name='equity_returns')\n",
    "    fixed_returns_nonus.to_excel(writer, sheet_name='fixed_returns')\n",
    "    fixed_yields_nonus.to_excel(writer, sheet_name='fixed_yields')\n",
    "    fixed_spreads_nonus.to_excel(writer, sheet_name='fixed_spreads')\n",
    "    fixed_durations_nonus.to_excel(writer, sheet_name='fixed_durations')\n",
    "    alts_returns_nonus.to_excel(writer, sheet_name='alts_returns')\n",
    "    historical_cross_currencies.to_excel(writer, sheet_name='currencies')"
   ]
  },
  {
   "cell_type": "code",
   "execution_count": 47,
   "metadata": {},
   "outputs": [],
   "source": [
    "with pd.ExcelWriter(r'P:\\\\Advisory\\\\Research\\\\Automation\\\\CMAs\\\\Data\\\\term_structure_data.xlsx') as writer:\n",
    "    aa_corp_spread.to_excel(writer, sheet_name='aa_corp_spread')\n",
    "    fixed_treasury_yld.to_excel(writer, sheet_name='us_treas_yld')\n",
    "    fixed_treasury_dur.to_excel(writer, sheet_name='us_treas_dur')\n",
    "    gl_fixed_treasury_yld.to_excel(writer, sheet_name='gl_treas_yld')\n",
    "    gl_fixed_treasury_dur.to_excel(writer, sheet_name='gl_treas_dur') \n",
    "    gl_fixed_agg_yld.to_excel(writer, sheet_name='gl_agg_yld')\n",
    "    gl_fixed_agg_dur.to_excel(writer, sheet_name='gl_agg_dur')\n",
    "    gl_fixed_agg_spread.to_excel(writer, sheet_name='gl_agg_spreads')\n",
    "    em_fixed_treasury_yld.to_excel(writer, sheet_name='em_treas_yld')\n",
    "    em_fixed_treasury_dur.to_excel(writer, sheet_name='em_treas_dur')"
   ]
  }
 ],
 "metadata": {
  "jupytext": {
   "formats": "ipynb,py:percent"
  },
  "kernelspec": {
   "display_name": "Python 3",
   "language": "python",
   "name": "python3"
  },
  "language_info": {
   "codemirror_mode": {
    "name": "ipython",
    "version": 3
   },
   "file_extension": ".py",
   "mimetype": "text/x-python",
   "name": "python",
   "nbconvert_exporter": "python",
   "pygments_lexer": "ipython3",
   "version": "3.6.7"
  },
  "toc-autonumbering": true
 },
 "nbformat": 4,
 "nbformat_minor": 4
}
