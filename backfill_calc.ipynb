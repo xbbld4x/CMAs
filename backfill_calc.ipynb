{
 "cells": [
  {
   "cell_type": "code",
   "execution_count": 1,
   "metadata": {},
   "outputs": [],
   "source": [
    "import cma_gui as cma\n",
    "\n",
    "import numpy as np\n",
    "import pandas as pd\n",
    "\n",
    "from datetime import date\n",
    "from datetime import datetime\n",
    "from dateutil.relativedelta import relativedelta\n",
    "from scipy import stats"
   ]
  },
  {
   "cell_type": "code",
   "execution_count": 2,
   "metadata": {},
   "outputs": [],
   "source": [
    "# Include 20 years of data dats\n",
    "last_date = datetime.strptime(cma.val_dict['as_of_date'], '%m-%d-%Y')\n",
    "first_date = last_date - relativedelta(years=20)"
   ]
  },
  {
   "cell_type": "markdown",
   "metadata": {},
   "source": [
    "# USD"
   ]
  },
  {
   "cell_type": "code",
   "execution_count": 3,
   "metadata": {},
   "outputs": [],
   "source": [
    "# Import index values\n",
    "df_equity = pd.read_excel(\n",
    "    \"P:\\\\Advisory\\\\Research\\\\Automation\\\\CMAs\\\\Data\\\\bloomberg_data_usd.xlsx\", sheet_name='equity_returns', index_col=0)\n",
    "df_fixed = pd.read_excel(\n",
    "    \"P:\\\\Advisory\\\\Research\\\\Automation\\\\CMAs\\\\Data\\\\bloomberg_data_usd.xlsx\", sheet_name='fixed_returns', index_col=0)\n",
    "df_alts = pd.read_excel(\n",
    "    \"P:\\\\Advisory\\\\Research\\\\Automation\\\\CMAs\\\\Data\\\\bloomberg_data_usd.xlsx\", sheet_name='alts_returns', index_col=0)\n",
    "\n",
    "# Combine all index values into single dataframe\n",
    "df_returns = df_equity.join(df_fixed, how=\"outer\")\n",
    "df_returns = df_returns.join(df_alts, how=\"outer\")\n",
    "\n",
    "# Filter dataframe to only include 20 years of data\n",
    "mask_us = (df_returns.index > first_date) & (df_returns.index <= last_date)\n",
    "df_returns = df_returns.loc[mask_us]"
   ]
  },
  {
   "cell_type": "code",
   "execution_count": 4,
   "metadata": {},
   "outputs": [],
   "source": [
    "# Determine columns with NaN\n",
    "list_nan_us = df_returns.columns[df_returns.isna().any()].tolist()\n",
    "\n",
    "equity_us_name = list(filter(None, list({k:v for (k,v) in cma.val_dict.items() if 'equity_us_name' in k}.values())))\n",
    "equity_us_beta = list(filter(None, list({k:v for (k,v) in cma.val_dict.items() if 'equity_us_beta' in k}.values())))\n",
    "df_backfill_us_equity = pd.DataFrame(list(zip(equity_us_name, equity_us_beta)), columns =['Asset Class', 'Beta Relative To'])\n",
    "\n",
    "fixed_us_name = list(filter(None, list({k:v for (k,v) in cma.val_dict.items() if 'fixed_us_name' in k}.values())))\n",
    "fixed_us_beta = list(filter(None, list({k:v for (k,v) in cma.val_dict.items() if 'fixed_us_beta' in k}.values())))\n",
    "df_backfill_us_fixed = pd.DataFrame(list(zip(fixed_us_name, fixed_us_beta)), columns =['Asset Class', 'Beta Relative To'])\n",
    "\n",
    "alts_us_name = list(filter(None, list({k:v for (k,v) in cma.val_dict.items() if 'alts_us_name' in k}.values())))\n",
    "alts_us_beta = list(filter(None, list({k:v for (k,v) in cma.val_dict.items() if 'alts_us_beta' in k}.values())))\n",
    "df_backfill_us_alts = pd.DataFrame(list(zip(alts_us_name, alts_us_beta)), columns =['Asset Class', 'Beta Relative To'])\n",
    "\n",
    "# Combine backfill data into one dataframe\n",
    "filter_vals = ['Building Blocks', 'N/A']\n",
    "\n",
    "df_backfill_us = df_backfill_us_equity.copy(deep=True)\n",
    "df_backfill_us = df_backfill_us.append(df_backfill_us_fixed).append(df_backfill_us_alts)\n",
    "df_backfill_us = df_backfill_us[~df_backfill_us['Beta Relative To'].str.contains('|'.join(filter_vals))]\n",
    "df_backfill_us = df_backfill_us.set_index('Asset Class')"
   ]
  },
  {
   "cell_type": "code",
   "execution_count": 5,
   "metadata": {},
   "outputs": [],
   "source": [
    "# Backfill indexes with beta adjusted returns if history is not available\n",
    "for i in range(len(list_nan_us)):\n",
    "    list_nan_us_sub = list_nan_us[i]\n",
    "    backfill_sub_us = df_backfill_us.loc[list_nan_us[i], 'Beta Relative To']\n",
    "    \n",
    "    df_bfill_us = df_returns[[list_nan_us_sub, backfill_sub_us]].dropna()\n",
    "    \n",
    "    slope, intercept, r_value, p_value, std_err = stats.linregress(df_bfill_us[backfill_sub_us].values, \n",
    "                                                                   df_bfill_us[list_nan_us_sub].values)\n",
    "\n",
    "    df_returns[list_nan_us_sub].fillna(\n",
    "        df_returns[backfill_sub_us] * slope + intercept, inplace=True)"
   ]
  },
  {
   "cell_type": "code",
   "execution_count": 6,
   "metadata": {},
   "outputs": [],
   "source": [
    "df_returns.to_csv(\n",
    "    r\"P:\\\\Advisory\\\\Research\\\\Automation\\\\CMAs\\\\Data\\\\combined_returns_us.csv\")"
   ]
  },
  {
   "cell_type": "markdown",
   "metadata": {},
   "source": [
    "# Non USD"
   ]
  },
  {
   "cell_type": "code",
   "execution_count": 7,
   "metadata": {},
   "outputs": [],
   "source": [
    "# Import index values\n",
    "df_equity_nonus = pd.read_excel(\n",
    "    \"P:\\\\Advisory\\\\Research\\\\Automation\\\\CMAs\\\\Data\\\\bloomberg_data_nonus.xlsx\", sheet_name='equity_returns', index_col=0)\n",
    "df_fixed_nonus = pd.read_excel(\n",
    "    \"P:\\\\Advisory\\\\Research\\\\Automation\\\\CMAs\\\\Data\\\\bloomberg_data_nonus.xlsx\", sheet_name='fixed_returns', index_col=0)\n",
    "df_alts_nonus = pd.read_excel(\n",
    "    \"P:\\\\Advisory\\\\Research\\\\Automation\\\\CMAs\\\\Data\\\\bloomberg_data_nonus.xlsx\", sheet_name='alts_returns', index_col=0)\n",
    "df_currency = pd.read_excel(\n",
    "    \"P:\\\\Advisory\\\\Research\\\\Automation\\\\CMAs\\\\Data\\\\bloomberg_data_nonus.xlsx\", sheet_name='currencies', index_col=0)"
   ]
  },
  {
   "cell_type": "code",
   "execution_count": 8,
   "metadata": {},
   "outputs": [],
   "source": [
    "# Combine all index values into single dataframe\n",
    "df_index_nonus = df_equity_nonus.join(df_fixed_nonus, how=\"outer\")\n",
    "df_index_nonus = df_index_nonus.join(df_alts_nonus, how=\"outer\")"
   ]
  },
  {
   "cell_type": "code",
   "execution_count": 9,
   "metadata": {},
   "outputs": [],
   "source": [
    "# Adjust indices for currency\n",
    "df_index_local= df_index_nonus.mul(df_currency[cma.val_dict['currency']], axis=0)\n",
    "\n",
    "# Add back in alts and us equity with non local results\n",
    "df_equity_nonus_usequity = df_equity_nonus['U.S. Equity']\n",
    "df_alts_nonus_nolocal = df_alts_nonus.merge(df_equity_nonus_usequity, left_index=True, right_index=True)\n",
    "df_alts_nonus_nolocal = df_alts_nonus_nolocal.add_prefix('USD_')\n",
    "\n",
    "df_index_local = df_index_local.join(df_alts_nonus_nolocal, how=\"outer\")\n",
    "\n",
    "# Calculate monthly returns in local currency\n",
    "df_returns_local = df_index_local.pct_change()\n",
    "\n",
    "# Filter dataframe to only include 20 years of data\n",
    "last_date = datetime.strptime(cma.val_dict['as_of_date'], '%m-%d-%Y')\n",
    "first_date = last_date - relativedelta(years=20)\n",
    "\n",
    "mask = (df_returns_local.index > first_date) & (df_returns_local.index <= last_date)\n",
    "df_returns_local = df_returns_local.loc[mask]"
   ]
  },
  {
   "cell_type": "code",
   "execution_count": 10,
   "metadata": {},
   "outputs": [],
   "source": [
    "# Determine columns with NaN\n",
    "list_nan_nonus = df_returns_local.columns[df_returns_local.isna().any()].tolist()\n",
    "\n",
    "equity_nonus_name = list(filter(None, list({k:v for (k,v) in cma.val_dict.items() if 'equity_nonus_name' in k}.values())))\n",
    "equity_nonus_beta = list(filter(None, list({k:v for (k,v) in cma.val_dict.items() if 'equity_nonus_beta' in k}.values())))\n",
    "df_backfill_equity_nonus = pd.DataFrame(list(zip(equity_nonus_name, equity_nonus_beta)), columns =['Asset Class', 'Beta Relative To'])\n",
    "\n",
    "fixed_nonus_name = list(filter(None, list({k:v for (k,v) in cma.val_dict.items() if 'fixed_nonus_name' in k}.values())))\n",
    "fixed_nonus_beta = list(filter(None, list({k:v for (k,v) in cma.val_dict.items() if 'fixed_nonus_beta' in k}.values())))\n",
    "df_backfill_fixed_nonus = pd.DataFrame(list(zip(fixed_nonus_name, fixed_nonus_beta)), columns =['Asset Class', 'Beta Relative To'])\n",
    "\n",
    "alts_nonus_name = list(filter(None, list({k:v for (k,v) in cma.val_dict.items() if 'alts_nonus_name' in k}.values())))\n",
    "alts_nonus_beta = list(filter(None, list({k:v for (k,v) in cma.val_dict.items() if 'alts_nonus_beta' in k}.values())))\n",
    "df_backfill_alts_nonus = pd.DataFrame(list(zip(alts_nonus_name, alts_nonus_beta)), columns =['Asset Class', 'Beta Relative To'])\n",
    "\n",
    "# Combine backfill data into one dataframe\n",
    "filter_vals = ['Building Blocks', 'N/A']\n",
    "\n",
    "df_backfill_nonus = df_backfill_equity_nonus.copy(deep=True)\n",
    "df_backfill_nonus = df_backfill_nonus.append(df_backfill_fixed_nonus).append(df_backfill_alts_nonus)\n",
    "df_backfill_nonus = df_backfill_nonus[~df_backfill_nonus['Beta Relative To'].str.contains('|'.join(filter_vals))]\n",
    "df_backfill_nonus = df_backfill_nonus.set_index('Asset Class')"
   ]
  },
  {
   "cell_type": "code",
   "execution_count": 11,
   "metadata": {},
   "outputs": [],
   "source": [
    "# # Loop through every column with NaN, determine backfill index, calculate beta,\n",
    "# # Fill NaN values of column with beta-adjusted returns\n",
    "\n",
    "for i in range(len(list_nan_nonus)):\n",
    "    list_nan_nonus_sub = list_nan_nonus[i]\n",
    "    backfill_sub_nonus = df_backfill_nonus.loc[list_nan_nonus[i], 'Beta Relative To']\n",
    "    \n",
    "    df_bfill_nonus = df_returns_local[[list_nan_nonus_sub, backfill_sub_nonus]].dropna()\n",
    "    \n",
    "    slope, intercept, r_value, p_value, std_err = stats.linregress(df_bfill_nonus[backfill_sub_nonus].values, \n",
    "                                                                    df_bfill_nonus[list_nan_nonus_sub].values)\n",
    "\n",
    "    df_returns_local[list_nan_nonus_sub].fillna(\n",
    "        df_returns_local[backfill_sub_nonus] * slope + intercept, inplace=True)\n",
    "\n",
    "# Drop beta returns\n",
    "df_returns_local = df_returns_local.drop(['Emerging Debt Agg USD'], axis=1)\n"
   ]
  },
  {
   "cell_type": "code",
   "execution_count": 12,
   "metadata": {},
   "outputs": [],
   "source": [
    "df_returns_local.to_csv(\n",
    "    r\"P:\\\\Advisory\\\\Research\\\\Automation\\\\CMAs\\\\Data\\\\combined_returns_nonus.csv\")"
   ]
  },
  {
   "cell_type": "code",
   "execution_count": null,
   "metadata": {},
   "outputs": [],
   "source": []
  }
 ],
 "metadata": {
  "jupytext": {
   "formats": "ipynb,py:light"
  },
  "kernelspec": {
   "display_name": "Python 3",
   "language": "python",
   "name": "python3"
  },
  "language_info": {
   "codemirror_mode": {
    "name": "ipython",
    "version": 3
   },
   "file_extension": ".py",
   "mimetype": "text/x-python",
   "name": "python",
   "nbconvert_exporter": "python",
   "pygments_lexer": "ipython3",
   "version": "3.7.3"
  }
 },
 "nbformat": 4,
 "nbformat_minor": 4
}
