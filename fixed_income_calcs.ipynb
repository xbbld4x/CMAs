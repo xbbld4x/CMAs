{
 "cells": [
  {
   "cell_type": "code",
   "execution_count": 2,
   "metadata": {},
   "outputs": [],
   "source": [
    "import cma_gui as cma\n",
    "import math\n",
    "import numpy as np\n",
    "import operator\n",
    "import pandas as pd\n",
    "\n",
    "from datetime import date\n",
    "from datetime import datetime\n",
    "from dateutil.relativedelta import relativedelta\n",
    "from nelson_siegel_svensson.calibrate import betas_ns_ols\n",
    "from scipy import stats\n",
    "from scipy.stats import mstats"
   ]
  },
  {
   "cell_type": "code",
   "execution_count": 3,
   "metadata": {},
   "outputs": [],
   "source": [
    "# Date range for dataframes\n",
    "last_date = datetime.strptime(cma.val_dict['as_of_date'], '%m-%d-%Y')\n",
    "first_date = last_date - relativedelta(years=20)"
   ]
  },
  {
   "cell_type": "markdown",
   "metadata": {},
   "source": [
    "# US Term Structure"
   ]
  },
  {
   "cell_type": "code",
   "execution_count": 4,
   "metadata": {},
   "outputs": [],
   "source": [
    "# Import Treasury Information\n",
    "df_treas_yields = pd.read_excel('P:\\\\Advisory\\\\Research\\\\Automation\\\\CMAs\\\\Data\\\\term_structure_data.xlsx', sheet_name='us_treas_yld', index_col=0)\n",
    "df_treas_durations = pd.read_excel('P:\\\\Advisory\\\\Research\\\\Automation\\\\CMAs\\\\data\\\\term_structure_data.xlsx', sheet_name='us_treas_dur', index_col=0)\n",
    "\n",
    "# Filter dataframes to only include 20 years of data\n",
    "df_treas_yields = df_treas_yields.loc[:cma.val_dict['as_of_date'], :]\n",
    "df_treas_durations = df_treas_durations.loc[:cma.val_dict['as_of_date'], :]\n",
    "\n",
    "# Get latest values\n",
    "current_yield_list = (df_treas_yields.iloc[-1,:] / 100).round(4) \n",
    "current_yield_list = current_yield_list.to_list()\n",
    "\n",
    "current_duration_list = (df_treas_durations.iloc[-1,:]).round(4) \n",
    "current_duration_list = current_duration_list.to_list()"
   ]
  },
  {
   "cell_type": "code",
   "execution_count": 5,
   "metadata": {},
   "outputs": [],
   "source": [
    "# Calculate Normalized Rates\n",
    "term_premium = [cma.val_dict['term_prem_3mo'], cma.val_dict['term_prem_5yr']/100, cma.val_dict['term_prem_10yr']/100, cma.val_dict['term_prem_30yr']/100]\n",
    "\n",
    "future_yield = (cma.val_dict['us_inflation']/100 + cma.val_dict['us_rcr']/100)\n",
    "future_yield_list = [future_yield, (future_yield + cma.val_dict['term_prem_5yr']/100), (future_yield + cma.val_dict['term_prem_10yr']/100), \n",
    "                     (future_yield + cma.val_dict['term_prem_30yr']/100)]\n",
    "\n",
    "future_duration_list = current_duration_list\n",
    "\n",
    "interest_rates = {'Current_Yield':current_yield_list,\n",
    "                  'Current_Duration':current_duration_list,\n",
    "                  'Term_Premium': term_premium,\n",
    "                  'Future_Yield':future_yield_list,\n",
    "                  'Future_Duration':future_duration_list}\n",
    "\n",
    "df_interest_rates = pd.DataFrame(interest_rates)\n",
    "df_interest_rates = df_interest_rates.rename(index = {0: \"three_mo\",\n",
    "                                                      1: \"five_yr\",\n",
    "                                                      2: \"ten_yr\",\n",
    "                                                      3: \"thirty_yr\"})\n",
    "\n",
    "\n",
    "df_interest_rates = df_interest_rates.round(4)\n",
    "df_interest_rates.loc[:,['Current_Duration', 'Future_Duration']] = df_interest_rates.loc[:,['Current_Duration', 'Future_Duration']].round(2)"
   ]
  },
  {
   "cell_type": "code",
   "execution_count": 52,
   "metadata": {},
   "outputs": [],
   "source": [
    "# Curve parameters\n",
    "df_yield_10yr = pd.DataFrame(df_interest_rates['Current_Yield'])\n",
    "\n",
    "for i in range(1,11):\n",
    "    df_yield_10yr[i] = np.nan\n",
    "\n",
    "yield_norm = df_interest_rates['Future_Yield']\n",
    "\n",
    "# Normalized values\n",
    "for i in range(cma.val_dict['yield_norm_yrs'], 11):\n",
    "     df_yield_10yr.iloc[:,i] = yield_norm\n",
    "\n",
    "# Path to reach normalized yield state\n",
    "for i in range(1, cma.val_dict['yield_norm_yrs']):\n",
    "     df_yield_10yr.iloc[:, i] = (df_interest_rates['Future_Yield'] - df_interest_rates['Current_Yield']) / cma.val_dict['yield_norm_yrs'] + df_yield_10yr.iloc[:,i-1]"
   ]
  },
  {
   "cell_type": "code",
   "execution_count": 53,
   "metadata": {},
   "outputs": [],
   "source": [
    "# Determine parameters for each year\n",
    "df_yield_params = pd.DataFrame(['NaN', 'NaN', 'NaN'], columns=['Current'])\n",
    "\n",
    "for i in range(1,11):\n",
    "    df_yield_params[i] = np.nan\n",
    "\n",
    "tau=1.65\n",
    "\n",
    "param_list = []\n",
    "for i in range(0, 11):\n",
    "    t = np.array(df_interest_rates['Current_Duration'])\n",
    "    y = np.array(df_yield_10yr.iloc[:,i])\n",
    "    \n",
    "    curve, status = betas_ns_ols(tau, t, y)\n",
    "    curve = str(curve)\n",
    "\n",
    "    B0 = float((curve.split('=')[1]).split(',')[0])\n",
    "    B1 = float((curve.split('=')[2]).split(',')[0])\n",
    "    B2 = float((curve.split('=')[3]).split(',')[0])\n",
    "    param = [B0, B1, B2]\n",
    "    df_yield_params.iloc[:,i] = param"
   ]
  },
  {
   "cell_type": "code",
   "execution_count": 54,
   "metadata": {},
   "outputs": [],
   "source": [
    "# US Yield Curve Over Next 10 Years\n",
    "term_structure = (np.arange(0.5, 100.5, 0.5))\n",
    "\n",
    "curve_list = []\n",
    "for i in range(0, 11):\n",
    "    curve_item = [df_yield_params.iloc[0,i] + df_yield_params.iloc[1,i] * (tau / x) * (1 - math.exp(-x / tau)) + df_yield_params.iloc[2,i] * (tau / x) * (1 - (1 + x / tau) * math.exp(-x / tau)) for x in term_structure]\n",
    "    curve_list.append(curve_item)\n",
    "    \n",
    "df_us_yield_curves = pd.DataFrame(curve_list).T\n",
    "df_us_yield_curves['Term Structure'] = term_structure"
   ]
  },
  {
   "cell_type": "markdown",
   "metadata": {},
   "source": [
    "# Global Term Structure"
   ]
  },
  {
   "cell_type": "code",
   "execution_count": 55,
   "metadata": {},
   "outputs": [],
   "source": [
    "# Normalized Rates\n",
    "df_gl_treas_yields = pd.read_excel('P:\\\\Advisory\\\\Research\\\\Automation\\\\CMAs\\\\Data\\\\term_structure_data.xlsx', sheet_name='gl_treas_yld', index_col=0)\n",
    "df_gl_treas_durations = pd.read_excel('P:\\\\Advisory\\\\Research\\\\Automation\\\\CMAs\\\\Data\\\\term_structure_data.xlsx', sheet_name='gl_treas_dur', index_col=0)\n",
    "\n",
    "# Filter dataframes to only include 20 years of data\n",
    "df_gl_treas_yields = df_gl_treas_yields.loc[:cma.val_dict['as_of_date'], :]\n",
    "df_gl_treas_durations = df_gl_treas_durations.loc[:cma.val_dict['as_of_date'], :]"
   ]
  },
  {
   "cell_type": "code",
   "execution_count": 56,
   "metadata": {},
   "outputs": [],
   "source": [
    "gl_current_yield_list = (df_gl_treas_yields.iloc[-1,:] / 100).round(4) \n",
    "gl_current_yield_list = gl_current_yield_list.to_list()\n",
    "gl_current_yield_list.insert(0, 0.010)\n",
    "\n",
    "gl_current_duration_list = (df_gl_treas_durations.iloc[-1,:]).round(2) \n",
    "gl_current_duration_list = gl_current_duration_list.to_list()\n",
    "gl_current_duration_list.insert(0, 0.25)\n",
    "\n",
    "# GL term premium\n",
    "iteration_list_gl_tp = [abs(df_us_yield_curves['Term Structure'] - x).idxmin() for x in gl_current_duration_list]\n",
    "\n",
    "for i in range(6):\n",
    "      gl_term_premium = [df_us_yield_curves.iloc[x, i] - future_yield for x in iteration_list_gl_tp]\n",
    "gl_term_premium[:] = [x - cma.val_dict['gl_theme_tp_adjust'] for x in gl_term_premium]\n",
    "gl_term_premium[0] = 0"
   ]
  },
  {
   "cell_type": "code",
   "execution_count": 57,
   "metadata": {},
   "outputs": [],
   "source": [
    "gl_future_yield = (cma.val_dict['global_inflation']/100 + cma.val_dict['global_rcr']/100)\n",
    "\n",
    "gl_future_yield_list = [gl_future_yield, (gl_future_yield + gl_term_premium[1]), (gl_future_yield + gl_term_premium[2]),\n",
    "                        (gl_future_yield + gl_term_premium[3]), (gl_future_yield + gl_term_premium[4]), (gl_future_yield + gl_term_premium[5])]\n",
    "gl_future_duration_list = gl_current_duration_list\n",
    "\n",
    "gl_interest_rates = {'Current_Yield':gl_current_yield_list,\n",
    "                     'Current_Duration':gl_current_duration_list,\n",
    "                     'Term_Premium': gl_term_premium,\n",
    "                     'Future_Yield':gl_future_yield_list,\n",
    "                     'Future_Duration':gl_future_duration_list}\n",
    "\n",
    "df_gl_interest_rates = pd.DataFrame(gl_interest_rates)\n",
    "df_gl_interest_rates = df_gl_interest_rates.rename(index = {0: \"3 Mo LIBOR\",\n",
    "                                                            1: \"1-3 Yr\",\n",
    "                                                            2: \"3-5 Yr\",\n",
    "                                                            3: \"5-7 Yr\",\n",
    "                                                            4: \"7-10 Yr\",\n",
    "                                                            5: \"10+ Yr\"})"
   ]
  },
  {
   "cell_type": "code",
   "execution_count": 58,
   "metadata": {},
   "outputs": [],
   "source": [
    "# Current Curve Parameters\n",
    "t = np.array(df_gl_interest_rates['Current_Duration'])\n",
    "y = np.array(df_gl_interest_rates['Current_Yield'])\n",
    "\n",
    "curve, status = betas_ns_ols(tau, t, y)\n",
    "curve = str(curve)\n",
    "\n",
    "# Extract paramaters from results\n",
    "B0_gl_curr = float((curve.split('=')[1]).split(',')[0])\n",
    "B1_gl_curr = float((curve.split('=')[2]).split(',')[0])\n",
    "B2_gl_curr = float((curve.split('=')[3]).split(',')[0])\n",
    "param_gl_curr = [B0_gl_curr, B1_gl_curr, B2_gl_curr]"
   ]
  },
  {
   "cell_type": "code",
   "execution_count": 59,
   "metadata": {},
   "outputs": [],
   "source": [
    "# Future Curve Parameters\n",
    "t = np.array(df_gl_interest_rates['Future_Duration'])\n",
    "y = np.array(df_gl_interest_rates['Future_Yield'])\n",
    "\n",
    "curve, status = betas_ns_ols(tau, t, y)\n",
    "curve = str(curve)\n",
    "\n",
    "# Extract paramaters from results\n",
    "B0_gl_future = float((curve.split('=')[1]).split(',')[0])\n",
    "B1_gl_future = float((curve.split('=')[2]).split(',')[0])\n",
    "B2_gl_future = float((curve.split('=')[3]).split(',')[0])\n",
    "param_gl_future = [B0_gl_future, B1_gl_future, B2_gl_future]"
   ]
  },
  {
   "cell_type": "code",
   "execution_count": 60,
   "metadata": {},
   "outputs": [],
   "source": [
    "# Yield Curves Next 10 Yrs\n",
    "gl_term_structure = (np.arange(0.5, 100.5, 0.5))"
   ]
  },
  {
   "cell_type": "code",
   "execution_count": 61,
   "metadata": {},
   "outputs": [],
   "source": [
    "gl_curr_yield = [B0_gl_curr + B1_gl_curr * (tau / x) * (1 - math.exp(-x / tau)) + B2_gl_curr * (tau / x) * (1 - (1 + x / tau) * math.exp(-x / tau)) for x in gl_term_structure]\n",
    "\n",
    "df_gl_yield_curves = pd.DataFrame(df_us_yield_curves.iloc[:,0])\n",
    "\n",
    "for i in range(1,11):\n",
    "    df_gl_yield_curves[i] = np.nan\n",
    "df_gl_yield_curves.iloc[:,0] = gl_curr_yield\n",
    "\n",
    "# Normalized Values\n",
    "for i in range(cma.val_dict['gl_yield_norm_yrs'], 11):\n",
    "     df_gl_yield_curves.iloc[:,i] = [B0_gl_future + B1_gl_future * (tau / x) * (1 - math.exp(-x / tau)) + B2_gl_future * (tau / x) * (1 - (1 + x / tau) * math.exp(-x / tau)) for x in gl_term_structure]\n",
    "\n",
    "# Path to reach normalized yield state\n",
    "for i in range(1, cma.val_dict['gl_yield_norm_yrs']):\n",
    "     df_gl_yield_curves.iloc[:, i] = (df_gl_yield_curves.iloc[:,cma.val_dict['gl_yield_norm_yrs']] - \n",
    "                                      df_gl_yield_curves.iloc[:,0]) / cma.val_dict['gl_yield_norm_yrs'] + df_gl_yield_curves.iloc[:,i-1]\n",
    "\n",
    "df_gl_yield_curves['Term Structure'] = gl_term_structure"
   ]
  },
  {
   "cell_type": "markdown",
   "metadata": {},
   "source": [
    "# EM Term Structure"
   ]
  },
  {
   "cell_type": "code",
   "execution_count": 62,
   "metadata": {},
   "outputs": [],
   "source": [
    "# Normalized Rates\n",
    "df_em_treas_yields = pd.read_excel('P:\\\\Advisory\\\\Research\\\\Automation\\\\CMAs\\\\Data\\\\term_structure_data.xlsx', sheet_name='em_treas_yld', index_col=0)\n",
    "df_em_treas_durations = pd.read_excel('P:\\\\Advisory\\\\Research\\\\Automation\\\\CMAs\\\\Data\\\\term_structure_data.xlsx', sheet_name='em_treas_dur', index_col=0)\n",
    "\n",
    "# Filter dataframes to only include 20 years of data\n",
    "df_em_treas_yields = df_em_treas_yields.loc[:cma.val_dict['as_of_date'], :]\n",
    "df_em_treas_durations = df_em_treas_durations.loc[:cma.val_dict['as_of_date'], :]"
   ]
  },
  {
   "cell_type": "code",
   "execution_count": 63,
   "metadata": {},
   "outputs": [],
   "source": [
    "em_current_yield_list = (df_em_treas_yields.iloc[-1,:] / 100)\n",
    "em_current_yield_list = em_current_yield_list.to_list()\n",
    "em_current_yield_list.insert(0, 0.045)\n",
    "\n",
    "em_current_duration_list = (df_em_treas_durations.iloc[-1,:])\n",
    "em_current_duration_list = em_current_duration_list.to_list()\n",
    "em_current_duration_list.insert(0, 0.25)\n",
    "\n",
    "# EM term premium\n",
    "iteration_list_em_tp = [abs(df_us_yield_curves['Term Structure'] - x).idxmin() for x in em_current_duration_list]\n",
    "\n",
    "for i in range(6):\n",
    "      em_term_premium = [df_us_yield_curves.iloc[x, i] - future_yield for x in iteration_list_em_tp]\n",
    "em_term_premium[:] = [x - cma.val_dict['em_theme_tp_adjust'] for x in em_term_premium]\n",
    "em_term_premium[0] = 0"
   ]
  },
  {
   "cell_type": "code",
   "execution_count": 64,
   "metadata": {},
   "outputs": [],
   "source": [
    "# Import Treasury Information\n",
    "em_future_yield = (cma.val_dict['em_inflation']/100 + cma.val_dict['em_rcr']/100)\n",
    "\n",
    "em_future_yield_list = [em_future_yield, (em_future_yield + em_term_premium[1]), (em_future_yield + em_term_premium[2]),\n",
    "                       (em_future_yield + em_term_premium[3]), (em_future_yield + em_term_premium[4]), (em_future_yield + em_term_premium[5])]\n",
    "em_future_duration_list = em_current_duration_list\n",
    "\n",
    "em_interest_rates = {'Current_Yield':em_current_yield_list,\n",
    "                     'Current_Duration':em_current_duration_list,\n",
    "                     'Term_Premium': em_term_premium,\n",
    "                     'Future_Yield':em_future_yield_list,\n",
    "                     'Future_Duration':em_future_duration_list}\n",
    "\n",
    "df_em_interest_rates = pd.DataFrame(em_interest_rates)\n",
    "df_em_interest_rates = df_em_interest_rates.rename(index = {0: \"3 Mo LIBOR\",\n",
    "                                                            1: \"1-3 Yr\",\n",
    "                                                            2: \"3-5 Yr\",\n",
    "                                                            3: \"5-7 Yr\",\n",
    "                                                            4: \"7-10 Yr\",\n",
    "                                                            5: \"10+ Yr\"})"
   ]
  },
  {
   "cell_type": "code",
   "execution_count": 65,
   "metadata": {},
   "outputs": [],
   "source": [
    "# Current Curve Parameters\n",
    "t = np.array(df_em_interest_rates['Current_Duration'])\n",
    "y = np.array(df_em_interest_rates['Current_Yield'])\n",
    "\n",
    "curve, status = betas_ns_ols(tau, t, y)\n",
    "curve = str(curve)\n",
    "\n",
    "# Extract paramaters from results\n",
    "B0_em_curr = float((curve.split('=')[1]).split(',')[0])\n",
    "B1_em_curr = float((curve.split('=')[2]).split(',')[0])\n",
    "B2_em_curr = float((curve.split('=')[3]).split(',')[0])\n",
    "param_em_curr = [B0_em_curr, B1_em_curr, B2_em_curr]"
   ]
  },
  {
   "cell_type": "code",
   "execution_count": 66,
   "metadata": {},
   "outputs": [],
   "source": [
    "# Future Curve Parameters\n",
    "t = np.array(df_em_interest_rates['Future_Duration'])\n",
    "y = np.array(df_em_interest_rates['Future_Yield'])\n",
    "\n",
    "curve, status = betas_ns_ols(tau, t, y)\n",
    "curve = str(curve)\n",
    "\n",
    "# Extract paramaters from results\n",
    "B0_em_future = float((curve.split('=')[1]).split(',')[0])\n",
    "B1_em_future = float((curve.split('=')[2]).split(',')[0])\n",
    "B2_em_future = float((curve.split('=')[3]).split(',')[0])\n",
    "param_em_future = [B0_em_future, B1_em_future, B2_em_future]"
   ]
  },
  {
   "cell_type": "code",
   "execution_count": 67,
   "metadata": {},
   "outputs": [],
   "source": [
    "# Yield Curves Next 10 Yrs\n",
    "em_term_structure = (np.arange(0.5, 100.5, 0.5))"
   ]
  },
  {
   "cell_type": "code",
   "execution_count": 68,
   "metadata": {},
   "outputs": [],
   "source": [
    "em_curr_yield = [B0_em_curr + B1_em_curr * (tau / x) * (1 - math.exp(-x / tau)) + B2_em_curr * (tau / x) * (1 - (1 + x / tau) * math.exp(-x / tau)) for x in em_term_structure]\n",
    "\n",
    "# Create shell dataframe\n",
    "df_em_yield_curves = pd.DataFrame(df_us_yield_curves.iloc[:,0])\n",
    "for i in range(1,11):\n",
    "    df_em_yield_curves[i] = np.nan\n",
    "df_em_yield_curves.iloc[:,0] = em_curr_yield\n",
    "\n",
    "# Normalized Values\n",
    "for i in range(cma.val_dict['em_yield_norm_yrs'], 11):\n",
    "     df_em_yield_curves.iloc[:,i] = [B0_em_future + B1_em_future * (tau / x) * (1 - math.exp(-x / tau)) + B2_em_future * (tau / x) * (1 - (1 + x / tau) * math.exp(-x / tau)) for x in em_term_structure]\n",
    "\n",
    "# Path to reach normalized yield state\n",
    "for i in range(1, cma.val_dict['em_yield_norm_yrs']):\n",
    "     df_em_yield_curves.iloc[:, i] = (df_em_yield_curves.iloc[:,cma.val_dict['em_yield_norm_yrs']] - \n",
    "                                      df_em_yield_curves.iloc[:,0]) / cma.val_dict['em_yield_norm_yrs'] + df_em_yield_curves.iloc[:,i-1]\n",
    "\n",
    "df_em_yield_curves['Term Structure'] = em_term_structure"
   ]
  },
  {
   "cell_type": "markdown",
   "metadata": {},
   "source": [
    "# USD Returns"
   ]
  },
  {
   "cell_type": "markdown",
   "metadata": {},
   "source": [
    "## Import Data"
   ]
  },
  {
   "cell_type": "code",
   "execution_count": 70,
   "metadata": {
    "lines_to_next_cell": 0
   },
   "outputs": [],
   "source": [
    "df_yield = pd.read_excel('P:\\\\Advisory\\\\Research\\\\Automation\\\\CMAs\\\\Data\\\\bloomberg_data_usd.xlsx', sheet_name='fixed_yields', index_col=0) / 100\n",
    "df_duration = pd.read_excel('P:\\\\Advisory\\\\Research\\\\Automation\\\\CMAs\\\\Data\\\\bloomberg_data_usd.xlsx', sheet_name='fixed_durations', index_col=0)\n",
    "df_spread = pd.read_excel('P:\\\\Advisory\\\\Research\\\\Automation\\\\CMAs\\\\Data\\\\bloomberg_data_usd.xlsx', sheet_name='fixed_spreads', index_col=0) /100\n",
    "\n",
    "# Filter dataframes to only include 20 years of data\n",
    "df_yields = df_yield.loc[:cma.val_dict['as_of_date'], :]\n",
    "df_duration = df_duration.loc[:cma.val_dict['as_of_date'], :]\n",
    "df_spread = df_spread.loc[:cma.val_dict['as_of_date'], :]"
   ]
  },
  {
   "cell_type": "code",
   "execution_count": null,
   "metadata": {},
   "outputs": [],
   "source": []
  },
  {
   "cell_type": "code",
   "execution_count": null,
   "metadata": {},
   "outputs": [],
   "source": []
  },
  {
   "cell_type": "code",
   "execution_count": null,
   "metadata": {},
   "outputs": [],
   "source": []
  },
  {
   "cell_type": "code",
   "execution_count": null,
   "metadata": {},
   "outputs": [],
   "source": []
  },
  {
   "cell_type": "code",
   "execution_count": null,
   "metadata": {},
   "outputs": [],
   "source": []
  },
  {
   "cell_type": "code",
   "execution_count": null,
   "metadata": {},
   "outputs": [],
   "source": []
  },
  {
   "cell_type": "code",
   "execution_count": null,
   "metadata": {
    "lines_to_next_cell": 2
   },
   "outputs": [],
   "source": []
  },
  {
   "cell_type": "markdown",
   "metadata": {},
   "source": [
    "# Non USD Returns"
   ]
  },
  {
   "cell_type": "markdown",
   "metadata": {},
   "source": [
    "## Import Data"
   ]
  },
  {
   "cell_type": "code",
   "execution_count": 71,
   "metadata": {},
   "outputs": [],
   "source": [
    "df_yield_nonus = pd.read_excel('P:\\\\Advisory\\\\Research\\\\Automation\\\\CMAs\\\\Data\\\\bloomberg_data_nonus.xlsx', sheet_name='fixed_yields', index_col=0) / 100\n",
    "df_duration_nonus = pd.read_excel('P:\\\\Advisory\\\\Research\\\\Automation\\\\CMAs\\\\Data\\\\bloomberg_data_nonus.xlsx', sheet_name='fixed_durations', index_col=0)\n",
    "df_spread_nonus = pd.read_excel('P:\\\\Advisory\\\\Research\\\\Automation\\\\CMAs\\\\Data\\\\bloomberg_data_nonus.xlsx', sheet_name='fixed_spreads', index_col=0) /100\n",
    "\n",
    "# Filter dataframes to only include 20 years of data\n",
    "df_yield_nonus = df_yield_nonus.loc[:cma.val_dict['as_of_date'], :]\n",
    "df_duration_nonus = df_duration_nonus.loc[:cma.val_dict['as_of_date'], :]\n",
    "df_spread_nonus = df_spread_nonus.loc[:cma.val_dict['as_of_date'], :]"
   ]
  },
  {
   "cell_type": "code",
   "execution_count": 72,
   "metadata": {},
   "outputs": [],
   "source": [
    "# Add TBills to synopsis for calculation purposes\n",
    "df_yield_nonus['U.S. Treasury Bills'] = df_yield['U.S. Treasury Bills']\n",
    "df_duration_nonus['U.S. Treasury Bills'] = df_duration['U.S. Treasury Bills']\n",
    "df_spread_nonus['U.S. Treasury Bills'] = df_spread['U.S. Treasury Bills']\n",
    "\n",
    "# Synopsis of current yield, spreads, and duration for all asset classes\n",
    "df_yield_last_nonus = pd.DataFrame(df_yield_nonus.iloc[-1,:]).T\n",
    "df_yield_last_nonus = df_yield_last_nonus.rename({240: 'Current Yield'})\n",
    "\n",
    "df_spread_last_nonus = pd.DataFrame(df_spread_nonus.iloc[-1,:]).T\n",
    "df_spread_last_nonus = df_spread_last_nonus.rename({240: 'Current Spread'})\n",
    "\n",
    "df_duration_last_nonus = pd.DataFrame(df_duration_nonus.iloc[-1,:]).T\n",
    "df_duration_last_nonus = df_duration_last_nonus.rename({240: 'Current Duration'})\n",
    "\n",
    "df_synopsis_nonus = pd.concat([df_yield_last_nonus, df_spread_last_nonus, df_duration_last_nonus], sort=False)\n",
    "df_synopsis_nonus = df_synopsis_nonus.astype(float)\n",
    "df_synopsis_nonus.index = ['Current Yield', 'Current Spread', 'Current Duration']\n",
    "df_synopsis_nonus.loc['Current Duration', 'U.S. Treasury Bills'] = 0.25\n",
    "df_synopsis_nonus = df_synopsis_nonus.round(4)"
   ]
  },
  {
   "cell_type": "markdown",
   "metadata": {},
   "source": [
    "## Future Treasury Yields"
   ]
  },
  {
   "cell_type": "code",
   "execution_count": 73,
   "metadata": {},
   "outputs": [],
   "source": [
    "duration_list_nonus = df_synopsis_nonus.loc['Current Duration',:]\n",
    "\n",
    "df_name_nonus = {k:v for (k,v) in cma.val_dict.items() if 'fixed_nonus_name' in k}\n",
    "df_name_nonus = [i for i in df_name_nonus.values()]\n",
    "\n",
    "df_term_nonus = {k:v for (k,v) in cma.val_dict.items() if 'fixed_nonus_term' in k}\n",
    "df_term_nonus = [i for i in df_term_nonus.values()]\n",
    "\n",
    "# Create dataframe to determine what asset classes to what term structure\n",
    "df_term_combined_nonus = pd.DataFrame(zip(df_name_nonus, df_term_nonus), columns =['Asset Class', 'Term Structure']).set_index('Asset Class')\n",
    "df_term_combined_nonus = df_term_combined_nonus.merge(duration_list_nonus, left_index=True, right_index=True)\n",
    "\n",
    "# Split dataframes based on term structure\n",
    "df_term_us_nonus = df_term_combined_nonus[df_term_combined_nonus['Term Structure'] == 'US']\n",
    "df_term_gl_nonus = df_term_combined_nonus[df_term_combined_nonus['Term Structure'] == 'NonUS']\n",
    "df_term_em_nonus = df_term_combined_nonus[df_term_combined_nonus['Term Structure'] == 'EM']"
   ]
  },
  {
   "cell_type": "code",
   "execution_count": 74,
   "metadata": {},
   "outputs": [],
   "source": [
    "# US Term structure yield determination\n",
    "duration_list_us_nonus = df_term_us_nonus.loc[:,'Current Duration']\n",
    "iteration_list_us_nonus = [abs(df_us_yield_curves['Term Structure'] - x).idxmin() for x in duration_list_us_nonus]\n",
    "\n",
    "tsy_yield_us_nonus = pd.DataFrame(index=range(1,11), columns=df_term_us_nonus.index)\n",
    "\n",
    "for i in range(1, 11):\n",
    "     tsy_yield_us_nonus.loc[i,:] = [df_us_yield_curves.iloc[x, i] for x in iteration_list_us_nonus]"
   ]
  },
  {
   "cell_type": "code",
   "execution_count": 75,
   "metadata": {},
   "outputs": [],
   "source": [
    "# Non-US Term structure yield determination\n",
    "duration_list_gl_nonus = df_term_gl_nonus.loc[:,'Current Duration']\n",
    "iteration_list_gl_nonus = [abs(df_gl_yield_curves['Term Structure'] - x).idxmin() for x in duration_list_gl_nonus]\n",
    "\n",
    "tsy_yield_gl_nonus = pd.DataFrame(index=range(1,11), columns=df_term_gl_nonus.index)\n",
    "\n",
    "for i in range(1, 11):\n",
    "     tsy_yield_gl_nonus.loc[i,:] = [df_gl_yield_curves.iloc[x, i] for x in iteration_list_gl_nonus]"
   ]
  },
  {
   "cell_type": "code",
   "execution_count": 76,
   "metadata": {},
   "outputs": [],
   "source": [
    "# EM Term structure yield determination\n",
    "duration_list_em_nonus = df_term_em_nonus.loc[:,'Current Duration']\n",
    "iteration_list_em_nonus = [abs(df_em_yield_curves['Term Structure'] - x).idxmin() for x in duration_list_em_nonus]\n",
    "\n",
    "tsy_yield_em_nonus = pd.DataFrame(index=range(1,11), columns=df_term_em_nonus.index)\n",
    "\n",
    "for i in range(1, 11):\n",
    "     tsy_yield_em_nonus.loc[i,:] = [df_em_yield_curves.iloc[x, i] for x in iteration_list_em_nonus]"
   ]
  },
  {
   "cell_type": "code",
   "execution_count": 77,
   "metadata": {},
   "outputs": [],
   "source": [
    "# Combine 3 structure dataframes\n",
    "df_fixed_order_nonus = df_synopsis_nonus.columns.tolist()\n",
    "\n",
    "future_treasury_yields_nonus = pd.concat([tsy_yield_us_nonus, tsy_yield_gl_nonus, tsy_yield_em_nonus], axis=1)\n",
    "future_treasury_yields_nonus = future_treasury_yields_nonus.reindex(columns=df_fixed_order_nonus)"
   ]
  },
  {
   "cell_type": "markdown",
   "metadata": {},
   "source": [
    "## Future Spreads"
   ]
  },
  {
   "cell_type": "code",
   "execution_count": 78,
   "metadata": {},
   "outputs": [],
   "source": [
    "# create base dataframe with current spreads\n",
    "future_spreads_nonus = pd.DataFrame(df_synopsis_nonus.loc['Current Spread',:])\n",
    "future_spreads_nonus = future_spreads_nonus.T\n",
    "\n",
    "for i in range(1,11):\n",
    "    future_spreads_nonus[i] = np.nan\n",
    "    \n",
    "future_spreads_nonus = future_spreads_nonus.reindex(columns=df_fixed_order_nonus)"
   ]
  },
  {
   "cell_type": "code",
   "execution_count": 79,
   "metadata": {},
   "outputs": [
    {
     "data": {
      "text/plain": [
       "Global Developed Market Sovereign Fixed Income    0.001327\n",
       "Global Developed Market Aggregate Fixed Income    0.004853\n",
       "Global High Yield Fixed Income                    0.054890\n",
       "Emerging Markets Local Currency Fixed Income      0.006422\n",
       "Emerging Markets Hard Currency Fixed Income       0.031547\n",
       "Emerging Markets Corporate Fixed Income           0.038432\n",
       "U.S. Treasury Bills                              -0.000997\n",
       "dtype: float64"
      ]
     },
     "execution_count": 79,
     "metadata": {},
     "output_type": "execute_result"
    }
   ],
   "source": [
    "# Winsorize spread norm\n",
    "spread_norm_nonus = []\n",
    "for i in range(len(df_spread_nonus.columns)):\n",
    "    list = mstats.winsorize(df_spread_nonus.iloc[:,i].dropna(), limits=[0.05, 0.05], inclusive=[False, False])\n",
    "\n",
    "    def Average(lst): \n",
    "        return sum(lst) / len(lst) \n",
    "    spread_norm_nonus.append(Average(list))\n",
    "    \n",
    "spread_norm_nonus = pd.Series(spread_norm_nonus)\n",
    "spread_norm_nonus.index = df_spread_nonus.columns"
   ]
  },
  {
   "cell_type": "code",
   "execution_count": 80,
   "metadata": {},
   "outputs": [],
   "source": [
    "# Create shell dataframe\n",
    "for i in range(1, 11):\n",
    "    future_spreads_nonus.loc[i] = np.nan\n",
    "\n",
    "# Calculate normalized spread path\n",
    "for i in range(cma.val_dict['spread_norm_yrs'], 11):\n",
    "    future_spreads_nonus.iloc[i,:] = spread_norm_nonus\n",
    "\n",
    "# Populate data for years leading up to normalization\n",
    "for i in range(1, cma.val_dict['spread_norm_yrs']):\n",
    "    future_spreads_nonus.iloc[i,:] = (future_spreads_nonus.iloc[cma.val_dict['spread_norm_yrs'],:] - future_spreads_nonus.iloc[0,:]) / cma.val_dict['spread_norm_yrs'] + future_spreads_nonus.iloc[i-1,:]\n"
   ]
  },
  {
   "cell_type": "markdown",
   "metadata": {},
   "source": [
    "## Yield Forecast"
   ]
  },
  {
   "cell_type": "code",
   "execution_count": 81,
   "metadata": {},
   "outputs": [
    {
     "data": {
      "text/html": [
       "<div>\n",
       "<style scoped>\n",
       "    .dataframe tbody tr th:only-of-type {\n",
       "        vertical-align: middle;\n",
       "    }\n",
       "\n",
       "    .dataframe tbody tr th {\n",
       "        vertical-align: top;\n",
       "    }\n",
       "\n",
       "    .dataframe thead th {\n",
       "        text-align: right;\n",
       "    }\n",
       "</style>\n",
       "<table border=\"1\" class=\"dataframe\">\n",
       "  <thead>\n",
       "    <tr style=\"text-align: right;\">\n",
       "      <th></th>\n",
       "      <th>Global Developed Market Sovereign Fixed Income</th>\n",
       "      <th>Global Developed Market Aggregate Fixed Income</th>\n",
       "      <th>Global High Yield Fixed Income</th>\n",
       "      <th>Emerging Markets Local Currency Fixed Income</th>\n",
       "      <th>Emerging Markets Hard Currency Fixed Income</th>\n",
       "      <th>Emerging Markets Corporate Fixed Income</th>\n",
       "      <th>U.S. Treasury Bills</th>\n",
       "    </tr>\n",
       "  </thead>\n",
       "  <tbody>\n",
       "    <tr>\n",
       "      <td>Current Yield</td>\n",
       "      <td>0.013300</td>\n",
       "      <td>0.020300</td>\n",
       "      <td>0.076600</td>\n",
       "      <td>0.049600</td>\n",
       "      <td>0.048100</td>\n",
       "      <td>0.064500</td>\n",
       "      <td>0.0245</td>\n",
       "    </tr>\n",
       "    <tr>\n",
       "      <td>1</td>\n",
       "      <td>0.019350</td>\n",
       "      <td>0.022571</td>\n",
       "      <td>0.070473</td>\n",
       "      <td>0.057871</td>\n",
       "      <td>0.054367</td>\n",
       "      <td>0.066704</td>\n",
       "      <td>NaN</td>\n",
       "    </tr>\n",
       "    <tr>\n",
       "      <td>2</td>\n",
       "      <td>0.023069</td>\n",
       "      <td>0.026230</td>\n",
       "      <td>0.074023</td>\n",
       "      <td>0.059665</td>\n",
       "      <td>0.058820</td>\n",
       "      <td>0.069794</td>\n",
       "      <td>NaN</td>\n",
       "    </tr>\n",
       "    <tr>\n",
       "      <td>3</td>\n",
       "      <td>0.026788</td>\n",
       "      <td>0.029889</td>\n",
       "      <td>0.077574</td>\n",
       "      <td>0.061458</td>\n",
       "      <td>0.063273</td>\n",
       "      <td>0.072884</td>\n",
       "      <td>NaN</td>\n",
       "    </tr>\n",
       "    <tr>\n",
       "      <td>4</td>\n",
       "      <td>0.030507</td>\n",
       "      <td>0.033549</td>\n",
       "      <td>0.081125</td>\n",
       "      <td>0.063252</td>\n",
       "      <td>0.064543</td>\n",
       "      <td>0.072791</td>\n",
       "      <td>NaN</td>\n",
       "    </tr>\n",
       "    <tr>\n",
       "      <td>5</td>\n",
       "      <td>0.034226</td>\n",
       "      <td>0.037208</td>\n",
       "      <td>0.084676</td>\n",
       "      <td>0.065046</td>\n",
       "      <td>0.065812</td>\n",
       "      <td>0.072697</td>\n",
       "      <td>NaN</td>\n",
       "    </tr>\n",
       "    <tr>\n",
       "      <td>6</td>\n",
       "      <td>0.034226</td>\n",
       "      <td>0.037208</td>\n",
       "      <td>0.084676</td>\n",
       "      <td>0.065046</td>\n",
       "      <td>0.065812</td>\n",
       "      <td>0.072697</td>\n",
       "      <td>NaN</td>\n",
       "    </tr>\n",
       "    <tr>\n",
       "      <td>7</td>\n",
       "      <td>0.034226</td>\n",
       "      <td>0.037208</td>\n",
       "      <td>0.084676</td>\n",
       "      <td>0.065046</td>\n",
       "      <td>0.065812</td>\n",
       "      <td>0.072697</td>\n",
       "      <td>NaN</td>\n",
       "    </tr>\n",
       "    <tr>\n",
       "      <td>8</td>\n",
       "      <td>0.034226</td>\n",
       "      <td>0.037208</td>\n",
       "      <td>0.084676</td>\n",
       "      <td>0.065046</td>\n",
       "      <td>0.065812</td>\n",
       "      <td>0.072697</td>\n",
       "      <td>NaN</td>\n",
       "    </tr>\n",
       "    <tr>\n",
       "      <td>9</td>\n",
       "      <td>0.034226</td>\n",
       "      <td>0.037208</td>\n",
       "      <td>0.084676</td>\n",
       "      <td>0.065046</td>\n",
       "      <td>0.065812</td>\n",
       "      <td>0.072697</td>\n",
       "      <td>NaN</td>\n",
       "    </tr>\n",
       "    <tr>\n",
       "      <td>10</td>\n",
       "      <td>0.034226</td>\n",
       "      <td>0.037208</td>\n",
       "      <td>0.084676</td>\n",
       "      <td>0.065046</td>\n",
       "      <td>0.065812</td>\n",
       "      <td>0.072697</td>\n",
       "      <td>NaN</td>\n",
       "    </tr>\n",
       "  </tbody>\n",
       "</table>\n",
       "</div>"
      ],
      "text/plain": [
       "               Global Developed Market Sovereign Fixed Income  \\\n",
       "Current Yield                                        0.013300   \n",
       "1                                                    0.019350   \n",
       "2                                                    0.023069   \n",
       "3                                                    0.026788   \n",
       "4                                                    0.030507   \n",
       "5                                                    0.034226   \n",
       "6                                                    0.034226   \n",
       "7                                                    0.034226   \n",
       "8                                                    0.034226   \n",
       "9                                                    0.034226   \n",
       "10                                                   0.034226   \n",
       "\n",
       "               Global Developed Market Aggregate Fixed Income  \\\n",
       "Current Yield                                        0.020300   \n",
       "1                                                    0.022571   \n",
       "2                                                    0.026230   \n",
       "3                                                    0.029889   \n",
       "4                                                    0.033549   \n",
       "5                                                    0.037208   \n",
       "6                                                    0.037208   \n",
       "7                                                    0.037208   \n",
       "8                                                    0.037208   \n",
       "9                                                    0.037208   \n",
       "10                                                   0.037208   \n",
       "\n",
       "               Global High Yield Fixed Income  \\\n",
       "Current Yield                        0.076600   \n",
       "1                                    0.070473   \n",
       "2                                    0.074023   \n",
       "3                                    0.077574   \n",
       "4                                    0.081125   \n",
       "5                                    0.084676   \n",
       "6                                    0.084676   \n",
       "7                                    0.084676   \n",
       "8                                    0.084676   \n",
       "9                                    0.084676   \n",
       "10                                   0.084676   \n",
       "\n",
       "               Emerging Markets Local Currency Fixed Income  \\\n",
       "Current Yield                                      0.049600   \n",
       "1                                                  0.057871   \n",
       "2                                                  0.059665   \n",
       "3                                                  0.061458   \n",
       "4                                                  0.063252   \n",
       "5                                                  0.065046   \n",
       "6                                                  0.065046   \n",
       "7                                                  0.065046   \n",
       "8                                                  0.065046   \n",
       "9                                                  0.065046   \n",
       "10                                                 0.065046   \n",
       "\n",
       "               Emerging Markets Hard Currency Fixed Income  \\\n",
       "Current Yield                                     0.048100   \n",
       "1                                                 0.054367   \n",
       "2                                                 0.058820   \n",
       "3                                                 0.063273   \n",
       "4                                                 0.064543   \n",
       "5                                                 0.065812   \n",
       "6                                                 0.065812   \n",
       "7                                                 0.065812   \n",
       "8                                                 0.065812   \n",
       "9                                                 0.065812   \n",
       "10                                                0.065812   \n",
       "\n",
       "               Emerging Markets Corporate Fixed Income  U.S. Treasury Bills  \n",
       "Current Yield                                 0.064500               0.0245  \n",
       "1                                             0.066704                  NaN  \n",
       "2                                             0.069794                  NaN  \n",
       "3                                             0.072884                  NaN  \n",
       "4                                             0.072791                  NaN  \n",
       "5                                             0.072697                  NaN  \n",
       "6                                             0.072697                  NaN  \n",
       "7                                             0.072697                  NaN  \n",
       "8                                             0.072697                  NaN  \n",
       "9                                             0.072697                  NaN  \n",
       "10                                            0.072697                  NaN  "
      ]
     },
     "execution_count": 81,
     "metadata": {},
     "output_type": "execute_result"
    }
   ],
   "source": [
    "future_yields_nonus = pd.DataFrame(df_synopsis_nonus.loc['Current Yield',:])\n",
    "\n",
    "future_yields_nonus = future_yields_nonus.T\n",
    "#future_yields_nonus = future_yields.reindex(columns=df_fixed_order)\n",
    "\n",
    "for i in range(1, 11):\n",
    "    future_yields_nonus.loc[i,:] = future_treasury_yields_nonus.loc[i,:] + future_spreads_nonus.loc[i,:]"
   ]
  },
  {
   "cell_type": "markdown",
   "metadata": {},
   "source": [
    "## Duration Forecast"
   ]
  },
  {
   "cell_type": "code",
   "execution_count": 82,
   "metadata": {},
   "outputs": [],
   "source": [
    "future_duration_nonus = pd.DataFrame(df_synopsis_nonus.loc['Current Duration',:])\n",
    "future_duration_nonus = future_duration_nonus.T\n",
    "future_duration_nonus = future_duration_nonus.reindex(columns=df_fixed_order_nonus)\n",
    "\n",
    "for i in range(1, 11):\n",
    "     future_duration_nonus.loc[i,:] = df_synopsis_nonus.loc['Current Duration',:]"
   ]
  },
  {
   "cell_type": "markdown",
   "metadata": {},
   "source": [
    "## Annual Return"
   ]
  },
  {
   "cell_type": "code",
   "execution_count": 83,
   "metadata": {},
   "outputs": [],
   "source": [
    "# Default Rates\n",
    "df_default_nonus = []\n",
    "for key, item in cma.val_dict.items():\n",
    "    if 'fixed_nonus_default' in key:\n",
    "        df_default_nonus.append(item)\n",
    "df_default_nonus = [item for item in df_default_nonus if item != '']\n",
    "df_default_nonus = [x / 100 for x in df_default_nonus]\n",
    "\n",
    "# Recovery Rates\n",
    "df_recovery_nonus = []\n",
    "for key, item in cma.val_dict.items():\n",
    "    if 'fixed_nonus_recover' in key:\n",
    "        df_recovery_nonus.append(item)\n",
    "df_recovery_nonus = [item for item in df_recovery_nonus if item != '']\n",
    "df_recovery_nonus = [x / 100 for x in df_recovery_nonus]\n",
    "df_recovery_nonus = [1 - x for x in df_recovery_nonus]\n",
    "\n",
    "default_impact_nonus = [a*b for a,b in zip(df_default_nonus, df_recovery_nonus)]"
   ]
  },
  {
   "cell_type": "code",
   "execution_count": 84,
   "metadata": {},
   "outputs": [],
   "source": [
    "annual_returns_nonus = pd.DataFrame(df_synopsis_nonus.loc['Current Yield',:])\n",
    "annual_returns_nonus = annual_returns_nonus.T\n",
    "\n",
    "for i in range(1, 11):\n",
    "      annual_returns_nonus.loc[i,:] = future_yields_nonus.iloc[i-1,:] - (future_yields_nonus.iloc[i,:] - future_yields_nonus.iloc[i-1,:]) * future_duration_nonus.iloc[i-1,:]\\\n",
    "        +100 *(future_yields_nonus.iloc[i,:] - future_yields_nonus.iloc[i-1,:]) **2 \n",
    "\n",
    "annual_returns_nonus = annual_returns_nonus.iloc[1:,:-1]\n",
    "\n",
    "# Adjust for default and recovery rates\n",
    "for i in range(len(annual_returns_nonus.columns)):\n",
    "    annual_returns_nonus.iloc[:,i] = annual_returns_nonus.iloc[:,i] - default_impact_nonus[i]"
   ]
  },
  {
   "cell_type": "code",
   "execution_count": 85,
   "metadata": {},
   "outputs": [],
   "source": [
    "# Expected return \n",
    "expected_returns_fixed_nonus = ((annual_returns_nonus + 1).product(axis=0)**(1/10)-1)"
   ]
  },
  {
   "cell_type": "markdown",
   "metadata": {},
   "source": [
    "## Income Return"
   ]
  },
  {
   "cell_type": "code",
   "execution_count": 86,
   "metadata": {
    "lines_to_next_cell": 0
   },
   "outputs": [],
   "source": [
    "avg_yield_nonus = future_yields_nonus.mean()\n",
    "\n",
    "diff = [first * second for first, second in zip(df_default_nonus, df_recovery_nonus)]\n",
    "income_return_nonus = [first - second for first, second in zip(avg_yield_nonus, diff)]\n",
    "df_income_return_nonus = pd.DataFrame(income_return_nonus)\n",
    "\n",
    "# Create dataframe of info\n",
    "\n",
    "df_income_return_nonus.index =  annual_returns_nonus.columns\n",
    "df_income_return_nonus = df_income_return_nonus.rename(columns={0: \"Avg Yield\"})\n",
    "\n",
    "df_income_return_nonus['Term Structure'] = df_term_combined_nonus['Term Structure']\n",
    "df_income_return_nonus['Expected Return'] = expected_returns_fixed_nonus"
   ]
  },
  {
   "cell_type": "markdown",
   "metadata": {
    "lines_to_next_cell": 2
   },
   "source": [
    "## Final Return"
   ]
  },
  {
   "cell_type": "code",
   "execution_count": 87,
   "metadata": {},
   "outputs": [],
   "source": [
    "# Split dataframes based on term structure\n",
    "df_return_us_nonus = df_income_return_nonus[df_income_return_nonus['Term Structure'] == 'US'].loc[:,'Expected Return']\n",
    "df_return_gl_nonus = df_income_return_nonus[df_income_return_nonus['Term Structure'] == 'NonUS'].loc[:,'Expected Return']\n",
    "df_return_em_nonus = df_income_return_nonus[df_income_return_nonus['Term Structure'] == 'EM'].loc[:,'Expected Return']\n",
    "\n",
    "# US based inflation\n",
    "final_return_us_nonus = df_return_us_nonus + cma.val_dict['country_inflation']/100 - cma.val_dict['us_inflation']/100\n",
    "\n",
    "# Global based inflation\n",
    "final_return_gl_nonus = df_return_gl_nonus + cma.val_dict['country_inflation']/100 - cma.val_dict['global_inflation']/100\n",
    "\n",
    "# EM based inflation\n",
    "final_return_em_nonus = df_return_em_nonus + cma.val_dict['country_inflation']/100 - cma.val_dict['em_inflation']/100\n",
    "\n",
    "# Combine all values\n",
    "final_return_fixed_income_nonus = final_return_gl_nonus.append(final_return_us_nonus).append(final_return_em_nonus).rename('Adjusted Final Return') "
   ]
  },
  {
   "cell_type": "code",
   "execution_count": 88,
   "metadata": {},
   "outputs": [
    {
     "data": {
      "text/html": [
       "<div>\n",
       "<style scoped>\n",
       "    .dataframe tbody tr th:only-of-type {\n",
       "        vertical-align: middle;\n",
       "    }\n",
       "\n",
       "    .dataframe tbody tr th {\n",
       "        vertical-align: top;\n",
       "    }\n",
       "\n",
       "    .dataframe thead th {\n",
       "        text-align: right;\n",
       "    }\n",
       "</style>\n",
       "<table border=\"1\" class=\"dataframe\">\n",
       "  <thead>\n",
       "    <tr style=\"text-align: right;\">\n",
       "      <th></th>\n",
       "      <th>Avg Yield</th>\n",
       "      <th>Term Structure</th>\n",
       "      <th>Expected Return</th>\n",
       "      <th>Adjusted Final Return</th>\n",
       "    </tr>\n",
       "  </thead>\n",
       "  <tbody>\n",
       "    <tr>\n",
       "      <td>Global Developed Market Sovereign Fixed Income</td>\n",
       "      <td>0.028193</td>\n",
       "      <td>NonUS</td>\n",
       "      <td>0.011580</td>\n",
       "      <td>0.014580</td>\n",
       "    </tr>\n",
       "    <tr>\n",
       "      <td>Global Developed Market Aggregate Fixed Income</td>\n",
       "      <td>0.031344</td>\n",
       "      <td>NonUS</td>\n",
       "      <td>0.019541</td>\n",
       "      <td>0.022541</td>\n",
       "    </tr>\n",
       "    <tr>\n",
       "      <td>Global High Yield Fixed Income</td>\n",
       "      <td>0.059713</td>\n",
       "      <td>NonUS</td>\n",
       "      <td>0.056671</td>\n",
       "      <td>0.059671</td>\n",
       "    </tr>\n",
       "    <tr>\n",
       "      <td>Emerging Markets Local Currency Fixed Income</td>\n",
       "      <td>0.057761</td>\n",
       "      <td>EM</td>\n",
       "      <td>0.048837</td>\n",
       "      <td>0.039837</td>\n",
       "    </tr>\n",
       "    <tr>\n",
       "      <td>Emerging Markets Hard Currency Fixed Income</td>\n",
       "      <td>0.057929</td>\n",
       "      <td>US</td>\n",
       "      <td>0.049917</td>\n",
       "      <td>0.048917</td>\n",
       "    </tr>\n",
       "    <tr>\n",
       "      <td>Emerging Markets Corporate Fixed Income</td>\n",
       "      <td>0.064169</td>\n",
       "      <td>US</td>\n",
       "      <td>0.060712</td>\n",
       "      <td>0.059712</td>\n",
       "    </tr>\n",
       "  </tbody>\n",
       "</table>\n",
       "</div>"
      ],
      "text/plain": [
       "                                                Avg Yield Term Structure  \\\n",
       "Global Developed Market Sovereign Fixed Income   0.028193          NonUS   \n",
       "Global Developed Market Aggregate Fixed Income   0.031344          NonUS   \n",
       "Global High Yield Fixed Income                   0.059713          NonUS   \n",
       "Emerging Markets Local Currency Fixed Income     0.057761             EM   \n",
       "Emerging Markets Hard Currency Fixed Income      0.057929             US   \n",
       "Emerging Markets Corporate Fixed Income          0.064169             US   \n",
       "\n",
       "                                                Expected Return  \\\n",
       "Global Developed Market Sovereign Fixed Income         0.011580   \n",
       "Global Developed Market Aggregate Fixed Income         0.019541   \n",
       "Global High Yield Fixed Income                         0.056671   \n",
       "Emerging Markets Local Currency Fixed Income           0.048837   \n",
       "Emerging Markets Hard Currency Fixed Income            0.049917   \n",
       "Emerging Markets Corporate Fixed Income                0.060712   \n",
       "\n",
       "                                                Adjusted Final Return  \n",
       "Global Developed Market Sovereign Fixed Income               0.014580  \n",
       "Global Developed Market Aggregate Fixed Income               0.022541  \n",
       "Global High Yield Fixed Income                               0.059671  \n",
       "Emerging Markets Local Currency Fixed Income                 0.039837  \n",
       "Emerging Markets Hard Currency Fixed Income                  0.048917  \n",
       "Emerging Markets Corporate Fixed Income                      0.059712  "
      ]
     },
     "execution_count": 88,
     "metadata": {},
     "output_type": "execute_result"
    }
   ],
   "source": [
    "df_fixed_income_nonus_final = df_income_return_nonus.merge(final_return_fixed_income_nonus, left_index=True, right_index=True)"
   ]
  },
  {
   "cell_type": "code",
   "execution_count": null,
   "metadata": {},
   "outputs": [],
   "source": []
  }
 ],
 "metadata": {
  "jupytext": {
   "formats": "ipynb,py:light"
  },
  "kernelspec": {
   "display_name": "Python 3",
   "language": "python",
   "name": "python3"
  },
  "language_info": {
   "codemirror_mode": {
    "name": "ipython",
    "version": 3
   },
   "file_extension": ".py",
   "mimetype": "text/x-python",
   "name": "python",
   "nbconvert_exporter": "python",
   "pygments_lexer": "ipython3",
   "version": "3.7.3"
  }
 },
 "nbformat": 4,
 "nbformat_minor": 4
}
