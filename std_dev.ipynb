{
 "cells": [
  {
   "cell_type": "code",
   "execution_count": 1,
   "metadata": {},
   "outputs": [],
   "source": [
    "import cma_gui as cma\n",
    "import numpy as np\n",
    "import pandas as pd\n",
    "\n",
    "from statsmodels.stats.weightstats import DescrStatsW"
   ]
  },
  {
   "cell_type": "code",
   "execution_count": 2,
   "metadata": {
    "lines_to_next_cell": 0
   },
   "outputs": [],
   "source": [
    "# Exponential weight\n",
    "count = [x for x in range(240)]\n",
    "count.reverse()\n",
    "\n",
    "percent = [(1-cma.val_dict['lambda_val'])*(cma.val_dict['lambda_val']**x) for x in count]\n",
    "sum_val = sum(percent)\n",
    "\n",
    "exponential_weight = pd.Series([x / sum_val for x in percent])"
   ]
  },
  {
   "cell_type": "markdown",
   "metadata": {},
   "source": [
    "# Define functions"
   ]
  },
  {
   "cell_type": "markdown",
   "metadata": {
    "lines_to_next_cell": 2
   },
   "source": [
    "## Standard deviation functions"
   ]
  },
  {
   "cell_type": "code",
   "execution_count": 3,
   "metadata": {},
   "outputs": [],
   "source": [
    "def monthly_standard_dev(dataframe_returns, exponential_weight):\n",
    "    # Monthly variance\n",
    "    df_variance = (dataframe_returns - dataframe_returns.mean())**2 \n",
    "    func = lambda x: np.asarray(x) * np.asarray(exponential_weight)\n",
    "    df_variance = df_variance.apply(func)\n",
    "    monthly_variance = df_variance.sum()\n",
    "\n",
    "    # Monthly standard deviation\n",
    "    monthly_std_dev = np.sqrt(monthly_variance)   \n",
    "    return monthly_std_dev\n",
    "\n",
    "\n",
    "def exponential_std_dev(monthly_std_dev, exponential_weight, dataframe_returns):\n",
    "    # Annual adjusted standard deviation\n",
    "    monthly_std_dev_list = monthly_std_dev.tolist()\n",
    "\n",
    "    adj_sd_list2 = [x**2 for x in monthly_std_dev_list]\n",
    "    sum_prod = (1 + pd.Series([dataframe_returns.iloc[:,x].values.dot(exponential_weight.values) \n",
    "                               for x in range(len(dataframe_returns.columns))]))**2\n",
    "\n",
    "    base = [sum(x) for x in zip(sum_prod, adj_sd_list2)]\n",
    "    equation_p1 = [x**12 for x in base]\n",
    "\n",
    "    sum_prod2 = (1 + pd.Series([dataframe_returns.iloc[:,x].values.dot(exponential_weight.values) \n",
    "                                for x in range(len(dataframe_returns.columns))]))\n",
    "\n",
    "    base_2 = sum_prod2.tolist()\n",
    "    equation_p2 = [x ** (2*12) for x in base_2]\n",
    "\n",
    "    pre_final = [x-y for x,y in zip(equation_p1, equation_p2)]\n",
    "\n",
    "    annual_adj_std_dev = pd.DataFrame(np.sqrt(pre_final))\n",
    "    annual_adj_std_dev.index = dataframe_returns.columns\n",
    "    \n",
    "    return annual_adj_std_dev"
   ]
  },
  {
   "cell_type": "markdown",
   "metadata": {},
   "source": [
    "## Covariance and Correlation Matrices Functions"
   ]
  },
  {
   "cell_type": "code",
   "execution_count": 4,
   "metadata": {},
   "outputs": [],
   "source": [
    "def value_minus_mean(dataframe_returns, monthly_std_dev, exponential_weight):\n",
    "    # Value Minus Mean / Standard Deviation\n",
    "    average = dataframe_returns.mean()\n",
    "    value_minus_mean_div_sd = (dataframe_returns.sub(average)).div(monthly_std_dev)\n",
    "    value_minus_mean_div_sd.index = exponential_weight.index\n",
    "    return value_minus_mean_div_sd\n",
    "\n",
    "def exponential_correlation(value_minus_mean, exponential_weight):\n",
    "    exp_corr_raw = []\n",
    "    for x in range(len(value_minus_mean.columns)):\n",
    "        col = [(value_minus_mean.iloc[:,x]*value_minus_mean.iloc[:,i]*exponential_weight).sum() for i in range(len(value_minus_mean.columns))]\n",
    "        exp_corr_raw.append(col)\n",
    "    \n",
    "    exp_corr = pd.DataFrame(exp_corr_raw)\n",
    "    exp_corr.index = value_minus_mean.columns\n",
    "    exp_corr.columns = value_minus_mean.columns\n",
    "    return exp_corr\n",
    "\n",
    "def stand_dev_matrix(annual_adj_std_dev):\n",
    "    df_annual_adj_std_dev = pd.DataFrame(annual_adj_std_dev)\n",
    "    matrix_sd = df_annual_adj_std_dev.dot(df_annual_adj_std_dev.T)\n",
    "    return matrix_sd"
   ]
  },
  {
   "cell_type": "markdown",
   "metadata": {},
   "source": [
    "# USD"
   ]
  },
  {
   "cell_type": "markdown",
   "metadata": {},
   "source": [
    "## Import Data"
   ]
  },
  {
   "cell_type": "code",
   "execution_count": 5,
   "metadata": {
    "lines_to_next_cell": 0
   },
   "outputs": [],
   "source": [
    "# Extract Indices\n",
    "equity_us_code = list(filter(None, list({k:v for (k,v) in cma.val_dict.items() if 'equity_us_code' in k}.values())))\n",
    "fixed_us_code = list(filter(None, list({k:v for (k,v) in cma.val_dict.items() if 'fixed_us_code' in k}.values())))\n",
    "alts_us_code = list(filter(None, list({k:v for (k,v) in cma.val_dict.items() if 'alts_us_code' in k}.values())))\n",
    "\n",
    "# Import returns\n",
    "df_returns_us = pd.read_csv('P:\\\\Advisory\\\\Research\\\\Automation\\\\CMAs\\\\Data\\\\combined_returns_us.csv', index_col=0)/100"
   ]
  },
  {
   "cell_type": "markdown",
   "metadata": {},
   "source": [
    "## Standard Deviations"
   ]
  },
  {
   "cell_type": "code",
   "execution_count": 6,
   "metadata": {},
   "outputs": [],
   "source": [
    "# Monthly standard deviation\n",
    "monthly_std_dev_us = monthly_standard_dev(df_returns_us, exponential_weight)\n",
    "\n",
    "# Annual adjusted standard deviation\n",
    "annual_adj_std_dev_us = exponential_std_dev(monthly_std_dev_us, exponential_weight, df_returns_us)"
   ]
  },
  {
   "cell_type": "markdown",
   "metadata": {},
   "source": [
    "## Covariance and Correlation Matrices"
   ]
  },
  {
   "cell_type": "code",
   "execution_count": 7,
   "metadata": {},
   "outputs": [],
   "source": [
    "value_minus_mean_div_sd_us = value_minus_mean(df_returns_us, monthly_std_dev_us, exponential_weight)\n",
    "\n",
    "# Exponential correlation\n",
    "exp_corr_us = exponential_correlation(value_minus_mean_div_sd_us, exponential_weight)\n",
    "\n",
    "# Exponential covariance\n",
    "matrix_sd_us = stand_dev_matrix(annual_adj_std_dev_us)\n",
    "exp_cov_us = exp_corr_us.mul(matrix_sd_us, axis=0)\n",
    "\n",
    "# Final correlation matrix\n",
    "corr_matrix_final_us = (exp_cov_us.div(matrix_sd_us))"
   ]
  },
  {
   "cell_type": "markdown",
   "metadata": {},
   "source": [
    "# Non-USD"
   ]
  },
  {
   "cell_type": "markdown",
   "metadata": {},
   "source": [
    "## Import Data"
   ]
  },
  {
   "cell_type": "code",
   "execution_count": 8,
   "metadata": {},
   "outputs": [],
   "source": [
    "# Extract Indices\n",
    "equity_nonus_code = list(filter(None, list({k:v for (k,v) in cma.val_dict.items() if 'equity_nonus_code' in k}.values())))\n",
    "fixed_nonus_code = list(filter(None, list({k:v for (k,v) in cma.val_dict.items() if 'fixed_nonus_code' in k}.values())))\n",
    "alts_nonus_code = list(filter(None, list({k:v for (k,v) in cma.val_dict.items() if 'alts_nonus_code' in k}.values())))\n",
    "\n",
    "# Import returns\n",
    "df_returns_nonus = pd.read_csv('P:\\\\Advisory\\\\Research\\\\Automation\\\\CMAs\\\\Data\\\\combined_returns_nonus.csv', index_col=0)"
   ]
  },
  {
   "cell_type": "markdown",
   "metadata": {},
   "source": [
    "## Standard Deviations"
   ]
  },
  {
   "cell_type": "code",
   "execution_count": 9,
   "metadata": {},
   "outputs": [],
   "source": [
    "# Monthly standard deviation\n",
    "monthly_std_dev_nonus = monthly_standard_dev(df_returns_nonus, exponential_weight)\n",
    "\n",
    "# Annual adjusted standard deviation\n",
    "annual_adj_std_dev_nonus = exponential_std_dev(monthly_std_dev_nonus, exponential_weight, df_returns_nonus)"
   ]
  },
  {
   "cell_type": "markdown",
   "metadata": {},
   "source": [
    "## Covariance and Correlation Matrices"
   ]
  },
  {
   "cell_type": "code",
   "execution_count": 10,
   "metadata": {},
   "outputs": [],
   "source": [
    "value_minus_mean_div_sd_nonus = value_minus_mean(df_returns_nonus, monthly_std_dev_nonus, exponential_weight)\n",
    "\n",
    "# Exponential correlation\n",
    "exp_corr_nonus = exponential_correlation(value_minus_mean_div_sd_nonus, exponential_weight)\n",
    "\n",
    "# Exponential covariance\n",
    "matrix_sd_nonus = stand_dev_matrix(annual_adj_std_dev_nonus)\n",
    "exp_cov_nonus = exp_corr_nonus.mul(matrix_sd_nonus, axis=0)\n",
    "\n",
    "# Final correlation matrix\n",
    "corr_matrix_final_nonus = (exp_cov_nonus.div(matrix_sd_nonus))"
   ]
  }
 ],
 "metadata": {
  "jupytext": {
   "formats": "ipynb,py:light"
  },
  "kernelspec": {
   "display_name": "Python 3",
   "language": "python",
   "name": "python3"
  },
  "language_info": {
   "codemirror_mode": {
    "name": "ipython",
    "version": 3
   },
   "file_extension": ".py",
   "mimetype": "text/x-python",
   "name": "python",
   "nbconvert_exporter": "python",
   "pygments_lexer": "ipython3",
   "version": "3.7.3"
  },
  "toc-autonumbering": true
 },
 "nbformat": 4,
 "nbformat_minor": 4
}
